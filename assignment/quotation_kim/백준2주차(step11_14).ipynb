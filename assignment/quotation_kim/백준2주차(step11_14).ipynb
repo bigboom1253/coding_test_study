{
  "nbformat": 4,
  "nbformat_minor": 0,
  "metadata": {
    "colab": {
      "name": "백준2주차(step11-14).ipynb",
      "provenance": [],
      "collapsed_sections": [],
      "authorship_tag": "ABX9TyMyq3h4xzhZ0/bXWtDeBhbJ",
      "include_colab_link": true
    },
    "kernelspec": {
      "name": "python3",
      "display_name": "Python 3"
    }
  },
  "cells": [
    {
      "cell_type": "markdown",
      "metadata": {
        "id": "view-in-github",
        "colab_type": "text"
      },
      "source": [
        "<a href=\"https://colab.research.google.com/github/bigboom1253/coding_test_study/blob/master/assignment/quotation_kim/%EB%B0%B1%EC%A4%802%EC%A3%BC%EC%B0%A8(step11_14).ipynb\" target=\"_parent\"><img src=\"https://colab.research.google.com/assets/colab-badge.svg\" alt=\"Open In Colab\"/></a>"
      ]
    },
    {
      "cell_type": "markdown",
      "metadata": {
        "id": "XaFt2rbkJiad",
        "colab_type": "text"
      },
      "source": [
        "재귀 - 팩토리얼"
      ]
    },
    {
      "cell_type": "code",
      "metadata": {
        "id": "ZPT33e-tBWWg",
        "colab_type": "code",
        "colab": {
          "base_uri": "https://localhost:8080/",
          "height": 53
        },
        "outputId": "96231d42-b9ea-4c4b-861a-6628fc368868"
      },
      "source": [
        "n=int(input())\n",
        "def factorial(n):\n",
        "    if n <1 :\n",
        "        return 1\n",
        "    else:\n",
        "        return n*factorial(n-1)\n",
        "print(factorial(n))"
      ],
      "execution_count": 1,
      "outputs": [
        {
          "output_type": "stream",
          "text": [
            "5\n",
            "120\n"
          ],
          "name": "stdout"
        }
      ]
    },
    {
      "cell_type": "markdown",
      "metadata": {
        "id": "DqzOQoKYJl-7",
        "colab_type": "text"
      },
      "source": [
        "재귀 - 피보나치"
      ]
    },
    {
      "cell_type": "code",
      "metadata": {
        "id": "zt7iHTsQCRBR",
        "colab_type": "code",
        "colab": {
          "base_uri": "https://localhost:8080/",
          "height": 53
        },
        "outputId": "22aeb655-f4b2-4c99-dc50-72b7aa49262e"
      },
      "source": [
        "n = int(input())\n",
        "def fibo(n):\n",
        "    if n==0:\n",
        "        return 0\n",
        "    elif n==1:\n",
        "        return 1\n",
        "    else:\n",
        "        return fibo(n-1)+fibo(n-2)\n",
        "print(fibo(n))"
      ],
      "execution_count": 2,
      "outputs": [
        {
          "output_type": "stream",
          "text": [
            "15\n",
            "610\n"
          ],
          "name": "stdout"
        }
      ]
    },
    {
      "cell_type": "markdown",
      "metadata": {
        "id": "jz2X97k8jBpj",
        "colab_type": "text"
      },
      "source": [
        "브루트포스 - 덩치"
      ]
    },
    {
      "cell_type": "code",
      "metadata": {
        "id": "DiOTDdYjJqv_",
        "colab_type": "code",
        "colab": {
          "base_uri": "https://localhost:8080/",
          "height": 215
        },
        "outputId": "b0d5dc53-e7ba-4d98-8b1f-51894587a876"
      },
      "source": [
        "n = int(input())\n",
        "info = []\n",
        "for i in range(n):\n",
        "    w, h = map(int, input().split())\n",
        "    info.append((w,h))\n",
        "\n",
        "for p in info:\n",
        "    rank = 0\n",
        "\n",
        "    for o in info:\n",
        "        if (p[0]!=o[0]) & (p[1]!=o[1]):\n",
        "            if p[0]<o[0] and  p[1]<o[1] :\n",
        "                rank+=1\n",
        "\n",
        "    print(rank+1)"
      ],
      "execution_count": 72,
      "outputs": [
        {
          "output_type": "stream",
          "text": [
            "5\n",
            "59 172\n",
            "72 172\n",
            "45 161\n",
            "47 155\n",
            "52 158\n",
            "1\n",
            "1\n",
            "3\n",
            "4\n",
            "3\n"
          ],
          "name": "stdout"
        }
      ]
    },
    {
      "cell_type": "markdown",
      "metadata": {
        "id": "29B5V2rGjJPB",
        "colab_type": "text"
      },
      "source": [
        "브루트포스 - 영화감독 숌"
      ]
    },
    {
      "cell_type": "code",
      "metadata": {
        "id": "KWEq9JzKYPT2",
        "colab_type": "code",
        "colab": {
          "base_uri": "https://localhost:8080/",
          "height": 53
        },
        "outputId": "e2f1e3db-7cdc-44b9-a54a-b762a5d9094c"
      },
      "source": [
        "n = int(input())\n",
        "movie = 666\n",
        "\n",
        "while n:\n",
        "    if \"666\" in str(movie):\n",
        "        n -= 1\n",
        "    movie += 1\n",
        "\n",
        "print(movie - 1)"
      ],
      "execution_count": 22,
      "outputs": [
        {
          "output_type": "stream",
          "text": [
            "5\n",
            "4666\n"
          ],
          "name": "stdout"
        }
      ]
    },
    {
      "cell_type": "markdown",
      "metadata": {
        "id": "3L4nF_g9jgOu",
        "colab_type": "text"
      },
      "source": [
        "정렬 - 수 정렬하기"
      ]
    },
    {
      "cell_type": "code",
      "metadata": {
        "id": "GBGrqvpQjeeh",
        "colab_type": "code",
        "colab": {
          "base_uri": "https://localhost:8080/",
          "height": 359
        },
        "outputId": "20a9d628-9fe3-43e6-ce79-4e9ab13d24c0"
      },
      "source": [
        "n = int(input())\n",
        "lis = []\n",
        "for i in range(n):\n",
        "    lis.append(int(input()))\n",
        "\n",
        "lis.sort()\n",
        "\n",
        "for i in lis:\n",
        "    print(i)"
      ],
      "execution_count": 31,
      "outputs": [
        {
          "output_type": "stream",
          "text": [
            "9\n",
            "5\n",
            "1\n",
            "2\n",
            "3\n",
            "7\n",
            "2\n",
            "9\n",
            "6\n",
            "4\n",
            "1\n",
            "2\n",
            "2\n",
            "3\n",
            "4\n",
            "5\n",
            "6\n",
            "7\n",
            "9\n"
          ],
          "name": "stdout"
        }
      ]
    },
    {
      "cell_type": "markdown",
      "metadata": {
        "id": "XEynd39VpvLq",
        "colab_type": "text"
      },
      "source": [
        "정렬 - 통계학"
      ]
    },
    {
      "cell_type": "code",
      "metadata": {
        "id": "ipqvm2GHptST",
        "colab_type": "code",
        "colab": {
          "base_uri": "https://localhost:8080/",
          "height": 197
        },
        "outputId": "9c52cf8d-5eca-4095-8728-cd6150026a4d"
      },
      "source": [
        "n = int(input())\n",
        "lis = []\n",
        "for i in range(n):\n",
        "    lis.append(int(input()))\n",
        "lis.sort()\n",
        "\n",
        "if n==1:\n",
        "    print(lis[0])\n",
        "    print(lis[0])\n",
        "    print(1)\n",
        "    print(0)\n",
        "\n",
        "else:\n",
        "    for i in lis:\n",
        "        freq_lis.append(lis.count(i))\n",
        "        a = max(freq_lis)\n",
        "    print(round(sum(lis)/n))\n",
        "    print(lis[n//2])\n",
        "    print(a)\n",
        "    print(lis[n-1]-lis[0])"
      ],
      "execution_count": 65,
      "outputs": [
        {
          "output_type": "stream",
          "text": [
            "5\n",
            "1\n",
            "3\n",
            "8\n",
            "-2\n",
            "2\n",
            "2\n",
            "2\n",
            "1\n",
            "10\n"
          ],
          "name": "stdout"
        }
      ]
    }
  ]
}
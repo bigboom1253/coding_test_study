{
  "nbformat": 4,
  "nbformat_minor": 0,
  "metadata": {
    "colab": {
      "name": "백준1주차(step1-10).ipynb",
      "provenance": [],
      "collapsed_sections": []
    },
    "kernelspec": {
      "name": "python3",
      "display_name": "Python 3"
    }
  },
  "cells": [
    {
      "cell_type": "code",
      "metadata": {
        "id": "yne4syf45R9N",
        "colab_type": "code",
        "colab": {
          "base_uri": "https://localhost:8080/",
          "height": 35
        },
        "outputId": "9147c230-0c2b-41a2-a91a-351901291a44"
      },
      "source": [
        "# 입출력과 사칙연산 - Hello World\n",
        "print('Hello World!')"
      ],
      "execution_count": null,
      "outputs": [
        {
          "output_type": "stream",
          "text": [
            "Hello World!\n"
          ],
          "name": "stdout"
        }
      ]
    },
    {
      "cell_type": "code",
      "metadata": {
        "id": "oj-EfT8WuXoP",
        "colab_type": "code",
        "colab": {
          "base_uri": "https://localhost:8080/",
          "height": 90
        },
        "outputId": "f1466604-674d-4bce-c10d-1a72cd06ac8b"
      },
      "source": [
        "# 입출력과 사칙연산 - 고양이\n",
        "print(\"\\\\    /\\\\\\n )  ( ')\\n(  /  )\\n \\(__)|\")"
      ],
      "execution_count": null,
      "outputs": [
        {
          "output_type": "stream",
          "text": [
            "\\    /\\\n",
            " )  ( ')\n",
            "(  /  )\n",
            " \\(__)|\n"
          ],
          "name": "stdout"
        }
      ]
    },
    {
      "cell_type": "code",
      "metadata": {
        "id": "vwxfnpoU54jm",
        "colab_type": "code",
        "colab": {
          "base_uri": "https://localhost:8080/",
          "height": 54
        },
        "outputId": "12a2c857-bbf4-4e98-fee5-96cbcfa68d1e"
      },
      "source": [
        "# if문 - 두 수 비교하기\n",
        "A, B = input().split(' ')\n",
        "A = int(A)\n",
        "B = int(B)\n",
        "if A>B:\n",
        "    print('>')\n",
        "elif A<B:\n",
        "    print('<')\n",
        "else :\n",
        "    print('==')"
      ],
      "execution_count": null,
      "outputs": [
        {
          "output_type": "stream",
          "text": [
            "6 4\n",
            ">\n"
          ],
          "name": "stdout"
        }
      ]
    },
    {
      "cell_type": "code",
      "metadata": {
        "id": "zkwTeuHu8fom",
        "colab_type": "code",
        "colab": {
          "base_uri": "https://localhost:8080/",
          "height": 54
        },
        "outputId": "2d7cd846-c50b-46f2-a92f-58e3c8fbdb31"
      },
      "source": [
        "# if문 - 윤년\n",
        "year = int(input(''))\n",
        "\n",
        "if year%4 == 0 and year%100 != 0:\n",
        "    print('1')\n",
        "elif year%400  == 0:\n",
        "    print('1')\n",
        "else:\n",
        "    print('0')"
      ],
      "execution_count": null,
      "outputs": [
        {
          "output_type": "stream",
          "text": [
            "2012\n",
            "1\n"
          ],
          "name": "stdout"
        }
      ]
    },
    {
      "cell_type": "code",
      "metadata": {
        "id": "G7rK09CD_qEz",
        "colab_type": "code",
        "colab": {
          "base_uri": "https://localhost:8080/",
          "height": 199
        },
        "outputId": "2e740476-185f-4d6e-b074-198e015a1cd1"
      },
      "source": [
        "# for문 - 구구단\n",
        "N = int(input())\n",
        "for i in range(1,10):\n",
        "    print(N,'*',i,'=',N*i)"
      ],
      "execution_count": null,
      "outputs": [
        {
          "output_type": "stream",
          "text": [
            "2\n",
            "2 * 1 = 2\n",
            "2 * 2 = 4\n",
            "2 * 3 = 6\n",
            "2 * 4 = 8\n",
            "2 * 5 = 10\n",
            "2 * 6 = 12\n",
            "2 * 7 = 14\n",
            "2 * 8 = 16\n",
            "2 * 9 = 18\n"
          ],
          "name": "stdout"
        }
      ]
    },
    {
      "cell_type": "code",
      "metadata": {
        "id": "DocvXz3hAoXq",
        "colab_type": "code",
        "colab": {
          "base_uri": "https://localhost:8080/",
          "height": 126
        },
        "outputId": "484cc887-432e-4bfa-fc7d-55b34c5a559a"
      },
      "source": [
        "# for문 - N찍기\n",
        "a = int(input())\n",
        "for i in range(1,a+1):\n",
        "    print(i)"
      ],
      "execution_count": null,
      "outputs": [
        {
          "output_type": "stream",
          "text": [
            "5\n",
            "1\n",
            "2\n",
            "3\n",
            "4\n",
            "5\n"
          ],
          "name": "stdout"
        }
      ]
    },
    {
      "cell_type": "code",
      "metadata": {
        "id": "EoxSfegsfCg0",
        "colab_type": "code",
        "colab": {
          "base_uri": "https://localhost:8080/",
          "height": 108
        },
        "outputId": "da88f6a1-5d8e-4752-a064-e18455826582"
      },
      "source": [
        "# while문 - A+B - 5\n",
        "while True:\n",
        "    A,B = input().split(' ')\n",
        "    A = int(A)\n",
        "    B = int(B)\n",
        "    if A != 0 and B != 0:\n",
        "        print(A+B)\n",
        "\n",
        "    if A == 0 and B == 0:\n",
        "        break"
      ],
      "execution_count": null,
      "outputs": [
        {
          "output_type": "stream",
          "text": [
            "5 4\n",
            "9\n",
            "3 1\n",
            "4\n",
            "0 0\n"
          ],
          "name": "stdout"
        }
      ]
    },
    {
      "cell_type": "code",
      "metadata": {
        "id": "-bcdUmNBf8ch",
        "colab_type": "code",
        "colab": {
          "base_uri": "https://localhost:8080/",
          "height": 54
        },
        "outputId": "e73b341b-6d60-47a2-e9cf-e20fb5f0ecf5"
      },
      "source": [
        "# while문 - 더하기 사이클\n",
        "a = int(input())\n",
        "check = a\n",
        "cnt = 0\n",
        "\n",
        "while True:\n",
        "    x = a//10 + a%10\n",
        "    new_x = (a%10)*10 + x%10\n",
        "    cnt += 1\n",
        "    a = new_x\n",
        "    if new_x == check:\n",
        "        break\n",
        "print(cnt)"
      ],
      "execution_count": null,
      "outputs": [
        {
          "output_type": "stream",
          "text": [
            "26\n",
            "4\n"
          ],
          "name": "stdout"
        }
      ]
    },
    {
      "cell_type": "code",
      "metadata": {
        "id": "-pU5ucrCUZ7q",
        "colab_type": "code",
        "colab": {
          "base_uri": "https://localhost:8080/",
          "height": 126
        },
        "outputId": "6a8c218b-ee07-499e-e9ad-e928e6c9ab99"
      },
      "source": [
        "# 실습1 - 평균 점수\n",
        "s = []\n",
        "for j in range(5):\n",
        "    a=int(input())\n",
        "    if a<40:\n",
        "        a = 40\n",
        "    s.append(a)\n",
        "\n",
        "avg = int(sum(s)/5)\n",
        "print(avg)"
      ],
      "execution_count": 9,
      "outputs": [
        {
          "output_type": "stream",
          "text": [
            "10\n",
            "65\n",
            "100\n",
            "30\n",
            "95\n",
            "68.0\n"
          ],
          "name": "stdout"
        }
      ]
    },
    {
      "cell_type": "code",
      "metadata": {
        "id": "lZ4MBuywWZcu",
        "colab_type": "code",
        "colab": {
          "base_uri": "https://localhost:8080/",
          "height": 227
        },
        "outputId": "e1d8240e-1b70-4b0f-ac98-29d71f6fe484"
      },
      "source": [
        "# 실습1 - 세 수\n",
        "a, b, c = input().split()\n",
        "a = int(a)\n",
        "b = int(b)\n",
        "c = int(c)\n",
        "\n",
        "n_li = [a,b,c]\n",
        "n_li.sort(reverse=True)[1]"
      ],
      "execution_count": 33,
      "outputs": [
        {
          "output_type": "stream",
          "text": [
            "51 42 35\n"
          ],
          "name": "stdout"
        },
        {
          "output_type": "error",
          "ename": "TypeError",
          "evalue": "ignored",
          "traceback": [
            "\u001b[0;31m---------------------------------------------------------------------------\u001b[0m",
            "\u001b[0;31mTypeError\u001b[0m                                 Traceback (most recent call last)",
            "\u001b[0;32m<ipython-input-33-7e2bc0eaa3b5>\u001b[0m in \u001b[0;36m<module>\u001b[0;34m()\u001b[0m\n\u001b[1;32m      5\u001b[0m \u001b[0;34m\u001b[0m\u001b[0m\n\u001b[1;32m      6\u001b[0m \u001b[0mn_li\u001b[0m \u001b[0;34m=\u001b[0m \u001b[0;34m[\u001b[0m\u001b[0ma\u001b[0m\u001b[0;34m,\u001b[0m\u001b[0mb\u001b[0m\u001b[0;34m,\u001b[0m\u001b[0mc\u001b[0m\u001b[0;34m]\u001b[0m\u001b[0;34m\u001b[0m\u001b[0;34m\u001b[0m\u001b[0m\n\u001b[0;32m----> 7\u001b[0;31m \u001b[0mn_li\u001b[0m\u001b[0;34m.\u001b[0m\u001b[0msort\u001b[0m\u001b[0;34m(\u001b[0m\u001b[0mreverse\u001b[0m\u001b[0;34m=\u001b[0m\u001b[0;32mTrue\u001b[0m\u001b[0;34m)\u001b[0m\u001b[0;34m[\u001b[0m\u001b[0;36m1\u001b[0m\u001b[0;34m]\u001b[0m\u001b[0;34m\u001b[0m\u001b[0;34m\u001b[0m\u001b[0m\n\u001b[0m",
            "\u001b[0;31mTypeError\u001b[0m: 'NoneType' object is not subscriptable"
          ]
        }
      ]
    },
    {
      "cell_type": "code",
      "metadata": {
        "id": "WxX23ABcX6bp",
        "colab_type": "code",
        "colab": {
          "base_uri": "https://localhost:8080/",
          "height": 54
        },
        "outputId": "1be1af08-9f30-4da8-b838-ea4b39e793b8"
      },
      "source": [
        "# 실습1 - 세 수\n",
        "a = list(input().split())\n",
        "for i in range(len(a)):\n",
        "    a[i] = int(a[i])\n",
        "a.sort(reverse=True)\n",
        "print(a[1])"
      ],
      "execution_count": 27,
      "outputs": [
        {
          "output_type": "stream",
          "text": [
            "10 20 55\n",
            "20\n"
          ],
          "name": "stdout"
        }
      ]
    },
    {
      "cell_type": "code",
      "metadata": {
        "id": "TIbjrifqa2F4",
        "colab_type": "code",
        "colab": {
          "base_uri": "https://localhost:8080/",
          "height": 72
        },
        "outputId": "9f742864-24bd-4485-f625-c2c401e0e602"
      },
      "source": [
        "# 1차원 배열 - 최소, 최대\n",
        "a = int(input())\n",
        "b = input().split()\n",
        "n_li = []\n",
        "for i in range(a):\n",
        "    n_li.append(int(b[i]))\n",
        "    \n",
        "print(min(n_li), max(n_li))"
      ],
      "execution_count": 40,
      "outputs": [
        {
          "output_type": "stream",
          "text": [
            "5\n",
            "20 10 35 37 7\n",
            "7 37\n"
          ],
          "name": "stdout"
        }
      ]
    },
    {
      "cell_type": "code",
      "metadata": {
        "id": "O7zXHXXZbxEY",
        "colab_type": "code",
        "colab": {
          "base_uri": "https://localhost:8080/",
          "height": 254
        },
        "outputId": "1cf6a9a1-07e6-4a3a-fae0-bd63bc3f38e8"
      },
      "source": [
        "# 1차원 배열 - 숫자의 개수\n",
        "a = int(input())\n",
        "b = int(input())\n",
        "c = int(input())\n",
        "\n",
        "n= str(a*b*c)\n",
        "\n",
        "for i in range(10):\n",
        "    print(n.count(str(i)))"
      ],
      "execution_count": 41,
      "outputs": [
        {
          "output_type": "stream",
          "text": [
            "150\n",
            "266\n",
            "427\n",
            "3\n",
            "1\n",
            "0\n",
            "2\n",
            "0\n",
            "0\n",
            "0\n",
            "2\n",
            "0\n",
            "0\n"
          ],
          "name": "stdout"
        }
      ]
    },
    {
      "cell_type": "code",
      "metadata": {
        "id": "zsB0j35Yd7lN",
        "colab_type": "code",
        "colab": {
          "base_uri": "https://localhost:8080/",
          "height": 72
        },
        "outputId": "9bc387a4-cb8e-4745-e878-d88cf8f63a59"
      },
      "source": [
        "# 1차원 배열 - 평균은 넘겠지\n",
        "n = int(input())\n",
        "result = []\n",
        "for i in range(n):\n",
        "    s_li = list(map(int, input().split()))\n",
        "    avg = sum(s_li[1:])/s_li[0]\n",
        "    cnt=0\n",
        "    for j in s_li[1:]:\n",
        "        if j > avg:\n",
        "            cnt+=1\n",
        "    result.append(cnt/s_li[0])\n",
        "\n",
        "for r in result:\n",
        "    print(format(r,'.3%'))"
      ],
      "execution_count": 52,
      "outputs": [
        {
          "output_type": "stream",
          "text": [
            "1\n",
            "5 50 50 70 80 100\n",
            "40.000%\n"
          ],
          "name": "stdout"
        }
      ]
    },
    {
      "cell_type": "code",
      "metadata": {
        "id": "xXRtDCwKRA3Q",
        "colab_type": "code",
        "colab": {}
      },
      "source": [
        "# 함수 - 정수 N개의 합\n",
        "def solve(a):\n",
        "    ans = 0\n",
        "    for v in a:\n",
        "        ans += v\n",
        "    return ans"
      ],
      "execution_count": 134,
      "outputs": []
    },
    {
      "cell_type": "code",
      "metadata": {
        "id": "ZC0J7jpGkMmz",
        "colab_type": "code",
        "colab": {
          "base_uri": "https://localhost:8080/",
          "height": 54
        },
        "outputId": "47f3c40a-1e0a-4cf5-b792-004ec9789a57"
      },
      "source": [
        "# 함수 - 한수\n",
        "n = int(input())\n",
        "cnt = 0\n",
        "\n",
        "for i in range(1, n+1):\n",
        "    if i <=99:\n",
        "        cnt+=1\n",
        "    else:\n",
        "        if int(str(i)[0])-int(str(i)[1]) == int(str(i)[1])-int(str(i)[2]):\n",
        "            cnt+=1\n",
        "cnt"
      ],
      "execution_count": 80,
      "outputs": [
        {
          "output_type": "stream",
          "text": [
            "210\n"
          ],
          "name": "stdout"
        },
        {
          "output_type": "execute_result",
          "data": {
            "text/plain": [
              "105"
            ]
          },
          "metadata": {
            "tags": []
          },
          "execution_count": 80
        }
      ]
    },
    {
      "cell_type": "code",
      "metadata": {
        "id": "vbKg7k7_o4FN",
        "colab_type": "code",
        "colab": {
          "base_uri": "https://localhost:8080/",
          "height": 54
        },
        "outputId": "de2c8fbe-a8bd-412c-ac88-132e860c2877"
      },
      "source": [
        "# 문자열 - 아스키코드\n",
        "x = input()\n",
        "print(ord(x))"
      ],
      "execution_count": 83,
      "outputs": [
        {
          "output_type": "stream",
          "text": [
            "ㅁ\n",
            "12609\n"
          ],
          "name": "stdout"
        }
      ]
    },
    {
      "cell_type": "code",
      "metadata": {
        "id": "n6yp27oZsoA4",
        "colab_type": "code",
        "colab": {
          "base_uri": "https://localhost:8080/",
          "height": 54
        },
        "outputId": "172fe61f-4128-4603-c2d6-3414eb50ed1e"
      },
      "source": [
        "# 문자열 - 상수\n",
        "a, b = input().split()\n",
        "a = int(a)\n",
        "b = int(b)\n",
        "new_a = int(str(a)[::-1])\n",
        "new_b = int(str(b)[::-1])\n",
        "\n",
        "print(max(new_a,new_b))"
      ],
      "execution_count": 97,
      "outputs": [
        {
          "output_type": "stream",
          "text": [
            "764 893\n",
            "467\n"
          ],
          "name": "stdout"
        }
      ]
    },
    {
      "cell_type": "code",
      "metadata": {
        "id": "YCjUgTfatZUE",
        "colab_type": "code",
        "colab": {
          "base_uri": "https://localhost:8080/",
          "height": 54
        },
        "outputId": "f0e4d519-7775-4b05-9229-45567c037cbc"
      },
      "source": [
        "# 수학1 - 손익분기점\n",
        "a,b,c = map(int, input().split())\n",
        "if b>=c:\n",
        "    print(-1)\n",
        "else:\n",
        "    n = a/(c-b)\n",
        "    print(int(n)+1)"
      ],
      "execution_count": 104,
      "outputs": [
        {
          "output_type": "stream",
          "text": [
            "1000 70 170\n",
            "11\n"
          ],
          "name": "stdout"
        }
      ]
    },
    {
      "cell_type": "code",
      "metadata": {
        "id": "RomJ_GoFzNMe",
        "colab_type": "code",
        "colab": {
          "base_uri": "https://localhost:8080/",
          "height": 54
        },
        "outputId": "0ea4bebc-3702-4eed-feed-3245cfd77793"
      },
      "source": [
        "# 수학1 - 분수찾기\n",
        "n = int(input())\n",
        "lis = []\n",
        "if n<5:\n",
        "    print(-1)\n",
        "else:\n",
        "    for y in range((n//3)+1):\n",
        "        for x in range((n//5)+1):\n",
        "            if ((5*x + 3*y) == n) :\n",
        "                lis.append(x+y)\n",
        "    print(min(lis))"
      ],
      "execution_count": 120,
      "outputs": [
        {
          "output_type": "stream",
          "text": [
            "18\n",
            "4\n"
          ],
          "name": "stdout"
        }
      ]
    },
    {
      "cell_type": "code",
      "metadata": {
        "id": "o-_FJPVM9bU5",
        "colab_type": "code",
        "colab": {
          "base_uri": "https://localhost:8080/",
          "height": 72
        },
        "outputId": "64d5eb46-0d93-4bae-81cd-53040d6776ec"
      },
      "source": [
        "# 수학2 - 소수찾기\n",
        "n = int(input())\n",
        "a = list(map(int,(input().split())))\n",
        "result = 0\n",
        "for x in a:\n",
        "    cnt = 0\n",
        "    if x==1:\n",
        "        continue\n",
        "    for y in range(2,x+1):\n",
        "       if x%y == 0:\n",
        "           cnt+=1\n",
        "    if cnt==1:\n",
        "        result +=1\n",
        "result"
      ],
      "execution_count": 130,
      "outputs": [
        {
          "output_type": "stream",
          "text": [
            "4\n",
            "1 3 5 7\n"
          ],
          "name": "stdout"
        },
        {
          "output_type": "execute_result",
          "data": {
            "text/plain": [
              "3"
            ]
          },
          "metadata": {
            "tags": []
          },
          "execution_count": 130
        }
      ]
    },
    {
      "cell_type": "code",
      "metadata": {
        "id": "L4gQw8ylNpYj",
        "colab_type": "code",
        "colab": {
          "base_uri": "https://localhost:8080/",
          "height": 54
        },
        "outputId": "ce5bee70-22cc-4bfe-9959-aed82c5e2867"
      },
      "source": [
        "# 수학2 - 직사각형에서 탈출\n",
        "x,y, w, h = map(int,(input().split()))\n",
        "print(min([x, y, w - x, h - y]))"
      ],
      "execution_count": 133,
      "outputs": [
        {
          "output_type": "stream",
          "text": [
            "6 2 10 3\n"
          ],
          "name": "stdout"
        },
        {
          "output_type": "execute_result",
          "data": {
            "text/plain": [
              "1"
            ]
          },
          "metadata": {
            "tags": []
          },
          "execution_count": 133
        }
      ]
    }
  ]
}
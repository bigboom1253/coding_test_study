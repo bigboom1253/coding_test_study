{
 "cells": [
  {
   "cell_type": "markdown",
   "metadata": {},
   "source": [
    "https://www.acmicpc.net/problem/18352"
   ]
  },
  {
   "cell_type": "code",
   "execution_count": 19,
   "metadata": {},
   "outputs": [
    {
     "name": "stdout",
     "output_type": "stream",
     "text": [
      "4 4 1 1\n",
      "1 2\n",
      "1 3\n",
      "2 3\n",
      "2 4\n",
      "2\n",
      "3\n"
     ]
    }
   ],
   "source": [
    "from collections import deque\n",
    "\n",
    "N, M, K, X = map(int, input().split())\n",
    "graph = [[] for _ in range(N+1)] #1번 도시부터 시작하므로 +1\n",
    "\n",
    "for _ in range(M) :\n",
    "    start_city, target_city =  map(int, input().split())\n",
    "    graph[start_city].append(target_city)\n",
    "\n",
    "#출발 도시 기준으로 도시별 최단거리 리스트 생성\n",
    "distance_ls = [-1 for _ in range(N+1)]\n",
    "#방문 확인 리스트\n",
    "distance_ls[X] = 0\n",
    "\n",
    "def BFS(start_node, graph, distance_ls) :\n",
    "    queue = deque([start_node])\n",
    "    while queue :\n",
    "        v = queue.popleft()\n",
    "        for n in graph[v] :\n",
    "            if distance_ls[n] == -1 : #방문하지않았다면\n",
    "                distance_ls[n] = distance_ls[v] + 1\n",
    "                queue.append(n)\n",
    "\n",
    "BFS(X, graph, distance_ls)\n",
    "\n",
    "answer = [idx for idx, value in enumerate(distance_ls) if value == K ]\n",
    "\n",
    "if len(answer) == 0 :\n",
    "    print(-1)\n",
    "else :\n",
    "    for i in answer :\n",
    "        print(i)"
   ]
  }
 ],
 "metadata": {
  "kernelspec": {
   "display_name": "Python 3",
   "language": "python",
   "name": "python3"
  },
  "language_info": {
   "codemirror_mode": {
    "name": "ipython",
    "version": 3
   },
   "file_extension": ".py",
   "mimetype": "text/x-python",
   "name": "python",
   "nbconvert_exporter": "python",
   "pygments_lexer": "ipython3",
   "version": "3.7.6"
  }
 },
 "nbformat": 4,
 "nbformat_minor": 4
}

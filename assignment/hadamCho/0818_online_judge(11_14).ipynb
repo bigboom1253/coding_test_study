{
  "nbformat": 4,
  "nbformat_minor": 0,
  "metadata": {
    "colab": {
      "name": "0818 online judge(11-14).ipynb",
      "provenance": [],
      "collapsed_sections": []
    },
    "kernelspec": {
      "name": "python3",
      "display_name": "Python 3"
    }
  },
  "cells": [
    {
      "cell_type": "markdown",
      "metadata": {
        "id": "kY7MfrByh02B",
        "colab_type": "text"
      },
      "source": [
        "### 11단계 : 재귀"
      ]
    },
    {
      "cell_type": "markdown",
      "metadata": {
        "id": "87suzy8_h1nm",
        "colab_type": "text"
      },
      "source": [
        "10872\t팩토리얼"
      ]
    },
    {
      "cell_type": "code",
      "metadata": {
        "id": "hXIGbDhviDhr",
        "colab_type": "code",
        "colab": {}
      },
      "source": [
        "n = int(input())\n",
        "\n",
        "def factorial(n):\n",
        "    if n <= 1:\n",
        "        return 1\n",
        "    else :\n",
        "        return n * factorial(n-1)\n",
        "    \n",
        "print(factorial(n))"
      ],
      "execution_count": null,
      "outputs": []
    },
    {
      "cell_type": "markdown",
      "metadata": {
        "id": "MbbrksQoizwG",
        "colab_type": "text"
      },
      "source": [
        "### 13단계 : 브루트 포스"
      ]
    },
    {
      "cell_type": "markdown",
      "metadata": {
        "id": "dvaKk0Y9ytVx",
        "colab_type": "text"
      },
      "source": [
        "2798\t블랙잭"
      ]
    },
    {
      "cell_type": "code",
      "metadata": {
        "id": "M_wAdLF-iaWg",
        "colab_type": "code",
        "colab": {
          "base_uri": "https://localhost:8080/",
          "height": 179
        },
        "outputId": "70e3e837-1cde-4b22-f0ae-a1eec2c44ad4"
      },
      "source": [
        "n, m = map(int, input().split())\n",
        "n_cards = list(map(int, input().split()))\n",
        "max = 0\n",
        "\n",
        "for i in range(len(n_cards)-2):\n",
        "  for j in range(i+1, len(n_cards)-1):\n",
        "    for k in range(j+1, len(n_cards)):\n",
        "      if n_cards[i] + n_cards[j] + n_cards[k] > max and n_cards[i] + n_cards[j] + n_cards[k] <= m :\n",
        "        max = n_cards[i] + n_cards[j] + n_cards[k]\n",
        "\n",
        "print(max)"
      ],
      "execution_count": null,
      "outputs": [
        {
          "output_type": "stream",
          "text": [
            "10 500\n",
            "93 181 245 214 315 36 185 138 216 295\n",
            "488\n",
            "490\n",
            "492\n",
            "494\n",
            "495\n",
            "497\n",
            "max: 497\n"
          ],
          "name": "stdout"
        }
      ]
    },
    {
      "cell_type": "markdown",
      "metadata": {
        "id": "fwu-SF2iyvus",
        "colab_type": "text"
      },
      "source": [
        "### 14단계 : 정렬"
      ]
    },
    {
      "cell_type": "markdown",
      "metadata": {
        "id": "i1aSCR7wzAcl",
        "colab_type": "text"
      },
      "source": [
        "2108 통계학"
      ]
    },
    {
      "cell_type": "code",
      "metadata": {
        "id": "Xz52gzJVjqa0",
        "colab_type": "code",
        "colab": {
          "base_uri": "https://localhost:8080/",
          "height": 197
        },
        "outputId": "6a9cbe68-942c-48f5-cfd6-f544fa3bbad1"
      },
      "source": [
        "n = int(input())\n",
        "nlist = []\n",
        "\n",
        "for i in range(n):\n",
        "  tmp = int(input())\n",
        "  nlist.append(tmp)\n",
        "\n",
        "# 산술평균\n",
        "avg = round(sum(nlist)/n)\n",
        "print(avg)\n",
        "\n",
        "#중앙값\n",
        "s_nlist = sorted(nlist)\n",
        "middle_idx =  n//2\n",
        "median = s_nlist[middle_idx]\n",
        "print(median)\n",
        "\n",
        "# 최빈값\n",
        "nums = sorted(list(set(nlist)))\n",
        "num_counts = []\n",
        "\n",
        "for i in nums:\n",
        "  num_counts.append(nlist.count(i))\n",
        "\n",
        "max_count = max(num_counts)\n",
        "count = 0\n",
        "\n",
        "if num_counts.count(max_count) > 1:\n",
        "  for i in range(len(num_counts)):\n",
        "    if num_counts[i] == max_count:\n",
        "      count += 1\n",
        "      if count == 2:\n",
        "        print(nums[i])\n",
        "else : \n",
        "  print(nums[num_counts.index(max_count)])\n",
        "\n",
        "\n",
        "# 범위\n",
        "range = max(nlist) - min(nlist)\n",
        "print(range)"
      ],
      "execution_count": 1,
      "outputs": [
        {
          "output_type": "stream",
          "text": [
            "5\n",
            "1\n",
            "3\n",
            "8\n",
            "-2\n",
            "2\n",
            "2\n",
            "2\n",
            "1\n",
            "10\n"
          ],
          "name": "stdout"
        }
      ]
    },
    {
      "cell_type": "code",
      "metadata": {
        "id": "SPQx8K_-P1aB",
        "colab_type": "code",
        "colab": {}
      },
      "source": [
        ""
      ],
      "execution_count": null,
      "outputs": []
    }
  ]
}
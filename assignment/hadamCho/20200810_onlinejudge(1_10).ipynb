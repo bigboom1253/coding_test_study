{
  "nbformat": 4,
  "nbformat_minor": 0,
  "metadata": {
    "colab": {
      "name": "20200810_onlinejudge(1-10).ipynb",
      "provenance": [],
      "collapsed_sections": []
    },
    "kernelspec": {
      "name": "python3",
      "display_name": "Python 3"
    }
  },
  "cells": [
    {
      "cell_type": "markdown",
      "metadata": {
        "id": "2dUJtrRumbUX",
        "colab_type": "text"
      },
      "source": [
        "### 1단계 : 입출력과 사칙연산\n",
        "\n",
        "\n"
      ]
    },
    {
      "cell_type": "markdown",
      "metadata": {
        "id": "kunyCVuhmlcb",
        "colab_type": "text"
      },
      "source": [
        "10171 고양이"
      ]
    },
    {
      "cell_type": "code",
      "metadata": {
        "id": "DKHTpqEeiy6A",
        "colab_type": "code",
        "colab": {}
      },
      "source": [
        "# 여러줄의 텍스트를 그대로 출력하고 싶으면 '''을 쓰자!!\n",
        "\n",
        "print('''\\    /\\\\\n",
        " )  ( ')\n",
        "(  /  )\n",
        " \\\\(__)|''')"
      ],
      "execution_count": null,
      "outputs": []
    },
    {
      "cell_type": "markdown",
      "metadata": {
        "id": "sUtxzDiTnkJm",
        "colab_type": "text"
      },
      "source": [
        "10869 사칙연산"
      ]
    },
    {
      "cell_type": "code",
      "metadata": {
        "id": "h4c6DbLym0Pn",
        "colab_type": "code",
        "colab": {}
      },
      "source": [
        "A, B = map(int, input().strip().split(' '))\n",
        "\n",
        "print(A+B)\n",
        "print(A-B)\n",
        "print(A*B)\n",
        "print(A//B)  # 몫(정수)를 구할때는 // , 나누기한 결과(float)를 구할 때는 /\n",
        "print(A%B)"
      ],
      "execution_count": null,
      "outputs": []
    },
    {
      "cell_type": "markdown",
      "metadata": {
        "id": "cq8gUCQ3olip",
        "colab_type": "text"
      },
      "source": [
        "### 2단계 : if문"
      ]
    },
    {
      "cell_type": "markdown",
      "metadata": {
        "id": "aXg4ruVDo3yw",
        "colab_type": "text"
      },
      "source": [
        "1330 두 수 비교하기"
      ]
    },
    {
      "cell_type": "code",
      "metadata": {
        "id": "eqNq3yZmotXX",
        "colab_type": "code",
        "colab": {}
      },
      "source": [
        "a, b = map(int, input().strip().split(' '))\n",
        "if a > b :\n",
        "    print('>')\n",
        "elif a < b :\n",
        "    print('<')\n",
        "else:\n",
        "    print('==')"
      ],
      "execution_count": null,
      "outputs": []
    },
    {
      "cell_type": "markdown",
      "metadata": {
        "id": "Kmp86bXbpOwm",
        "colab_type": "text"
      },
      "source": [
        "### 3단계 : for문"
      ]
    },
    {
      "cell_type": "markdown",
      "metadata": {
        "id": "WY670q1NpWGb",
        "colab_type": "text"
      },
      "source": [
        "15552 빠른 A+B"
      ]
    },
    {
      "cell_type": "code",
      "metadata": {
        "id": "sb8MVM37odJV",
        "colab_type": "code",
        "colab": {}
      },
      "source": [
        "# 본격적으로 for문 문제를 풀기 전에 주의해야 할 점이 있다. \n",
        "# 입출력 방식이 느리면 여러 줄을 입력받거나 출력할 때 시간초과가 날 수 있다는 점이다. \n",
        "# python을 사용하고 있다면, input 대신 sys.stdin.readline을 사용할 수 있다. \n",
        "# 단, 이때는 맨 끝의 개행문자까지 같이 입력받기 때문에 문자열을 저장하고 싶을 경우 \n",
        "# .rstrip()을 추가로 해 주는 것이 좋다.\n",
        "\n",
        "import sys\n",
        "\n",
        "n = int(sys.stdin.readline())\n",
        "\n",
        "for i in range(n):\n",
        "   a, b = map(int, sys.stdin.readline().strip().split(' '))\n",
        "   print(a + b)"
      ],
      "execution_count": null,
      "outputs": []
    },
    {
      "cell_type": "markdown",
      "metadata": {
        "id": "m_4u19yqpuQr",
        "colab_type": "text"
      },
      "source": [
        "### 4단계 : while문"
      ]
    },
    {
      "cell_type": "markdown",
      "metadata": {
        "id": "EBzAJk8hqB6k",
        "colab_type": "text"
      },
      "source": [
        "10951 \tA+B - 4"
      ]
    },
    {
      "cell_type": "code",
      "metadata": {
        "id": "g1rCOUE9m0AM",
        "colab_type": "code",
        "colab": {}
      },
      "source": [
        " # 입력이 들어오지 않은 경우를 예외처리 함.\n",
        "\n",
        "while 1:\n",
        "   try:\n",
        "      a, b = map(int, input().strip().split(' '))\n",
        "   except:\n",
        "      break;\n",
        "   print(a+b)"
      ],
      "execution_count": null,
      "outputs": []
    },
    {
      "cell_type": "markdown",
      "metadata": {
        "id": "sLKIjX32qKxO",
        "colab_type": "text"
      },
      "source": [
        "### 5단계 : 실습1"
      ]
    },
    {
      "cell_type": "markdown",
      "metadata": {
        "id": "cmefjwMqqaNS",
        "colab_type": "text"
      },
      "source": [
        "5543\t상근날드"
      ]
    },
    {
      "cell_type": "code",
      "metadata": {
        "id": "mtOluL_Rmzxb",
        "colab_type": "code",
        "colab": {}
      },
      "source": [
        "import sys\n",
        "\n",
        "input_list = []\n",
        "for i in range(5):\n",
        "   input_list.append(int(input()))\n",
        "print(min(input_list[0:3])+min(input_list[3:]) - 50)"
      ],
      "execution_count": null,
      "outputs": []
    },
    {
      "cell_type": "markdown",
      "metadata": {
        "id": "OeHj7Atxqp4X",
        "colab_type": "text"
      },
      "source": [
        "### 6단계 : 1차원 배열"
      ]
    },
    {
      "cell_type": "markdown",
      "metadata": {
        "id": "bgcbHHfXrkzZ",
        "colab_type": "text"
      },
      "source": [
        "2577\t숫자의 개수"
      ]
    },
    {
      "cell_type": "code",
      "metadata": {
        "id": "vnH2aoQjrdm0",
        "colab_type": "code",
        "colab": {}
      },
      "source": [
        "a = int(input())\n",
        "b = int(input())\n",
        "c = int(input())\n",
        "result = str(a*b*c)\n",
        "\n",
        "for i in range(0,10):\n",
        "    count = 0\n",
        "    for j in result:\n",
        "        if j == str(i):\n",
        "            count += 1\n",
        "    print(count)"
      ],
      "execution_count": null,
      "outputs": []
    },
    {
      "cell_type": "markdown",
      "metadata": {
        "id": "Yyb0JLjKqvwx",
        "colab_type": "text"
      },
      "source": [
        "### 7단계 : 함수"
      ]
    },
    {
      "cell_type": "markdown",
      "metadata": {
        "id": "uHFtio99ryNm",
        "colab_type": "text"
      },
      "source": [
        "1065\t한수"
      ]
    },
    {
      "cell_type": "code",
      "metadata": {
        "id": "JBAqgglfsBaz",
        "colab_type": "code",
        "colab": {}
      },
      "source": [
        "n = int(input())\n",
        "count = 0\n",
        "\n",
        "for i in range(1,n+1):\n",
        "   # 두 자리수 정수까지는 모두 한수.\n",
        "   if i // 100 == 0 :\n",
        "      count += 1\n",
        "      \n",
        "   # 세 자리수 한수 찾기\n",
        "   else:\n",
        "      if int(str(i)[1]) - int(str(i)[0]) == int(str(i)[2]) - int(str(i)[1]):\n",
        "         count += 1\n",
        "         #print('한수: {}'.format(i))\n",
        "         \n",
        "print(count)"
      ],
      "execution_count": null,
      "outputs": []
    },
    {
      "cell_type": "markdown",
      "metadata": {
        "id": "dZMlaHVqqzeb",
        "colab_type": "text"
      },
      "source": [
        "### 8단계 : 문자열"
      ]
    },
    {
      "cell_type": "markdown",
      "metadata": {
        "id": "IaRlnVXpsYtq",
        "colab_type": "text"
      },
      "source": [
        "1157\t단어 공부"
      ]
    },
    {
      "cell_type": "code",
      "metadata": {
        "id": "ZPqxUDYMsSMX",
        "colab_type": "code",
        "colab": {}
      },
      "source": [
        "char_list = list(input().upper())\n",
        "words = list(set(char_list))\n",
        "words_count = [char_list.count(i) for i in words]\n",
        "max_count = max(words_count)\n",
        "\n",
        "if words_count.count(max_count) >= 2:\n",
        "   print('?')\n",
        "else:\n",
        "   print(words[words_count.index(max_count)])"
      ],
      "execution_count": null,
      "outputs": []
    },
    {
      "cell_type": "markdown",
      "metadata": {
        "id": "pDzJNYY7q2rQ",
        "colab_type": "text"
      },
      "source": [
        "### 9단계 : 수학1"
      ]
    },
    {
      "cell_type": "markdown",
      "metadata": {
        "id": "avbABUGjsvzB",
        "colab_type": "text"
      },
      "source": [
        "2869\t달팽이는 올라가고 싶다"
      ]
    },
    {
      "cell_type": "code",
      "metadata": {
        "id": "6cz_idUQsgzb",
        "colab_type": "code",
        "colab": {}
      },
      "source": [
        "# for문에서 시간초과가 뜰 경우,  for문을 없애고 수식으로 만들 수 있는지 고민해보자!\n",
        "import math\n",
        "A, B, V = map(int, input().split(' '))\n",
        "M = math.ceil((V-A)/(A-B))\n",
        "print(M+1)"
      ],
      "execution_count": null,
      "outputs": []
    },
    {
      "cell_type": "markdown",
      "metadata": {
        "id": "gngMNsAQq7Ip",
        "colab_type": "text"
      },
      "source": [
        "### 10단계 : 수학2"
      ]
    },
    {
      "cell_type": "markdown",
      "metadata": {
        "id": "uE2pF7-utThk",
        "colab_type": "text"
      },
      "source": [
        "1002\t터렛"
      ]
    },
    {
      "cell_type": "code",
      "metadata": {
        "id": "KFfMaGOsmzlB",
        "colab_type": "code",
        "colab": {}
      },
      "source": [
        "# 루트 함수 : math.sqrt()\n",
        "# 제곱근 함수 : math.pow(숫자, 제곱수)\n",
        "# 절대값 함수 : abs()\n",
        "\n",
        "import math\n",
        "\n",
        "n = int(input())\n",
        "for i in range(n):\n",
        "   case = list(map(int, input().strip().split(' ')))\n",
        "\n",
        "   r1 = case[2]\n",
        "   r2 = case[5]\n",
        "   d = math.sqrt(math.pow(case[0]-case[3],2) + math.pow(case[1]-case[4],2))\n",
        "\n",
        "   if abs(r2-r1) < d and r2 + r1 > d:\n",
        "      print(2)\n",
        "   elif d == 0:\n",
        "      if r1 == r2:\n",
        "         print(-1)\n",
        "      else:\n",
        "         print(0)\n",
        "   else:\n",
        "      if abs(r2-r1) == d or r2 + r1 == d:\n",
        "         print(1)\n",
        "      elif d < abs(r2-r1) or r1+r2 < d:\n",
        "         print(0)"
      ],
      "execution_count": null,
      "outputs": []
    }
  ]
}
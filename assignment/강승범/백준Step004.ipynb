{
  "nbformat": 4,
  "nbformat_minor": 0,
  "metadata": {
    "colab": {
      "name": "백준Step004.ipynb",
      "provenance": [],
      "authorship_tag": "ABX9TyNMmo3PS/j4E+QcEC2QznVq",
      "include_colab_link": true
    },
    "kernelspec": {
      "name": "python3",
      "display_name": "Python 3"
    }
  },
  "cells": [
    {
      "cell_type": "markdown",
      "metadata": {
        "id": "view-in-github",
        "colab_type": "text"
      },
      "source": [
        "<a href=\"https://colab.research.google.com/github/bigboom1253/coding_test_study/blob/master/assignment/%EA%B0%95%EC%8A%B9%EB%B2%94/%EB%B0%B1%EC%A4%80Step004.ipynb\" target=\"_parent\"><img src=\"https://colab.research.google.com/assets/colab-badge.svg\" alt=\"Open In Colab\"/></a>"
      ]
    },
    {
      "cell_type": "markdown",
      "metadata": {
        "id": "XTGwug_FGw90",
        "colab_type": "text"
      },
      "source": [
        "#01. 10952\n",
        "A+B - 5"
      ]
    },
    {
      "cell_type": "code",
      "metadata": {
        "id": "tVq6BTe3Gt6K",
        "colab_type": "code",
        "colab": {
          "base_uri": "https://localhost:8080/",
          "height": 70
        },
        "outputId": "dd98d41a-3225-47dd-fc26-d8d4e32fe737"
      },
      "source": [
        "while(True):\n",
        "    A, B = map(int, input().split())\n",
        "    if ((not A) or(not B)):\n",
        "        break\n",
        "    else:\n",
        "        print(A+B)"
      ],
      "execution_count": 4,
      "outputs": [
        {
          "output_type": "stream",
          "text": [
            "1 1\n",
            "2\n",
            "0 0\n"
          ],
          "name": "stdout"
        }
      ]
    },
    {
      "cell_type": "markdown",
      "metadata": {
        "id": "kEypOzQkHh64",
        "colab_type": "text"
      },
      "source": [
        "#02. 10951\n",
        "A+B - 4"
      ]
    },
    {
      "cell_type": "code",
      "metadata": {
        "id": "nNXui1mELGht",
        "colab_type": "code",
        "colab": {}
      },
      "source": [
        "#런타임에러\n",
        "while(True):\n",
        "    A, B = map(int, input().split())\n",
        "    print(A+B)"
      ],
      "execution_count": null,
      "outputs": []
    },
    {
      "cell_type": "code",
      "metadata": {
        "id": "V2VeHdLTHleg",
        "colab_type": "code",
        "colab": {
          "base_uri": "https://localhost:8080/",
          "height": 124
        },
        "outputId": "fc4eddba-784a-4e0c-fb56-2674b8dcc1f5"
      },
      "source": [
        "#틀렸음\n",
        "N = input().split()\n",
        "i = 0\n",
        "while(i < len(N)):\n",
        "    print(int(N[i])+int(N[i+1]))\n",
        "    i+=2"
      ],
      "execution_count": 9,
      "outputs": [
        {
          "output_type": "stream",
          "text": [
            "1 1 2 3 3 4 9 8 5 2\n",
            "2\n",
            "5\n",
            "7\n",
            "17\n",
            "7\n"
          ],
          "name": "stdout"
        }
      ]
    },
    {
      "cell_type": "code",
      "metadata": {
        "id": "MLzPbs4VLhaF",
        "colab_type": "code",
        "colab": {}
      },
      "source": [
        "#런타임\n",
        "N = input().split('\\n',' ')\n",
        "i = 0\n",
        "while(i < len(N)):\n",
        "    print(int(N[i])+int(N[i+1]))\n",
        "    i+=2"
      ],
      "execution_count": null,
      "outputs": []
    },
    {
      "cell_type": "code",
      "metadata": {
        "id": "pFMgasBwLC66",
        "colab_type": "code",
        "colab": {}
      },
      "source": [
        "while True:\n",
        "    try:\n",
        "        a,b = map(int, input().split())\n",
        "        print(a+b)\n",
        "    except:\n",
        "        break"
      ],
      "execution_count": null,
      "outputs": []
    },
    {
      "cell_type": "markdown",
      "metadata": {
        "id": "UKgIfjWDLlL_",
        "colab_type": "text"
      },
      "source": [
        "#03. 1110\n",
        "더하기 사이클"
      ]
    },
    {
      "cell_type": "code",
      "metadata": {
        "id": "O0Tc40m5LmQP",
        "colab_type": "code",
        "colab": {
          "base_uri": "https://localhost:8080/",
          "height": 52
        },
        "outputId": "1c20cb1e-0e4c-46b8-e7e8-5fb19b29a327"
      },
      "source": [
        "N = int(input())\n",
        "tmpN = N\n",
        "cycle = 0\n",
        "while(True):\n",
        "    cycle+=1\n",
        "    a = tmpN // 10\n",
        "    b = tmpN % 10\n",
        "\n",
        "    c = a+b\n",
        "\n",
        "    tmpN = b*10 + c%10\n",
        "\n",
        "    if N == tmpN:\n",
        "        break\n",
        "print(cycle)"
      ],
      "execution_count": 17,
      "outputs": [
        {
          "output_type": "stream",
          "text": [
            "1\n",
            "60\n"
          ],
          "name": "stdout"
        }
      ]
    }
  ]
}
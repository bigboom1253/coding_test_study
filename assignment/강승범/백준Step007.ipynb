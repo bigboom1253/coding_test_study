{
  "nbformat": 4,
  "nbformat_minor": 0,
  "metadata": {
    "colab": {
      "name": "백준Step007.ipynb",
      "provenance": [],
      "authorship_tag": "ABX9TyO7sKXL7Ygwbso4E4FsJVFr",
      "include_colab_link": true
    },
    "kernelspec": {
      "name": "python3",
      "display_name": "Python 3"
    }
  },
  "cells": [
    {
      "cell_type": "markdown",
      "metadata": {
        "id": "view-in-github",
        "colab_type": "text"
      },
      "source": [
        "<a href=\"https://colab.research.google.com/github/bigboom1253/coding_test_study/blob/master/assignment/%EA%B0%95%EC%8A%B9%EB%B2%94/%EB%B0%B1%EC%A4%80Step007.ipynb\" target=\"_parent\"><img src=\"https://colab.research.google.com/assets/colab-badge.svg\" alt=\"Open In Colab\"/></a>"
      ]
    },
    {
      "cell_type": "markdown",
      "metadata": {
        "id": "c9da3qBqJ0zp",
        "colab_type": "text"
      },
      "source": [
        "#01. 15596\t\n",
        "정수 N개의 합"
      ]
    },
    {
      "cell_type": "code",
      "metadata": {
        "id": "l1vnL_VmJw5K",
        "colab_type": "code",
        "colab": {}
      },
      "source": [
        "def solve(a):\n",
        "    return sum(a)"
      ],
      "execution_count": 2,
      "outputs": []
    },
    {
      "cell_type": "code",
      "metadata": {
        "id": "1EaxNTD_KK7W",
        "colab_type": "code",
        "colab": {
          "base_uri": "https://localhost:8080/",
          "height": 35
        },
        "outputId": "c1b58cf6-4eb9-4a09-f9ed-9694b01d7e72"
      },
      "source": [
        "print(solve([1,2,3,4,5,6,7,8,9]))"
      ],
      "execution_count": 3,
      "outputs": [
        {
          "output_type": "stream",
          "text": [
            "45\n"
          ],
          "name": "stdout"
        }
      ]
    },
    {
      "cell_type": "markdown",
      "metadata": {
        "id": "oRZXudpHKujQ",
        "colab_type": "text"
      },
      "source": [
        "#02. 4673\n",
        "셀프 넘버"
      ]
    },
    {
      "cell_type": "code",
      "metadata": {
        "id": "qPHIHoylKy0B",
        "colab_type": "code",
        "colab": {}
      },
      "source": [
        "def d(n):\n",
        "    tmpN = list(map(int, str(n)))\n",
        "\n",
        "    return n + sum(tmpN)"
      ],
      "execution_count": 6,
      "outputs": []
    },
    {
      "cell_type": "code",
      "metadata": {
        "id": "fqYiRafdLQjb",
        "colab_type": "code",
        "colab": {
          "base_uri": "https://localhost:8080/",
          "height": 35
        },
        "outputId": "1027a4b1-620c-4bed-a886-2fafd124f3e4"
      },
      "source": [
        "d(39)"
      ],
      "execution_count": 8,
      "outputs": [
        {
          "output_type": "execute_result",
          "data": {
            "text/plain": [
              "51"
            ]
          },
          "metadata": {
            "tags": []
          },
          "execution_count": 8
        }
      ]
    },
    {
      "cell_type": "code",
      "metadata": {
        "id": "YrtVOWnAM7nW",
        "colab_type": "code",
        "colab": {
          "base_uri": "https://localhost:8080/",
          "height": 286
        },
        "outputId": "1ca4a128-77aa-4a7a-bcb8-0ef82db44b0f"
      },
      "source": [
        "checkBoard = [0 for i in range(101)]\n",
        "\n",
        "for i in range(101):\n",
        "    try:\n",
        "        checkBoard[d(i)] += 1\n",
        "    except:\n",
        "        pass\n",
        "\n",
        "for i in range(101):\n",
        "    if checkBoard[i] == 0:\n",
        "        print(i)"
      ],
      "execution_count": 12,
      "outputs": [
        {
          "output_type": "stream",
          "text": [
            "[0, 0, 0, 0, 0, 0, 0, 0, 0, 0, 0, 0, 0, 0, 0, 0, 0, 0, 0, 0, 0, 0, 0, 0, 0, 0, 0, 0, 0, 0, 0, 0, 0, 0, 0, 0, 0, 0, 0, 0, 0, 0, 0, 0, 0, 0, 0, 0, 0, 0, 0, 0, 0, 0, 0, 0, 0, 0, 0, 0, 0, 0, 0, 0, 0, 0, 0, 0, 0, 0, 0, 0, 0, 0, 0, 0, 0, 0, 0, 0, 0, 0, 0, 0, 0, 0, 0, 0, 0, 0, 0, 0, 0, 0, 0, 0, 0, 0, 0, 0, 0]\n",
            "1\n",
            "3\n",
            "5\n",
            "7\n",
            "9\n",
            "20\n",
            "31\n",
            "42\n",
            "53\n",
            "64\n",
            "75\n",
            "86\n",
            "97\n"
          ],
          "name": "stdout"
        }
      ]
    },
    {
      "cell_type": "code",
      "metadata": {
        "id": "d6L7sp-eOH2c",
        "colab_type": "code",
        "colab": {}
      },
      "source": [
        "def d(n):\n",
        "    tmpN = list(map(int, str(n)))\n",
        "\n",
        "    return n + sum(tmpN)\n",
        "    \n",
        "N = 10000 + 1\n",
        "checkBoard = [0 for i in range(N)]\n",
        "\n",
        "for i in range(N):\n",
        "    try:\n",
        "        checkBoard[d(i)] += 1\n",
        "    except:\n",
        "        pass\n",
        "\n",
        "for i in range(N):\n",
        "    if checkBoard[i] == 0:\n",
        "        print(i)"
      ],
      "execution_count": null,
      "outputs": []
    },
    {
      "cell_type": "markdown",
      "metadata": {
        "id": "ZK0G2olsPsAh",
        "colab_type": "text"
      },
      "source": [
        "#03. 1065\t\n",
        "한수"
      ]
    },
    {
      "cell_type": "code",
      "metadata": {
        "id": "QheOsV2rVAIo",
        "colab_type": "code",
        "colab": {}
      },
      "source": [
        "def HanSue(N):\n",
        "    tmpN = list(map(int, str(N)))\n",
        "    L = len(tmpN)\n",
        "    if L == 1:\n",
        "        if N == 0:\n",
        "            return False\n",
        "        return True\n",
        "    if L == 2:\n",
        "        return True\n",
        "    \n",
        "    for i in range(0, L-2):\n",
        "        if (tmpN[i]-tmpN[i+1]) != (tmpN[i+1]-tmpN[i+2]):\n",
        "            return False\n",
        "    return True"
      ],
      "execution_count": 30,
      "outputs": []
    },
    {
      "cell_type": "code",
      "metadata": {
        "id": "GczRdovab_yD",
        "colab_type": "code",
        "colab": {
          "base_uri": "https://localhost:8080/",
          "height": 35
        },
        "outputId": "c382292e-a7ed-4147-c14b-a44d0b5206cf"
      },
      "source": [
        "HanSue(0)"
      ],
      "execution_count": 29,
      "outputs": [
        {
          "output_type": "execute_result",
          "data": {
            "text/plain": [
              "True"
            ]
          },
          "metadata": {
            "tags": []
          },
          "execution_count": 29
        }
      ]
    },
    {
      "cell_type": "code",
      "metadata": {
        "id": "Vd1JRvuicNfQ",
        "colab_type": "code",
        "colab": {
          "base_uri": "https://localhost:8080/",
          "height": 52
        },
        "outputId": "f151532e-f11a-4940-b66a-5b1fd62f8de4"
      },
      "source": [
        "N = int(input())\n",
        "count = 0\n",
        "for n in range(N+1):\n",
        "    if HanSue(n):\n",
        "        count += 1\n",
        "print(count)"
      ],
      "execution_count": 34,
      "outputs": [
        {
          "output_type": "stream",
          "text": [
            "1000\n",
            "144\n"
          ],
          "name": "stdout"
        }
      ]
    }
  ]
}
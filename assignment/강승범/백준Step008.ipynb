{
  "nbformat": 4,
  "nbformat_minor": 0,
  "metadata": {
    "colab": {
      "name": "백준Step008.ipynb",
      "provenance": [],
      "authorship_tag": "ABX9TyM2srJ0Kuz1UzuLW/b+hWZI",
      "include_colab_link": true
    },
    "kernelspec": {
      "name": "python3",
      "display_name": "Python 3"
    }
  },
  "cells": [
    {
      "cell_type": "markdown",
      "metadata": {
        "id": "view-in-github",
        "colab_type": "text"
      },
      "source": [
        "<a href=\"https://colab.research.google.com/github/bigboom1253/coding_test_study/blob/master/assignment/%EA%B0%95%EC%8A%B9%EB%B2%94/%EB%B0%B1%EC%A4%80Step008.ipynb\" target=\"_parent\"><img src=\"https://colab.research.google.com/assets/colab-badge.svg\" alt=\"Open In Colab\"/></a>"
      ]
    },
    {
      "cell_type": "markdown",
      "metadata": {
        "id": "xMALA6fQeFhI",
        "colab_type": "text"
      },
      "source": [
        "#01. 11654\n",
        "아스키 코드"
      ]
    },
    {
      "cell_type": "code",
      "metadata": {
        "id": "HnLbgnD5dsuv",
        "colab_type": "code",
        "colab": {
          "base_uri": "https://localhost:8080/",
          "height": 52
        },
        "outputId": "ba2ad0f4-61f3-4ea7-976c-1c6e83c7f236"
      },
      "source": [
        "C = input()\n",
        "print(ord(C))"
      ],
      "execution_count": 4,
      "outputs": [
        {
          "output_type": "stream",
          "text": [
            "A\n",
            "65\n"
          ],
          "name": "stdout"
        }
      ]
    },
    {
      "cell_type": "markdown",
      "metadata": {
        "id": "OHTuMftcfUGb",
        "colab_type": "text"
      },
      "source": [
        "#02. 11720  \n",
        "숫자의 합"
      ]
    },
    {
      "cell_type": "code",
      "metadata": {
        "id": "uodU-KwDfXC8",
        "colab_type": "code",
        "colab": {
          "base_uri": "https://localhost:8080/",
          "height": 70
        },
        "outputId": "be91a80f-ae4c-4343-9223-2902ec1f9dc4"
      },
      "source": [
        "N = int(input())\n",
        "numbers = input()\n",
        "numbers = [int(num) for num in numbers]\n",
        "print(sum(numbers))"
      ],
      "execution_count": 7,
      "outputs": [
        {
          "output_type": "stream",
          "text": [
            "6\n",
            "654321\n",
            "21\n"
          ],
          "name": "stdout"
        }
      ]
    },
    {
      "cell_type": "markdown",
      "metadata": {
        "id": "6H1WSMqGgPDa",
        "colab_type": "text"
      },
      "source": [
        "#03. 10809\n",
        "알파벳 찾기 "
      ]
    },
    {
      "cell_type": "code",
      "metadata": {
        "id": "hmD-C_8FgS3r",
        "colab_type": "code",
        "colab": {
          "base_uri": "https://localhost:8080/",
          "height": 52
        },
        "outputId": "10776727-e35d-4599-d836-821ce45f69e1"
      },
      "source": [
        "S = input()\n",
        "\n",
        "for ascii in range (ord('a'), ord('z')+1):\n",
        "    if chr(ascii) in S:\n",
        "        print(S.index(chr(ascii)) ,end=\" \")\n",
        "    else:\n",
        "        print(\"-1\",end=\" \")"
      ],
      "execution_count": 9,
      "outputs": [
        {
          "output_type": "stream",
          "text": [
            "baekjoon\n",
            "1 0 -1 -1 2 -1 -1 -1 -1 4 3 -1 -1 7 5 -1 -1 -1 -1 -1 -1 -1 -1 -1 -1 -1 "
          ],
          "name": "stdout"
        }
      ]
    },
    {
      "cell_type": "markdown",
      "metadata": {
        "id": "0U6k9WnWhNt6",
        "colab_type": "text"
      },
      "source": [
        "#04. 2675\t\n",
        "문자열 반복"
      ]
    },
    {
      "cell_type": "code",
      "metadata": {
        "id": "MhFo_mi7hPwD",
        "colab_type": "code",
        "colab": {
          "base_uri": "https://localhost:8080/",
          "height": 70
        },
        "outputId": "b18c382a-0fa7-4196-c38e-ef0f4cc7ecde"
      },
      "source": [
        "N = int(input())\n",
        "\n",
        "for i in range(N):\n",
        "    iter, *text = input().split()\n",
        "    iter = int(iter)\n",
        "    for t in text[0]:\n",
        "        print(t*iter,end=\"\")\n",
        "    print()"
      ],
      "execution_count": 18,
      "outputs": [
        {
          "output_type": "stream",
          "text": [
            "1\n",
            "3 ABC\n",
            "AAABBBCCC\n"
          ],
          "name": "stdout"
        }
      ]
    },
    {
      "cell_type": "markdown",
      "metadata": {
        "id": "vfvjQMoo3Cei",
        "colab_type": "text"
      },
      "source": [
        "#05. 1157\t\n",
        "단어 공부"
      ]
    },
    {
      "cell_type": "code",
      "metadata": {
        "id": "R7_TBqNg3FCn",
        "colab_type": "code",
        "colab": {
          "base_uri": "https://localhost:8080/",
          "height": 52
        },
        "outputId": "a72a6714-f0b4-475a-e4de-1e01a791a74b"
      },
      "source": [
        "S = input()\n",
        "S = S.upper()\n",
        "\n",
        "alphabet = [0 for ascii in range(ord('A'), ord('Z')+1)]\n",
        "\n",
        "for char in S:\n",
        "    alphabet[ord(char)-ord('A')] += 1\n",
        "\n",
        "most = alphabet.index(max(alphabet))\n",
        "\n",
        "for idx in range(most+1, 26):\n",
        "    if alphabet[most] == alphabet[idx]:\n",
        "        print(\"?\")\n",
        "        exit()\n",
        "print( chr(alphabet.index(max(alphabet)) + ord('A')) )"
      ],
      "execution_count": 1,
      "outputs": [
        {
          "output_type": "stream",
          "text": [
            "zZa\n",
            "Z\n"
          ],
          "name": "stdout"
        }
      ]
    },
    {
      "cell_type": "code",
      "metadata": {
        "id": "6Rtsq7wd6nOU",
        "colab_type": "code",
        "colab": {}
      },
      "source": [
        "exit()"
      ],
      "execution_count": 27,
      "outputs": []
    },
    {
      "cell_type": "markdown",
      "metadata": {
        "id": "x0iKSWif8_RF",
        "colab_type": "text"
      },
      "source": [
        "#06. 1152\t\n",
        "단어의 개수"
      ]
    },
    {
      "cell_type": "code",
      "metadata": {
        "id": "jb0EYESa9OwE",
        "colab_type": "code",
        "colab": {
          "base_uri": "https://localhost:8080/",
          "height": 52
        },
        "outputId": "b5a2d132-b6a4-4fe5-b7de-57e5847689dd"
      },
      "source": [
        "print(len(input().split()))"
      ],
      "execution_count": 3,
      "outputs": [
        {
          "output_type": "stream",
          "text": [
            "The Curious Case of Benjamin Button\n",
            "6\n"
          ],
          "name": "stdout"
        }
      ]
    },
    {
      "cell_type": "markdown",
      "metadata": {
        "id": "HdQq6HGe9biI",
        "colab_type": "text"
      },
      "source": [
        "#07. 2908\t\n",
        "상수"
      ]
    },
    {
      "cell_type": "code",
      "metadata": {
        "id": "hk2XJbf0IkIw",
        "colab_type": "code",
        "colab": {
          "base_uri": "https://localhost:8080/",
          "height": 106
        },
        "outputId": "be96ab90-ee66-4bb4-dc54-e83f9f41a58f"
      },
      "source": [
        "S1,S2 = input().split()\n",
        "\n",
        "print(type(S1))\n",
        "print(S1)\n",
        "\n",
        "S1 = [S1[len(S1)-idx-1] for idx in range(len(S1))]\n",
        "S2 = [S2[len(S2)-idx-1] for idx in range(len(S2))]\n",
        "\n",
        "print(type(S1))\n",
        "print(S1)\n",
        "\n",
        "type(S1)\n",
        "print(type(S1))\n",
        "print(S1)"
      ],
      "execution_count": 20,
      "outputs": [
        {
          "output_type": "stream",
          "text": [
            "734 893\n",
            "<class 'str'>\n",
            "734\n",
            "<class 'list'>\n",
            "['4', '3', '7']\n"
          ],
          "name": "stdout"
        }
      ]
    },
    {
      "cell_type": "code",
      "metadata": {
        "id": "hJl4nqOP9TWz",
        "colab_type": "code",
        "colab": {
          "base_uri": "https://localhost:8080/",
          "height": 259
        },
        "outputId": "f7524431-46f9-4a62-f97f-89ba85784e61"
      },
      "source": [
        "S1,S2 = input().split()\n",
        "S1 = int(str([S1[len(S1)-idx-1] for idx in range(len(S1))]))\n",
        "S2 = int(str([S1[len(S2)-idx-1] for idx in range(len(S2))]))\n",
        "\n",
        "print(S1,S2)"
      ],
      "execution_count": 15,
      "outputs": [
        {
          "output_type": "stream",
          "text": [
            "734 893\n"
          ],
          "name": "stdout"
        },
        {
          "output_type": "error",
          "ename": "ValueError",
          "evalue": "ignored",
          "traceback": [
            "\u001b[0;31m---------------------------------------------------------------------------\u001b[0m",
            "\u001b[0;31mValueError\u001b[0m                                Traceback (most recent call last)",
            "\u001b[0;32m<ipython-input-15-2372ae70d4f8>\u001b[0m in \u001b[0;36m<module>\u001b[0;34m()\u001b[0m\n\u001b[1;32m      1\u001b[0m \u001b[0mS1\u001b[0m\u001b[0;34m,\u001b[0m\u001b[0mS2\u001b[0m \u001b[0;34m=\u001b[0m \u001b[0minput\u001b[0m\u001b[0;34m(\u001b[0m\u001b[0;34m)\u001b[0m\u001b[0;34m.\u001b[0m\u001b[0msplit\u001b[0m\u001b[0;34m(\u001b[0m\u001b[0;34m)\u001b[0m\u001b[0;34m\u001b[0m\u001b[0;34m\u001b[0m\u001b[0m\n\u001b[0;32m----> 2\u001b[0;31m \u001b[0mS1\u001b[0m \u001b[0;34m=\u001b[0m \u001b[0mint\u001b[0m\u001b[0;34m(\u001b[0m\u001b[0mstr\u001b[0m\u001b[0;34m(\u001b[0m\u001b[0;34m[\u001b[0m\u001b[0mS1\u001b[0m\u001b[0;34m[\u001b[0m\u001b[0mlen\u001b[0m\u001b[0;34m(\u001b[0m\u001b[0mS1\u001b[0m\u001b[0;34m)\u001b[0m\u001b[0;34m-\u001b[0m\u001b[0midx\u001b[0m\u001b[0;34m-\u001b[0m\u001b[0;36m1\u001b[0m\u001b[0;34m]\u001b[0m \u001b[0;32mfor\u001b[0m \u001b[0midx\u001b[0m \u001b[0;32min\u001b[0m \u001b[0mrange\u001b[0m\u001b[0;34m(\u001b[0m\u001b[0mlen\u001b[0m\u001b[0;34m(\u001b[0m\u001b[0mS1\u001b[0m\u001b[0;34m)\u001b[0m\u001b[0;34m)\u001b[0m\u001b[0;34m]\u001b[0m\u001b[0;34m)\u001b[0m\u001b[0;34m.\u001b[0m\u001b[0mreplace\u001b[0m\u001b[0;34m(\u001b[0m\u001b[0;34m\"\\'\"\u001b[0m\u001b[0;34m,\u001b[0m\u001b[0;34m\"\"\u001b[0m\u001b[0;34m)\u001b[0m\u001b[0;34m.\u001b[0m\u001b[0mreplace\u001b[0m\u001b[0;34m(\u001b[0m\u001b[0;34m\"[]\"\u001b[0m\u001b[0;34m,\u001b[0m\u001b[0;34m\"\"\u001b[0m\u001b[0;34m)\u001b[0m\u001b[0;34m)\u001b[0m\u001b[0;34m\u001b[0m\u001b[0;34m\u001b[0m\u001b[0m\n\u001b[0m\u001b[1;32m      3\u001b[0m \u001b[0mS2\u001b[0m \u001b[0;34m=\u001b[0m \u001b[0mint\u001b[0m\u001b[0;34m(\u001b[0m\u001b[0mstr\u001b[0m\u001b[0;34m(\u001b[0m\u001b[0;34m[\u001b[0m\u001b[0mS1\u001b[0m\u001b[0;34m[\u001b[0m\u001b[0mlen\u001b[0m\u001b[0;34m(\u001b[0m\u001b[0mS2\u001b[0m\u001b[0;34m)\u001b[0m\u001b[0;34m-\u001b[0m\u001b[0midx\u001b[0m\u001b[0;34m-\u001b[0m\u001b[0;36m1\u001b[0m\u001b[0;34m]\u001b[0m \u001b[0;32mfor\u001b[0m \u001b[0midx\u001b[0m \u001b[0;32min\u001b[0m \u001b[0mrange\u001b[0m\u001b[0;34m(\u001b[0m\u001b[0mlen\u001b[0m\u001b[0;34m(\u001b[0m\u001b[0mS2\u001b[0m\u001b[0;34m)\u001b[0m\u001b[0;34m)\u001b[0m\u001b[0;34m]\u001b[0m\u001b[0;34m)\u001b[0m\u001b[0;34m)\u001b[0m\u001b[0;34m\u001b[0m\u001b[0;34m\u001b[0m\u001b[0m\n\u001b[1;32m      4\u001b[0m \u001b[0;34m\u001b[0m\u001b[0m\n\u001b[1;32m      5\u001b[0m \u001b[0mprint\u001b[0m\u001b[0;34m(\u001b[0m\u001b[0mS1\u001b[0m\u001b[0;34m,\u001b[0m\u001b[0mS2\u001b[0m\u001b[0;34m)\u001b[0m\u001b[0;34m\u001b[0m\u001b[0;34m\u001b[0m\u001b[0m\n",
            "\u001b[0;31mValueError\u001b[0m: invalid literal for int() with base 10: '[4, 3, 7]'"
          ]
        }
      ]
    },
    {
      "cell_type": "code",
      "metadata": {
        "id": "Dy5V6DN_HOXV",
        "colab_type": "code",
        "colab": {}
      },
      "source": [
        ""
      ],
      "execution_count": null,
      "outputs": []
    }
  ]
}
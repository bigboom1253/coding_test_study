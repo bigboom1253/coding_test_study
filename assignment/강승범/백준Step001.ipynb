{
  "nbformat": 4,
  "nbformat_minor": 0,
  "metadata": {
    "colab": {
      "name": "백준Step001.ipynb",
      "provenance": [],
      "authorship_tag": "ABX9TyOdEwoTiBoH6D6FN0m5X0M6",
      "include_colab_link": true
    },
    "kernelspec": {
      "name": "python3",
      "display_name": "Python 3"
    }
  },
  "cells": [
    {
      "cell_type": "markdown",
      "metadata": {
        "id": "view-in-github",
        "colab_type": "text"
      },
      "source": [
        "<a href=\"https://colab.research.google.com/github/bigboom1253/coding_test_study/blob/master/assignment/%EA%B0%95%EC%8A%B9%EB%B2%94/%EB%B0%B1%EC%A4%80Step001.ipynb\" target=\"_parent\"><img src=\"https://colab.research.google.com/assets/colab-badge.svg\" alt=\"Open In Colab\"/></a>"
      ]
    },
    {
      "cell_type": "markdown",
      "metadata": {
        "id": "4jLT7uXyAvrB",
        "colab_type": "text"
      },
      "source": [
        "# 01. 2557\n",
        "Hello World"
      ]
    },
    {
      "cell_type": "code",
      "metadata": {
        "id": "BKpdK5dXEICH",
        "colab_type": "code",
        "colab": {}
      },
      "source": [
        "print(\"Hello World!\")"
      ],
      "execution_count": null,
      "outputs": []
    },
    {
      "cell_type": "markdown",
      "metadata": {
        "id": "pUXwlxfrEqgV",
        "colab_type": "text"
      },
      "source": [
        "#02. 10718\n",
        "We love kriii"
      ]
    },
    {
      "cell_type": "code",
      "metadata": {
        "id": "kAmi2cpoEpyH",
        "colab_type": "code",
        "colab": {}
      },
      "source": [
        "print(\"강한친구 대한육군\")\n",
        "print(\"강한친구 대한육군\")"
      ],
      "execution_count": null,
      "outputs": []
    },
    {
      "cell_type": "markdown",
      "metadata": {
        "id": "NCy2fHhfE2JG",
        "colab_type": "text"
      },
      "source": [
        "#03. 10171\n",
        "고양이"
      ]
    },
    {
      "cell_type": "code",
      "metadata": {
        "id": "hFBCqPjGE1vg",
        "colab_type": "code",
        "colab": {
          "base_uri": "https://localhost:8080/",
          "height": 88
        },
        "outputId": "178145e1-0c22-41e6-b42b-fa4d1cc09589"
      },
      "source": [
        "#print(\"\\\\    /\\\\\\n )  ( ')\\n(  /  )\\n \\\\(__)|\")\n",
        "print(\"\\    /\\\\\\n )  ( ')\\n(  /  )\\n \\(__)|\")"
      ],
      "execution_count": null,
      "outputs": [
        {
          "output_type": "stream",
          "text": [
            "\\    /\\\n",
            " )  ( ')\n",
            "(  /  )\n",
            " \\(__)|\n"
          ],
          "name": "stdout"
        }
      ]
    },
    {
      "cell_type": "markdown",
      "metadata": {
        "id": "AO3zRCkwJWKS",
        "colab_type": "text"
      },
      "source": [
        "#04. 10172 \n",
        "개"
      ]
    },
    {
      "cell_type": "code",
      "metadata": {
        "id": "mlMkunxdJWed",
        "colab_type": "code",
        "colab": {
          "base_uri": "https://localhost:8080/",
          "height": 106
        },
        "outputId": "d52d819a-9110-450e-9eb9-5aac9042a352"
      },
      "source": [
        "print(\"\"\"|\\\\_/|\n",
        "|q p|   /}\n",
        "( 0 )\\\"\\\"\\\"\\\\\n",
        "|\\\"^\\\"`    |\n",
        "||_/=\\\\\\\\__|\"\"\")\n"
      ],
      "execution_count": null,
      "outputs": [
        {
          "output_type": "stream",
          "text": [
            "|\\_/|\n",
            "|q p|   /}\n",
            "( 0 )\"\"\"\\\n",
            "|\"^\"`    |\n",
            "||_/=\\\\__|\n"
          ],
          "name": "stdout"
        }
      ]
    },
    {
      "cell_type": "markdown",
      "metadata": {
        "id": "uV5dXO_VJgOa",
        "colab_type": "text"
      },
      "source": [
        "#05. 1000\n",
        "A+B"
      ]
    },
    {
      "cell_type": "code",
      "metadata": {
        "id": "hucCV0PuoS8H",
        "colab_type": "code",
        "colab": {
          "base_uri": "https://localhost:8080/",
          "height": 52
        },
        "outputId": "eb9be0f9-3b2b-485a-bb9e-2885e55dbf73"
      },
      "source": [
        "tmp = input().split()\n",
        "print(int(tmp[0])+int(tmp[1]))"
      ],
      "execution_count": null,
      "outputs": [
        {
          "output_type": "stream",
          "text": [
            "1 2\n",
            "3\n"
          ],
          "name": "stdout"
        }
      ]
    },
    {
      "cell_type": "code",
      "metadata": {
        "id": "EPxHCpvkLgPA",
        "colab_type": "code",
        "colab": {}
      },
      "source": [
        "# 숏코딩\n",
        "print(eval('+'.join(input())))\n",
        "\n",
        "print(sum(map(int,input().split())))\n",
        "\n",
        "print(eval(input().replace(' ','+')))"
      ],
      "execution_count": null,
      "outputs": []
    },
    {
      "cell_type": "markdown",
      "metadata": {
        "id": "KRoGWVqaMcSy",
        "colab_type": "text"
      },
      "source": [
        "#06. 1001\n",
        "A-B"
      ]
    },
    {
      "cell_type": "code",
      "metadata": {
        "id": "qzWRWf2OMf7h",
        "colab_type": "code",
        "colab": {}
      },
      "source": [
        "tmp = input().split()\n",
        "print(int(tmp[0]) - int(tmp[1]))"
      ],
      "execution_count": null,
      "outputs": []
    },
    {
      "cell_type": "markdown",
      "metadata": {
        "id": "Ce2VJXpRMris",
        "colab_type": "text"
      },
      "source": [
        "#07. 10998\n",
        "A×B"
      ]
    },
    {
      "cell_type": "code",
      "metadata": {
        "id": "XhqE6UCOMxVA",
        "colab_type": "code",
        "colab": {}
      },
      "source": [
        "tmp = input().split()\n",
        "print(int(tmp[0]) * int(tmp[1]))"
      ],
      "execution_count": null,
      "outputs": []
    },
    {
      "cell_type": "markdown",
      "metadata": {
        "id": "zwlLK1z-MzSO",
        "colab_type": "text"
      },
      "source": [
        "#08. 1008\n",
        "A/B"
      ]
    },
    {
      "cell_type": "code",
      "metadata": {
        "id": "rTBZxCjHM2XY",
        "colab_type": "code",
        "colab": {}
      },
      "source": [
        "a, b = input().split()\n",
        "print(float(a)/float(b))"
      ],
      "execution_count": null,
      "outputs": []
    },
    {
      "cell_type": "code",
      "metadata": {
        "id": "m0VGcSHibu9r",
        "colab_type": "code",
        "colab": {
          "base_uri": "https://localhost:8080/",
          "height": 124
        },
        "outputId": "ad4372f3-bc4a-4631-f764-bd53726c7131"
      },
      "source": [
        "tmp = input()\n",
        "\n",
        "print(type(tmp))\n",
        "\n",
        "a, b = tmp.split()\n",
        "\n",
        "print(a, type(a), b, type(b))\n",
        "\n",
        "c = tmp.split()\n",
        "\n",
        "print(c, type(c))\n",
        "#print(int(tmp[0]) / int(tmp[1]))\n",
        "ans = float(a) / float(b)\n",
        "print(\"{:.32}\".format(ans))\n",
        "\n",
        "\n",
        "0.33333333333333333333333333333333\n",
        "0.3333333333333333"
      ],
      "execution_count": null,
      "outputs": [
        {
          "output_type": "stream",
          "text": [
            "1 3\n",
            "<class 'str'>\n",
            "1 <class 'str'> 3 <class 'str'>\n",
            "['1', '3'] <class 'list'>\n",
            "0.33333333333333331482961625624739\n"
          ],
          "name": "stdout"
        },
        {
          "output_type": "execute_result",
          "data": {
            "text/plain": [
              "0.3333333333333333"
            ]
          },
          "metadata": {
            "tags": []
          },
          "execution_count": 20
        }
      ]
    },
    {
      "cell_type": "code",
      "metadata": {
        "id": "Gp03Yres7XUj",
        "colab_type": "code",
        "colab": {
          "base_uri": "https://localhost:8080/",
          "height": 70
        },
        "outputId": "038d35fa-670e-4240-efe6-d8fec241d4df"
      },
      "source": [
        "ans = float(a) / float(b)\n",
        "print(ans)\n",
        "\n",
        "print(float(a))\n",
        "ans = float(a) / float(b)\n",
        "print(ans)"
      ],
      "execution_count": null,
      "outputs": [
        {
          "output_type": "stream",
          "text": [
            "0.3333333333333333\n",
            "1.0\n",
            "0.3333333333333333\n"
          ],
          "name": "stdout"
        }
      ]
    },
    {
      "cell_type": "markdown",
      "metadata": {
        "id": "Gtp1gxu2NKj7",
        "colab_type": "text"
      },
      "source": [
        "#09. 10869\n",
        "사칙연산"
      ]
    },
    {
      "cell_type": "code",
      "metadata": {
        "id": "-99CjYH2pk0V",
        "colab_type": "code",
        "colab": {
          "base_uri": "https://localhost:8080/",
          "height": 124
        },
        "outputId": "3e87cc65-0fa0-4495-b2ec-5c9bb561d788"
      },
      "source": [
        "tmp = input().split()\n",
        "a=int(tmp[0])\n",
        "b=int(tmp[1])\n",
        "\n",
        "print(a+b)\n",
        "print(a-b)\n",
        "print(a*b)\n",
        "print(int(a/b))\n",
        "print(a%b)"
      ],
      "execution_count": null,
      "outputs": [
        {
          "output_type": "stream",
          "text": [
            "1 2\n",
            "3\n",
            "-1\n",
            "2\n",
            "0\n",
            "1\n"
          ],
          "name": "stdout"
        }
      ]
    },
    {
      "cell_type": "markdown",
      "metadata": {
        "id": "O7JxLzdYNhTm",
        "colab_type": "text"
      },
      "source": [
        "# 10. 10430\n",
        "나머지"
      ]
    },
    {
      "cell_type": "code",
      "metadata": {
        "id": "ZUBw4rih8-Gi",
        "colab_type": "code",
        "colab": {
          "base_uri": "https://localhost:8080/",
          "height": 106
        },
        "outputId": "47e7f848-7edf-4236-bec1-67ae55845c41"
      },
      "source": [
        "A, B, C = input().split()\n",
        "\n",
        "A = int(A)\n",
        "B = int(B)\n",
        "C = int(C)\n",
        "\n",
        "print((A+B)%C)\n",
        "print(((A%C) + (B%C))%C)\n",
        "print((A*B)%C)\n",
        "print(((A%C) * (B%C))%C)"
      ],
      "execution_count": null,
      "outputs": [
        {
          "output_type": "stream",
          "text": [
            "5 8 4\n",
            "1\n",
            "1\n",
            "0\n",
            "0\n"
          ],
          "name": "stdout"
        }
      ]
    },
    {
      "cell_type": "markdown",
      "metadata": {
        "id": "36Bw0Z4WNxyo",
        "colab_type": "text"
      },
      "source": [
        "#11. 2588 \n",
        "곱셈"
      ]
    },
    {
      "cell_type": "code",
      "metadata": {
        "id": "97AIvCYl-0wx",
        "colab_type": "code",
        "colab": {
          "base_uri": "https://localhost:8080/",
          "height": 124
        },
        "outputId": "a8846ceb-55d7-468b-f942-82fd918d15d2"
      },
      "source": [
        "A = int(input())\n",
        "B = int(input())\n",
        "\n",
        "print(B%10*A)\n",
        "print(int(B%100/10)*A)\n",
        "print(int(B/100)*A)\n",
        "print(A*B)"
      ],
      "execution_count": null,
      "outputs": [
        {
          "output_type": "stream",
          "text": [
            "472\n",
            "385\n",
            "2360\n",
            "3776\n",
            "1416\n",
            "181720\n"
          ],
          "name": "stdout"
        }
      ]
    },
    {
      "cell_type": "code",
      "metadata": {
        "id": "FsO13jf4AxVK",
        "colab_type": "code",
        "colab": {
          "base_uri": "https://localhost:8080/",
          "height": 124
        },
        "outputId": "57ce7dff-2202-4fd8-bc5f-4c43cf7d78c3"
      },
      "source": [
        "A = int(input())\n",
        "B = input()\n",
        "\n",
        "print(A*int(B[2]))\n",
        "print(A*int(B[1]))\n",
        "print(A*int(B[0]))\n",
        "\n",
        "print(A*int(B))"
      ],
      "execution_count": null,
      "outputs": [
        {
          "output_type": "stream",
          "text": [
            "472\n",
            "385\n",
            "2360\n",
            "3776\n",
            "1416\n",
            "181720\n"
          ],
          "name": "stdout"
        }
      ]
    }
  ]
}
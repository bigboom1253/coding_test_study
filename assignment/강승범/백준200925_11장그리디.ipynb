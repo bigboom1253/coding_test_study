{
  "nbformat": 4,
  "nbformat_minor": 0,
  "metadata": {
    "colab": {
      "name": "백준200925_11장그리디.ipynb",
      "provenance": [],
      "authorship_tag": "ABX9TyPXQ9IiscKufT3NDG1kpNYM",
      "include_colab_link": true
    },
    "kernelspec": {
      "name": "python3",
      "display_name": "Python 3"
    }
  },
  "cells": [
    {
      "cell_type": "markdown",
      "metadata": {
        "id": "view-in-github",
        "colab_type": "text"
      },
      "source": [
        "<a href=\"https://colab.research.google.com/github/bigboom1253/coding_test_study/blob/master/assignment/%EA%B0%95%EC%8A%B9%EB%B2%94/%EB%B0%B1%EC%A4%80200925_11%EC%9E%A5%EA%B7%B8%EB%A6%AC%EB%94%94.ipynb\" target=\"_parent\"><img src=\"https://colab.research.google.com/assets/colab-badge.svg\" alt=\"Open In Colab\"/></a>"
      ]
    },
    {
      "cell_type": "markdown",
      "metadata": {
        "id": "I9nl8Hr_vbwk",
        "colab_type": "text"
      },
      "source": [
        "#Q. 1439\n",
        "\n",
        "뒤집기"
      ]
    },
    {
      "cell_type": "code",
      "metadata": {
        "id": "TMn5k-HIse3J",
        "colab_type": "code",
        "colab": {
          "base_uri": "https://localhost:8080/",
          "height": 52
        },
        "outputId": "bdc1d383-5984-48ff-e52f-05b050e4cf33"
      },
      "source": [
        "# 입력 받아서 int배열로 가공\n",
        "S = input()\n",
        "\n",
        "S_int = []\n",
        "for s in S:\n",
        "    S_int.append(int(s))\n",
        "\n",
        "# 임시 변수\n",
        "tmp_s = -1\n",
        "count = [0,0]\n",
        "\n",
        "# 뭉치 분리\n",
        "# ex) 1110001100 => 111 000 11 00 \n",
        "# 앞뒤가 다를때 카운트\n",
        "for s in S_int:\n",
        "    if tmp_s == -1:\n",
        "        count[s] += 1\n",
        "    else:\n",
        "        if not (tmp_s == s):\n",
        "            count[s] += 1\n",
        "    tmp_s = s\n",
        "        \n",
        "# 카운트 적은걸 출력\n",
        "print(min(count))"
      ],
      "execution_count": 8,
      "outputs": [
        {
          "output_type": "stream",
          "text": [
            "11011001\n",
            "2\n"
          ],
          "name": "stdout"
        }
      ]
    },
    {
      "cell_type": "markdown",
      "metadata": {
        "id": "eVMsMSjnxVOg",
        "colab_type": "text"
      },
      "source": [
        "#Q.18406\n",
        "\n",
        "럭키 스트레이트"
      ]
    },
    {
      "cell_type": "code",
      "metadata": {
        "id": "47gDPUQwvrlM",
        "colab_type": "code",
        "colab": {
          "base_uri": "https://localhost:8080/",
          "height": 52
        },
        "outputId": "ad1588a2-01d7-445a-f51a-82e9d331eb5e"
      },
      "source": [
        "# 입력 받아서 int배열로 가공\n",
        "S = input()\n",
        "\n",
        "S_int = []\n",
        "for s in S:\n",
        "    S_int.append(int(s))\n",
        "\n",
        "# 임시 변수\n",
        "pivot = int(len(S_int) / 2)\n",
        "point = [0,0]\n",
        "\n",
        "# 맞춰서 더해줌\n",
        "for no,s in enumerate(S_int):\n",
        "    point[no//pivot] += s\n",
        "\n",
        "# 출력\n",
        "print([\"READY\",\"LUCKY\"][+(point[0]==point[1])])"
      ],
      "execution_count": 14,
      "outputs": [
        {
          "output_type": "stream",
          "text": [
            "123123\n",
            "LUCKY\n"
          ],
          "name": "stdout"
        }
      ]
    }
  ]
}
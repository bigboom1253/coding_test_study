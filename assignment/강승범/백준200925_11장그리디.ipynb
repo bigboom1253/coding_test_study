{
  "nbformat": 4,
  "nbformat_minor": 0,
  "metadata": {
    "colab": {
      "name": "백준200925_11장그리디.ipynb",
      "provenance": [],
      "authorship_tag": "ABX9TyM7sOI6Ouhf/YbfyTszHWeK",
      "include_colab_link": true
    },
    "kernelspec": {
      "name": "python3",
      "display_name": "Python 3"
    }
  },
  "cells": [
    {
      "cell_type": "markdown",
      "metadata": {
        "id": "view-in-github",
        "colab_type": "text"
      },
      "source": [
        "<a href=\"https://colab.research.google.com/github/bigboom1253/coding_test_study/blob/master/assignment/%EA%B0%95%EC%8A%B9%EB%B2%94/%EB%B0%B1%EC%A4%80200925_11%EC%9E%A5%EA%B7%B8%EB%A6%AC%EB%94%94.ipynb\" target=\"_parent\"><img src=\"https://colab.research.google.com/assets/colab-badge.svg\" alt=\"Open In Colab\"/></a>"
      ]
    },
    {
      "cell_type": "markdown",
      "metadata": {
        "id": "I9nl8Hr_vbwk"
      },
      "source": [
        "#Q. 1439\n",
        "\n",
        "뒤집기"
      ]
    },
    {
      "cell_type": "code",
      "metadata": {
        "id": "TMn5k-HIse3J",
        "outputId": "bdc1d383-5984-48ff-e52f-05b050e4cf33",
        "colab": {
          "base_uri": "https://localhost:8080/",
          "height": 52
        }
      },
      "source": [
        "# 입력 받아서 int배열로 가공\n",
        "S = input()\n",
        "\n",
        "S_int = []\n",
        "for s in S:\n",
        "    S_int.append(int(s))\n",
        "\n",
        "# 임시 변수\n",
        "tmp_s = -1\n",
        "count = [0,0]\n",
        "\n",
        "# 뭉치 분리\n",
        "# ex) 1110001100 => 111 000 11 00 \n",
        "# 앞뒤가 다를때 카운트\n",
        "for s in S_int:\n",
        "    if tmp_s == -1:\n",
        "        count[s] += 1\n",
        "    else:\n",
        "        if not (tmp_s == s):\n",
        "            count[s] += 1\n",
        "    tmp_s = s\n",
        "        \n",
        "# 카운트 적은걸 출력\n",
        "print(min(count))"
      ],
      "execution_count": null,
      "outputs": [
        {
          "output_type": "stream",
          "text": [
            "11011001\n",
            "2\n"
          ],
          "name": "stdout"
        }
      ]
    },
    {
      "cell_type": "markdown",
      "metadata": {
        "id": "eVMsMSjnxVOg"
      },
      "source": [
        "#Q.18406\n",
        "\n",
        "럭키 스트레이트"
      ]
    },
    {
      "cell_type": "code",
      "metadata": {
        "id": "47gDPUQwvrlM",
        "outputId": "ad1588a2-01d7-445a-f51a-82e9d331eb5e",
        "colab": {
          "base_uri": "https://localhost:8080/",
          "height": 52
        }
      },
      "source": [
        "# 입력 받아서 int배열로 가공\n",
        "S = input()\n",
        "\n",
        "S_int = []\n",
        "for s in S:\n",
        "    S_int.append(int(s))\n",
        "\n",
        "# 임시 변수\n",
        "pivot = int(len(S_int) / 2)\n",
        "point = [0,0]\n",
        "\n",
        "# 맞춰서 더해줌\n",
        "for no,s in enumerate(S_int):\n",
        "    point[no//pivot] += s\n",
        "\n",
        "# 출력\n",
        "print([\"READY\",\"LUCKY\"][+(point[0]==point[1])])"
      ],
      "execution_count": null,
      "outputs": [
        {
          "output_type": "stream",
          "text": [
            "123123\n",
            "LUCKY\n"
          ],
          "name": "stdout"
        }
      ]
    },
    {
      "cell_type": "code",
      "metadata": {
        "id": "9z6-OJWSHsSa",
        "outputId": "b293e203-20e3-4f7d-a98b-81fbd8940480",
        "colab": {
          "base_uri": "https://localhost:8080/",
          "height": 52
        }
      },
      "source": [
        "S = list(map(int,input()))\n",
        "pivot = len(S) // 2\n",
        "print([\"READY\",\"LUCKY\"][+(sum(S[:pivot])==sum(S[pivot:]))])"
      ],
      "execution_count": null,
      "outputs": [
        {
          "output_type": "stream",
          "text": [
            "11233211\n",
            "LUCKY\n"
          ],
          "name": "stdout"
        }
      ]
    },
    {
      "cell_type": "markdown",
      "metadata": {
        "id": "4ol9-ngbLEvT"
      },
      "source": [
        "#Q.3190\n",
        "\n",
        "뱀"
      ]
    },
    {
      "cell_type": "code",
      "metadata": {
        "id": "dR9xzdW-rHTk",
        "outputId": "1365fac9-a929-4c39-e7df-d663d00a4191",
        "colab": {
          "base_uri": "https://localhost:8080/",
          "height": 52
        }
      },
      "source": [
        "macro=''' \n",
        "a=1 \n",
        "b=54  \n",
        "c=a+b \n",
        "d=a-b \n",
        "print(c**2+d**2) \n",
        "''' \n",
        " \n",
        "exec(macro) \n",
        "a,b,c,d "
      ],
      "execution_count": 12,
      "outputs": [
        {
          "output_type": "stream",
          "text": [
            "5834\n"
          ],
          "name": "stdout"
        },
        {
          "output_type": "execute_result",
          "data": {
            "text/plain": [
              "(1, 54, 55, -53)"
            ]
          },
          "metadata": {
            "tags": []
          },
          "execution_count": 12
        }
      ]
    },
    {
      "cell_type": "code",
      "metadata": {
        "id": "VogjbxN2uCW9",
        "outputId": "7594431b-d8d1-48d6-db26-84a1c20658f8",
        "colab": {
          "base_uri": "https://localhost:8080/",
          "height": 408
        }
      },
      "source": [
        "# 좌표를 숫자 하나로 합쳐서 사용\n",
        "# ex) (x,y) : (1,2) = 1 * 1000 + 2 = 1002\n",
        "\n",
        "# 이동 방향\n",
        "#    >         V          <         ㅅ\n",
        "# 001,000 / 000, 001 / -001, 000 / 000, -001 \n",
        "dir = [1000, 1, -1000, -1]\n",
        "cur_dir = 0 # 현재 이동 방향\n",
        "\n",
        "L = -1 # 턴 레프트\n",
        "D = 1 # 턴 롸잇\n",
        "\n",
        "# 입력 파트 #######################\n",
        "# 개 길어 \n",
        "\n",
        "N = int(input()) # 맵 크기\n",
        "\n",
        "K = int(input()) # 사과 갯수\n",
        "K_pos = [] # 사과 위치\n",
        "# 앞이 행, 뒤가 열 이라니까\n",
        "# 앞이 y 뒤가 x 인거임 \n",
        "for tmp in range(K):\n",
        "    y, x = input().split()\n",
        "    K_pos.append( int(x)*1000 + int(y) )\n",
        "\n",
        "M = int(input()) # 동작 횟수\n",
        "M_dir = [] # 동작   \n",
        "for tmp in range(M):\n",
        "    t, C = input().split()\n",
        "    M_dir.append( [int(t), C] )\n",
        "\n",
        "# 입력 끝 ##########################\n",
        "\n",
        "sec = 0 # 현재 시간\n",
        "snake = [1001] # 뱀의 현재 위치 (1,1)\n",
        "\n",
        "print(\"=\"*25)\n",
        "\n",
        "# Snake 게임\n",
        "# 타이머 - 이동1 - 충돌 검사 - 사과 검사 - 이동2 - 방향 전환\n",
        "while(True):\n",
        "\n",
        "    # 타이머\n",
        "    sec += 1\n",
        "\n",
        "    # 이동1\n",
        "    # 마지막 위치 + 방향\n",
        "    snake.append( snake[-1] + dir[cur_dir] )\n",
        "    print(sec, snake)\n",
        "    \n",
        "    # 충돌 검사 : x, y, 몸\n",
        "    ### x좌표 - 벽\n",
        "    if not (0 < (snake[-1]//1000) <= N):\n",
        "        print(\"x\")\n",
        "        break\n",
        "    ### y좌표 - 벽\n",
        "    if not (0 < (snake[-1]%1000) <= N):\n",
        "        print(\"y\")\n",
        "        break    \n",
        "    ### 머리 - 몸\n",
        "    if snake[-1] in snake[:-1]:\n",
        "        print(\"body\")\n",
        "        break\n",
        "\n",
        "    # 사과 검사\n",
        "    ### 사과 획득 시 : 사과 제거\n",
        "    if snake[-1] in K_pos:\n",
        "        K_pos.remove(snake[-1])\n",
        "    ### 사과 미획득 시 : 몸 끄트머리 제거\n",
        "    else:\n",
        "        snake.pop(0)\n",
        "\n",
        "    # 방향 전환\n",
        "    ### 남은게 있으면\n",
        "    if len(M_dir) > 0:\n",
        "        ### 시간 체크해서  \n",
        "        if M_dir[0][0] == sec:\n",
        "            ### 꺽어\n",
        "            print(\"turn\")\n",
        "            cur_dir += [1,-1][+(M_dir[0][1]=='L')]\n",
        "            ### OutOfIndex 방지용\n",
        "            cur_dir = cur_dir % 4\n",
        "            M_dir.pop(0)\n",
        "\n",
        "print(sec)"
      ],
      "execution_count": 53,
      "outputs": [
        {
          "output_type": "stream",
          "text": [
            "6\n",
            "3\n",
            "3 4\n",
            "2 5\n",
            "5 3\n",
            "3\n",
            "3 D\n",
            "15 L\n",
            "17 D\n",
            "=========================\n",
            "1 [1001, 2001]\n",
            "2 [2001, 3001]\n",
            "3 [3001, 4001]\n",
            "turn\n",
            "4 [4001, 4002]\n",
            "5 [4002, 4003]\n",
            "6 [4002, 4003, 4004]\n",
            "7 [4003, 4004, 4005]\n",
            "8 [4004, 4005, 4006]\n",
            "9 [4005, 4006, 4007]\n",
            "y\n",
            "9\n"
          ],
          "name": "stdout"
        }
      ]
    },
    {
      "cell_type": "code",
      "metadata": {
        "id": "EkzMeFxeyePG",
        "outputId": "0844444b-6f06-4230-da32-5f1b911baf0b",
        "colab": {
          "base_uri": "https://localhost:8080/",
          "height": 195
        }
      },
      "source": [
        "# 제출용 : print() 제거\n",
        "\n",
        "\n",
        "\n",
        "# 좌표를 숫자 하나로 합쳐서 사용\n",
        "# ex) (x,y) : (1,2) = 1 * 1000 + 2 = 1002\n",
        "\n",
        "# 이동 방향\n",
        "#    >         V          <         ㅅ\n",
        "# 001,000 / 000, 001 / -001, 000 / 000, -001 \n",
        "dir = [1000, 1, -1000, -1]\n",
        "cur_dir = 0 # 현재 이동 방향\n",
        "\n",
        "L = -1 # 턴 레프트\n",
        "D = 1 # 턴 롸잇\n",
        "\n",
        "# 입력 파트 #######################\n",
        "# 개 길어 \n",
        "\n",
        "N = int(input()) # 맵 크기\n",
        "\n",
        "K = int(input()) # 사과 갯수\n",
        "K_pos = [] # 사과 위치\n",
        "# 앞이 행, 뒤가 열 이라니까\n",
        "# 앞이 y 뒤가 x 인거임 \n",
        "for tmp in range(K):\n",
        "    y, x = input().split()\n",
        "    K_pos.append( int(x)*1000 + int(y) )\n",
        "\n",
        "M = int(input()) # 동작 횟수\n",
        "M_dir = [] # 동작   \n",
        "for tmp in range(M):\n",
        "    t, C = input().split()\n",
        "    M_dir.append( [int(t), C] )\n",
        "\n",
        "# 입력 끝 ##########################\n",
        "\n",
        "sec = 0 # 현재 시간\n",
        "snake = [1001] # 뱀의 현재 위치 (1,1)\n",
        "\n",
        "# Snake 게임\n",
        "# 타이머 - 이동1 - 충돌 검사 - 사과 검사 - 이동2 - 방향 전환\n",
        "while(True):\n",
        "\n",
        "    # 타이머\n",
        "    sec += 1\n",
        "\n",
        "    # 이동1\n",
        "    # 마지막 위치 + 방향\n",
        "    snake.append( snake[-1] + dir[cur_dir] )\n",
        "    \n",
        "    # 충돌 검사 : x, y, 몸\n",
        "    ### x좌표 - 벽\n",
        "    if not (0 < (snake[-1]//1000) <= N):\n",
        "        break\n",
        "    ### y좌표 - 벽\n",
        "    if not (0 < (snake[-1]%1000) <= N):\n",
        "        break    \n",
        "    ### 머리 - 몸\n",
        "    if snake[-1] in snake[:-1]:\n",
        "        break\n",
        "\n",
        "    # 사과 검사\n",
        "    ### 사과 획득 시 : 사과 제거\n",
        "    if snake[-1] in K_pos:\n",
        "        K_pos.remove(snake[-1])\n",
        "    ### 사과 미획득 시 : 몸 끄트머리 제거\n",
        "    else:\n",
        "        snake.pop(0)\n",
        "\n",
        "    # 방향 전환\n",
        "    ### 남은게 있으면\n",
        "    if len(M_dir) > 0:\n",
        "        ### 시간 체크해서  \n",
        "        if M_dir[0][0] == sec:\n",
        "            ### 꺽어\n",
        "            cur_dir += [1,-1][+(M_dir[0][1]=='L')]\n",
        "            ### OutOfIndex 방지용\n",
        "            cur_dir = cur_dir % 4\n",
        "            M_dir.pop(0)\n",
        "\n",
        "print(sec)"
      ],
      "execution_count": 46,
      "outputs": [
        {
          "output_type": "stream",
          "text": [
            "6\n",
            "3\n",
            "3 4\n",
            "2 5\n",
            "5 3\n",
            "3\n",
            "3 D\n",
            "15 L\n",
            "17 D\n",
            "9\n"
          ],
          "name": "stdout"
        }
      ]
    },
    {
      "cell_type": "markdown",
      "metadata": {
        "id": "XQjjhgH09Fbf"
      },
      "source": [
        ""
      ]
    }
  ]
}
{
  "nbformat": 4,
  "nbformat_minor": 0,
  "metadata": {
    "colab": {
      "name": "백준Step002.ipynb",
      "provenance": [],
      "authorship_tag": "ABX9TyPp2K9/G9kCHqWotF4V6ZB/",
      "include_colab_link": true
    },
    "kernelspec": {
      "name": "python3",
      "display_name": "Python 3"
    }
  },
  "cells": [
    {
      "cell_type": "markdown",
      "metadata": {
        "id": "view-in-github",
        "colab_type": "text"
      },
      "source": [
        "<a href=\"https://colab.research.google.com/github/bigboom1253/coding_test_study/blob/master/assignment/%EA%B0%95%EC%8A%B9%EB%B2%94/%EB%B0%B1%EC%A4%80Step002.ipynb\" target=\"_parent\"><img src=\"https://colab.research.google.com/assets/colab-badge.svg\" alt=\"Open In Colab\"/></a>"
      ]
    },
    {
      "cell_type": "markdown",
      "metadata": {
        "id": "a5Dm8jrbO23s",
        "colab_type": "text"
      },
      "source": [
        "#01. 1330\n",
        "두 수 비교하기"
      ]
    },
    {
      "cell_type": "code",
      "metadata": {
        "id": "m3jJ8G7oOx0B",
        "colab_type": "code",
        "colab": {}
      },
      "source": [
        "tmp = input().split()\n",
        "a=int(tmp[0])\n",
        "b=int(tmp[1])\n",
        "\n",
        "if a>b:\n",
        "    print(\">\")\n",
        "elif a<b:\n",
        "    print(\"<\")\n",
        "else:\n",
        "    print(\"==\")"
      ],
      "execution_count": null,
      "outputs": []
    },
    {
      "cell_type": "markdown",
      "metadata": {
        "id": "YXy1IWhwPBXU",
        "colab_type": "text"
      },
      "source": [
        "#02. 9498 \n",
        "시험 성적"
      ]
    },
    {
      "cell_type": "code",
      "metadata": {
        "id": "ipaZbFs0PFcj",
        "colab_type": "code",
        "colab": {}
      },
      "source": [
        "tmp = int(input())\n",
        "\n",
        "if tmp>89:\n",
        "    print(\"A\")\n",
        "elif tmp>79:\n",
        "    print(\"B\")\n",
        "elif tmp>69:\n",
        "    print(\"C\")\n",
        "elif tmp>59:\n",
        "    print(\"D\")\n",
        "else:\n",
        "    print(\"F\")"
      ],
      "execution_count": null,
      "outputs": []
    },
    {
      "cell_type": "code",
      "metadata": {
        "id": "Ct_ExZorVrYs",
        "colab_type": "code",
        "colab": {}
      },
      "source": [
        "# 숏코딩\n",
        "print('FFFFFFDCBAA'[int(input())//10])"
      ],
      "execution_count": null,
      "outputs": []
    },
    {
      "cell_type": "markdown",
      "metadata": {
        "id": "z_cae5MAXK6k",
        "colab_type": "text"
      },
      "source": [
        "#03. 2753\n",
        "윤년"
      ]
    },
    {
      "cell_type": "code",
      "metadata": {
        "id": "kVjBc5guXRcm",
        "colab_type": "code",
        "colab": {
          "base_uri": "https://localhost:8080/",
          "height": 52
        },
        "outputId": "96f219ea-969c-4283-96c6-53bea46b6100"
      },
      "source": [
        "tmp = int(input())\n",
        "\n",
        "if tmp%4 == 0:\n",
        "    if tmp%100 == 0:\n",
        "        if tmp%400 == 0:\n",
        "            print(\"1\")\n",
        "        else:\n",
        "            print(\"0\")    \n",
        "    else:\n",
        "        print(\"1\")\n",
        "else:\n",
        "    print(\"0\")"
      ],
      "execution_count": 4,
      "outputs": [
        {
          "output_type": "stream",
          "text": [
            "1999\n",
            "0\n"
          ],
          "name": "stdout"
        }
      ]
    },
    {
      "cell_type": "code",
      "metadata": {
        "id": "mII1hkGpY88O",
        "colab_type": "code",
        "colab": {}
      },
      "source": [
        "#숏코딩\n",
        "y=int(input())\n",
        "print(+((y%100or y//100)%4<1))"
      ],
      "execution_count": null,
      "outputs": []
    },
    {
      "cell_type": "code",
      "metadata": {
        "id": "mphK9-QcZh5E",
        "colab_type": "code",
        "colab": {
          "base_uri": "https://localhost:8080/",
          "height": 52
        },
        "outputId": "8583a80c-c16d-4841-a42b-e57b85b13e51"
      },
      "source": [
        "y=int(input())\n",
        "print(+((y%100 or y//100)&4<1))"
      ],
      "execution_count": 11,
      "outputs": [
        {
          "output_type": "stream",
          "text": [
            "2000\n",
            "0\n"
          ],
          "name": "stdout"
        }
      ]
    },
    {
      "cell_type": "code",
      "metadata": {
        "id": "f7-xtliCa1cz",
        "colab_type": "code",
        "colab": {
          "base_uri": "https://localhost:8080/",
          "height": 35
        },
        "outputId": "98cd508a-e320-4aac-a424-2570060384c6"
      },
      "source": [
        "+True"
      ],
      "execution_count": 13,
      "outputs": [
        {
          "output_type": "execute_result",
          "data": {
            "text/plain": [
              "1"
            ]
          },
          "metadata": {
            "tags": []
          },
          "execution_count": 13
        }
      ]
    },
    {
      "cell_type": "code",
      "metadata": {
        "id": "lXSICj6Jay0m",
        "colab_type": "code",
        "colab": {
          "base_uri": "https://localhost:8080/",
          "height": 35
        },
        "outputId": "2cbd8922-5b8b-414e-d16c-3544b5292fdd"
      },
      "source": [
        "+False"
      ],
      "execution_count": 12,
      "outputs": [
        {
          "output_type": "execute_result",
          "data": {
            "text/plain": [
              "0"
            ]
          },
          "metadata": {
            "tags": []
          },
          "execution_count": 12
        }
      ]
    },
    {
      "cell_type": "markdown",
      "metadata": {
        "id": "oGavluMMYmKv",
        "colab_type": "text"
      },
      "source": [
        "#04.14681\n",
        "사분면 고르기"
      ]
    },
    {
      "cell_type": "code",
      "metadata": {
        "id": "L6QhC0S_Yp_m",
        "colab_type": "code",
        "colab": {
          "base_uri": "https://localhost:8080/",
          "height": 70
        },
        "outputId": "3642df35-7c06-40fb-d5c5-582877d56f5b"
      },
      "source": [
        "x=int(input())\n",
        "y=int(input())\n",
        "\n",
        "if x > 0:\n",
        "    if y > 0:\n",
        "        print(\"1\")\n",
        "    else:\n",
        "        print(\"4\")\n",
        "else:\n",
        "    if y > 0:\n",
        "        print(\"2\")\n",
        "    else:\n",
        "        print(\"3\")"
      ],
      "execution_count": 14,
      "outputs": [
        {
          "output_type": "stream",
          "text": [
            "12\n",
            "5\n",
            "1\n"
          ],
          "name": "stdout"
        }
      ]
    },
    {
      "cell_type": "code",
      "metadata": {
        "id": "GaFKxREZm-8K",
        "colab_type": "code",
        "colab": {
          "base_uri": "https://localhost:8080/",
          "height": 70
        },
        "outputId": "6f0bdd1a-2b28-43df-a0a5-9314806ad4f6"
      },
      "source": [
        "# 숏코딩\n",
        "print(\"1243\"[int(input())<0::2][int(input())<0])"
      ],
      "execution_count": 16,
      "outputs": [
        {
          "output_type": "stream",
          "text": [
            "12\n",
            "5\n",
            "1\n"
          ],
          "name": "stdout"
        }
      ]
    },
    {
      "cell_type": "code",
      "metadata": {
        "id": "iYutsYwKo2z5",
        "colab_type": "code",
        "colab": {
          "base_uri": "https://localhost:8080/",
          "height": 52
        },
        "outputId": "87aadfce-44f3-4998-a7b8-75f143992ef4"
      },
      "source": [
        "tmp = [\"false\",\"true\"]\n",
        "\n",
        "print(tmp[True])\n",
        "print(tmp[False])"
      ],
      "execution_count": 30,
      "outputs": [
        {
          "output_type": "stream",
          "text": [
            "true\n",
            "false\n"
          ],
          "name": "stdout"
        }
      ]
    },
    {
      "cell_type": "code",
      "metadata": {
        "id": "1jY6it_7pXCD",
        "colab_type": "code",
        "colab": {
          "base_uri": "https://localhost:8080/",
          "height": 106
        },
        "outputId": "f0344fe4-7010-467f-ce47-98578dac23c8"
      },
      "source": [
        "tmp = \"0123456789\"\n",
        "\n",
        "print(tmp[:])\n",
        "\n",
        "print(tmp[:5])\n",
        "\n",
        "print(tmp[5:])\n",
        "\n",
        "print(tmp[::2])\n",
        "\n",
        "print(tmp[::3])"
      ],
      "execution_count": 31,
      "outputs": [
        {
          "output_type": "stream",
          "text": [
            "0123456789\n",
            "01234\n",
            "56789\n",
            "02468\n",
            "0369\n"
          ],
          "name": "stdout"
        }
      ]
    },
    {
      "cell_type": "markdown",
      "metadata": {
        "id": "0vF_wdQQuFUB",
        "colab_type": "text"
      },
      "source": [
        "#05. 2884\n",
        "알람 시계"
      ]
    },
    {
      "cell_type": "code",
      "metadata": {
        "id": "Hw2lRsXOuJNI",
        "colab_type": "code",
        "colab": {
          "base_uri": "https://localhost:8080/",
          "height": 52
        },
        "outputId": "4bbcc225-4851-483d-a16e-d2f912c99643"
      },
      "source": [
        "h,m = map(int,input().split())\n",
        "tmp = 60*h + m - 45\n",
        "if tmp < 0:\n",
        "    tmp += 60 * 24\n",
        "print(tmp//60,tmp%60)"
      ],
      "execution_count": 36,
      "outputs": [
        {
          "output_type": "stream",
          "text": [
            "9 25\n",
            "8 40\n"
          ],
          "name": "stdout"
        }
      ]
    },
    {
      "cell_type": "code",
      "metadata": {
        "id": "RtTfDlomvpCK",
        "colab_type": "code",
        "colab": {}
      },
      "source": [
        "# 숏코딩\n",
        "a,b=map(int,input().split())\n",
        "print((a-(b<45))%24,(b-45)%60)"
      ],
      "execution_count": null,
      "outputs": []
    }
  ]
}
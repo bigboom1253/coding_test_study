{
 "cells": [
  {
   "cell_type": "code",
   "execution_count": 7,
   "metadata": {},
   "outputs": [
    {
     "name": "stdout",
     "output_type": "stream",
     "text": [
      "7755\n",
      "READY\n"
     ]
    }
   ],
   "source": [
    "lucky = input()\n",
    "\n",
    "left_sum = 0\n",
    "right_sum = 0\n",
    "\n",
    "if len(lucky) % 2 == 0:\n",
    "    for l in lucky[:int(len(lucky)/2)]:\n",
    "        left_sum += int(l)\n",
    "    for l in lucky[int(len(lucky)/2):]:\n",
    "        right_sum += int(l)\n",
    "        \n",
    "    if left_sum == right_sum:\n",
    "        print(\"LUCKY\")\n",
    "    else:\n",
    "        print(\"READY\")\n",
    "else:\n",
    "    print(\"READY\")"
   ]
  }
 ],
 "metadata": {
  "kernelspec": {
   "display_name": "Python 3",
   "language": "python",
   "name": "python3"
  },
  "language_info": {
   "codemirror_mode": {
    "name": "ipython",
    "version": 3
   },
   "file_extension": ".py",
   "mimetype": "text/x-python",
   "name": "python",
   "nbconvert_exporter": "python",
   "pygments_lexer": "ipython3",
   "version": "3.7.6"
  }
 },
 "nbformat": 4,
 "nbformat_minor": 4
}

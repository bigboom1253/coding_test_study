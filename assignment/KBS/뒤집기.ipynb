{
 "cells": [
  {
   "cell_type": "code",
   "execution_count": 70,
   "metadata": {},
   "outputs": [
    {
     "name": "stdout",
     "output_type": "stream",
     "text": [
      "2\n"
     ]
    }
   ],
   "source": [
    "binary = input()\n",
    "\n",
    "index = 1\n",
    "i = 0\n",
    "\n",
    "binary_list = [] \n",
    "\n",
    "while 1:\n",
    "    if i+index == len(binary):\n",
    "        binary_list.append(binary[i:i+index])\n",
    "        break\n",
    "    elif binary[i] != binary[i+index]:\n",
    "        binary_list.append(binary[i:i+index])\n",
    "        i = i + index\n",
    "        index = 0\n",
    "    \n",
    "    index += 1\n",
    "  \n",
    "count_1 = 0\n",
    "count_0 = 0\n",
    "for b in binary_list:\n",
    "    if '1' in b:\n",
    "        count_1 += 1\n",
    "    elif '0' in b:\n",
    "        count_0 += 1\n",
    "        \n",
    "if count_1 < count_0:\n",
    "    print(count_1)\n",
    "elif count_1 > count_0:\n",
    "    print(count_0)\n",
    "else:\n",
    "    print(count_1)"
   ]
  },
  {
   "cell_type": "code",
   "execution_count": 60,
   "metadata": {},
   "outputs": [
    {
     "data": {
      "text/plain": [
       "'011101'"
      ]
     },
     "execution_count": 60,
     "metadata": {},
     "output_type": "execute_result"
    }
   ],
   "source": [
    "binary = '100010'\n",
    "\n",
    "for i in range(len(binary)):\n",
    "    if binary[i] == '1':\n",
    "        binary = binary[:i]+'0'+binary[i+1:]\n",
    "    elif binary[i] == '0':\n",
    "        binary = binary[:i]+'1'+binary[i+1:]\n",
    "binary"
   ]
  },
  {
   "cell_type": "code",
   "execution_count": null,
   "metadata": {},
   "outputs": [],
   "source": []
  }
 ],
 "metadata": {
  "kernelspec": {
   "display_name": "Python 3",
   "language": "python",
   "name": "python3"
  },
  "language_info": {
   "codemirror_mode": {
    "name": "ipython",
    "version": 3
   },
   "file_extension": ".py",
   "mimetype": "text/x-python",
   "name": "python",
   "nbconvert_exporter": "python",
   "pygments_lexer": "ipython3",
   "version": "3.7.6"
  }
 },
 "nbformat": 4,
 "nbformat_minor": 4
}

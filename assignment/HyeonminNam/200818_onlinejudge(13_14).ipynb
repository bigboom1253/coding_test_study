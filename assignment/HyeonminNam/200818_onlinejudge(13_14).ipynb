{
  "nbformat": 4,
  "nbformat_minor": 0,
  "metadata": {
    "kernelspec": {
      "display_name": "Python 3",
      "language": "python",
      "name": "python3"
    },
    "language_info": {
      "codemirror_mode": {
        "name": "ipython",
        "version": 3
      },
      "file_extension": ".py",
      "mimetype": "text/x-python",
      "name": "python",
      "nbconvert_exporter": "python",
      "pygments_lexer": "ipython3",
      "version": "3.6.10"
    },
    "colab": {
      "name": "200818_onlinejudge(13-14).ipynb",
      "provenance": [],
      "include_colab_link": true
    }
  },
  "cells": [
    {
      "cell_type": "markdown",
      "metadata": {
        "id": "view-in-github",
        "colab_type": "text"
      },
      "source": [
        "<a href=\"https://colab.research.google.com/github/bigboom1253/coding_test_study/blob/master/assignment/HyeonminNam/200818_onlinejudge(13_14).ipynb\" target=\"_parent\"><img src=\"https://colab.research.google.com/assets/colab-badge.svg\" alt=\"Open In Colab\"/></a>"
      ]
    },
    {
      "cell_type": "code",
      "metadata": {
        "id": "a1M2trdAAFs6",
        "colab_type": "code",
        "colab": {},
        "outputId": "040da5de-6289-4b04-c574-c663c0a1a8eb"
      },
      "source": [
        "# 13단계 - 2798번\n",
        "from itertools import combinations\n",
        "\n",
        "n, m = map(int, input().split())\n",
        "num_lst = map(int, input().split())\n",
        "\n",
        "lst = []\n",
        "for a in list(combinations(num_lst, 3)):\n",
        "    if sum(a) > m:\n",
        "        pass\n",
        "    else:\n",
        "        lst.append(sum(a))\n",
        "print(sorted(lst)[-1])\n",
        "                 "
      ],
      "execution_count": null,
      "outputs": [
        {
          "output_type": "stream",
          "text": [
            "10 500\n",
            "93 181 245 214 315 36 185 138 216 295\n",
            "497\n"
          ],
          "name": "stdout"
        }
      ]
    },
    {
      "cell_type": "code",
      "metadata": {
        "id": "lMfp7o69AFtC",
        "colab_type": "code",
        "colab": {},
        "outputId": "4e1c46d0-f9d8-43fb-ecb4-81c3991d2588"
      },
      "source": [
        "# 13단계 - 1436번\n",
        "from itertools import product\n",
        "\n",
        "n = int(input())\n",
        "lst = []\n",
        "num_lst = [0, 1, 2, 3, 4, 5, 6, 7, 8, 9, 666]\n",
        "for x in range(1, 100):\n",
        "    if len(lst)>=n:\n",
        "        break\n",
        "    for a in list(product(num_lst, repeat=x)):\n",
        "        if a.count(666) > 1:\n",
        "            continue\n",
        "        num = ''.join(map(str, a))\n",
        "        if a[0]!=0 and 666 in a:\n",
        "            lst.append(''.join(map(str, a)))\n",
        "    lst = list(set(lst))\n",
        "print(sorted(map(int,lst))[n-1])"
      ],
      "execution_count": null,
      "outputs": [
        {
          "output_type": "stream",
          "text": [
            "666\n",
            "256664\n"
          ],
          "name": "stdout"
        }
      ]
    },
    {
      "cell_type": "code",
      "metadata": {
        "id": "_zAFnNVmAFtI",
        "colab_type": "code",
        "colab": {}
      },
      "source": [
        "# 14단계 - 2750번\n",
        "n = int(input())\n",
        "lst = []\n",
        "for _ in range(n):\n",
        "    num = int(input())\n",
        "    lst.append(num)\n",
        "lst = sorted(lst)\n",
        "for x in lst:\n",
        "    print(x)\n",
        "            "
      ],
      "execution_count": null,
      "outputs": []
    },
    {
      "cell_type": "code",
      "metadata": {
        "id": "7kmNkd3rAFtL",
        "colab_type": "code",
        "colab": {},
        "outputId": "4f0b8b52-c3cf-419d-9588-780416462525"
      },
      "source": [
        "# 14단계 - 1181번\n",
        "n = int(input())\n",
        "lst = []\n",
        "for _ in range(n):\n",
        "    word = input()\n",
        "    lst.append(word)\n",
        "len_lst = [(len(x), x) for x in list(set(lst))]\n",
        "len_lst = sorted(len_lst)\n",
        "for x in len_lst:\n",
        "    print(x[1])"
      ],
      "execution_count": null,
      "outputs": [
        {
          "output_type": "stream",
          "text": [
            "13\n",
            "but\n",
            "i\n",
            "wont\n",
            "hesitate\n",
            "no\n",
            "more\n",
            "no\n",
            "more\n",
            "it\n",
            "cannot\n",
            "wait\n",
            "im\n",
            "yours\n",
            "i\n",
            "im\n",
            "it\n",
            "no\n",
            "but\n",
            "more\n",
            "wait\n",
            "wont\n",
            "yours\n",
            "cannot\n",
            "hesitate\n"
          ],
          "name": "stdout"
        }
      ]
    },
    {
      "cell_type": "code",
      "metadata": {
        "id": "ntXIvrHeAFtP",
        "colab_type": "code",
        "colab": {}
      },
      "source": [
        ""
      ],
      "execution_count": null,
      "outputs": []
    }
  ]
}
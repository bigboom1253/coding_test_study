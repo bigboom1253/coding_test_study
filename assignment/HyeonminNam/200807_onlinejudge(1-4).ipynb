{
 "cells": [
  {
   "cell_type": "markdown",
   "metadata": {},
   "source": [
    "## 백준 온라인 저지 1~4단계"
   ]
  },
  {
   "cell_type": "code",
   "execution_count": 7,
   "metadata": {},
   "outputs": [
    {
     "name": "stdout",
     "output_type": "stream",
     "text": [
      "1 3\n"
     ]
    }
   ],
   "source": [
    "#1단계 - 1008번\n",
    "a, b = map(float, input('').split())\n",
    "print(a/b)"
   ]
  },
  {
   "cell_type": "code",
   "execution_count": 24,
   "metadata": {},
   "outputs": [
    {
     "name": "stdout",
     "output_type": "stream",
     "text": [
      "\\    /\\\n",
      " )  ( ')\n",
      "(  /  )\n",
      " \\(__)|\n"
     ]
    }
   ],
   "source": [
    "#1단계 - 10171번\n",
    "print('\\\\    /\\\\\\n )  ( \\')\\n(  /  )\\n \\\\(__)|')"
   ]
  },
  {
   "cell_type": "code",
   "execution_count": 30,
   "metadata": {},
   "outputs": [
    {
     "name": "stdout",
     "output_type": "stream",
     "text": [
      "23 40\n",
      "22 55\n"
     ]
    }
   ],
   "source": [
    "#2단계 - 2884번\n",
    "h, m = map(int, input('').split())\n",
    "m -= 45\n",
    "if m < 0:\n",
    "    m+=60\n",
    "    h-=1\n",
    "if h < 0:\n",
    "    h += 24\n",
    "print(h, m)"
   ]
  },
  {
   "cell_type": "code",
   "execution_count": 34,
   "metadata": {},
   "outputs": [
    {
     "name": "stdout",
     "output_type": "stream",
     "text": [
      "1904\n",
      "1\n"
     ]
    }
   ],
   "source": [
    "#2단계 - 2753번\n",
    "y = int(input())\n",
    "if y%4 ==0 and y%100!=0:\n",
    "    print(1)\n",
    "elif y%400==0:\n",
    "    print(1)\n",
    "else:\n",
    "    print(0)"
   ]
  },
  {
   "cell_type": "code",
   "execution_count": 40,
   "metadata": {},
   "outputs": [],
   "source": [
    "#3단계 - 15552번\n",
    "# 주피터에서 실행 X\n",
    "import sys\n",
    "for i in range(int(sys.stdin.readline())):\n",
    "    x, y = map(int, sys.stdin.readline().split())\n",
    "    print(x+y)"
   ]
  },
  {
   "cell_type": "code",
   "execution_count": 41,
   "metadata": {},
   "outputs": [
    {
     "name": "stdout",
     "output_type": "stream",
     "text": [
      "5\n",
      "1\n",
      "2\n",
      "3\n",
      "4\n",
      "5\n"
     ]
    }
   ],
   "source": [
    "#3단계 - 2741번\n",
    "n = input()\n",
    "for x in range(1, int(n)+1):\n",
    "    print(x)"
   ]
  },
  {
   "cell_type": "code",
   "execution_count": 56,
   "metadata": {},
   "outputs": [
    {
     "name": "stdout",
     "output_type": "stream",
     "text": [
      "26\n",
      "4\n"
     ]
    }
   ],
   "source": [
    "#4단계 - 1110번\n",
    "n = input()\n",
    "x = int(n)\n",
    "c = 0\n",
    "while True:\n",
    "    a = x//10\n",
    "    b = x%10\n",
    "    # 새로운 숫자\n",
    "    x = b*10+((a+b)%10)\n",
    "    # 사이클 +1\n",
    "    c += 1\n",
    "    if x == int(n):\n",
    "        break\n",
    "print(c)"
   ]
  },
  {
   "cell_type": "code",
   "execution_count": 47,
   "metadata": {},
   "outputs": [
    {
     "data": {
      "text/plain": [
       "1"
      ]
     },
     "execution_count": 47,
     "metadata": {},
     "output_type": "execute_result"
    }
   ],
   "source": [
    "14//10"
   ]
  },
  {
   "cell_type": "code",
   "execution_count": null,
   "metadata": {},
   "outputs": [],
   "source": [
    "#4단계 - 10952번\n",
    "# 주피터에서 실행 X\n",
    "import sys\n",
    "while True:\n",
    "    a, b = map(int, sys.stdin.readline().split())\n",
    "    if a==0 and b==0:\n",
    "        break\n",
    "    print(a+b)"
   ]
  }
 ],
 "metadata": {
  "kernelspec": {
   "display_name": "Python 3",
   "language": "python",
   "name": "python3"
  },
  "language_info": {
   "codemirror_mode": {
    "name": "ipython",
    "version": 3
   },
   "file_extension": ".py",
   "mimetype": "text/x-python",
   "name": "python",
   "nbconvert_exporter": "python",
   "pygments_lexer": "ipython3",
   "version": "3.7.6"
  }
 },
 "nbformat": 4,
 "nbformat_minor": 4
}
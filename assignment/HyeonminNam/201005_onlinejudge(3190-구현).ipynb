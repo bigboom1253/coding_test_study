{
 "cells": [
  {
   "cell_type": "code",
   "execution_count": 34,
   "metadata": {},
   "outputs": [
    {
     "name": "stdout",
     "output_type": "stream",
     "text": [
      "10\n",
      "4\n",
      "1 2\n",
      "1 3\n",
      "1 4\n",
      "1 5\n",
      "4\n",
      "8 D\n",
      "10 D\n",
      "11 D\n",
      "13 L\n",
      "21\n"
     ]
    }
   ],
   "source": [
    "# 3190번\n",
    "import sys\n",
    "\n",
    "# 보드 크기\n",
    "n = int(sys.stdin.readline())\n",
    "\n",
    "# 사과 정보\n",
    "k = int(sys.stdin.readline())\n",
    "apple_lst = []\n",
    "for _ in range(k):\n",
    "    apple_lst.append(tuple(map(int, sys.stdin.readline().split())))\n",
    "\n",
    "# 방향 전환 정보\n",
    "direction_lst = []\n",
    "l = int(sys.stdin.readline())\n",
    "for _ in range(l):\n",
    "    direction = sys.stdin.readline().split()\n",
    "    direction_lst.append(direction)\n",
    "    \n",
    "# 동, 북, 서, 남\n",
    "d_x = [0, -1, 0, 1]\n",
    "d_y = [1, 0, -1, 0]\n",
    "d = 0\n",
    "    \n",
    "# 초기값\n",
    "snake = [[1, 1]]\n",
    "h = snake[-1]\n",
    "seconds = 0\n",
    "end = 0\n",
    "\n",
    "# 뱀 이동\n",
    "while True:\n",
    "    # 머리 이동\n",
    "    seconds += 1\n",
    "    new_h = h[0]+d_x[d], h[1]+d_y[d]\n",
    "    # 게임 종료 조건\n",
    "    if new_h[0] > n or new_h[1] > n or new_h[0]*new_h[1] == 0 or new_h in snake:\n",
    "        end = seconds\n",
    "        print(end)\n",
    "        break\n",
    "    # 뱀 정보 업데이트\n",
    "    snake.append(new_h)\n",
    "    if new_h in apple_lst:\n",
    "        apple_lst.remove(new_h)\n",
    "    else:\n",
    "        del snake[0]\n",
    "    h = snake[-1]\n",
    "    \n",
    "    # 방향 전환\n",
    "    if not direction_lst:\n",
    "        pass\n",
    "    elif seconds == int(direction_lst[0][0]):\n",
    "        x, c = direction_lst.pop(0)\n",
    "        if c == 'L':\n",
    "            d += 1\n",
    "        else:\n",
    "            d -= 1\n",
    "        if d == 4:\n",
    "            d = 0\n",
    "        elif d == -1:\n",
    "            d = 3"
   ]
  }
 ],
 "metadata": {
  "kernelspec": {
   "display_name": "Python 3",
   "language": "python",
   "name": "python3"
  },
  "language_info": {
   "codemirror_mode": {
    "name": "ipython",
    "version": 3
   },
   "file_extension": ".py",
   "mimetype": "text/x-python",
   "name": "python",
   "nbconvert_exporter": "python",
   "pygments_lexer": "ipython3",
   "version": "3.7.3"
  }
 },
 "nbformat": 4,
 "nbformat_minor": 2
}

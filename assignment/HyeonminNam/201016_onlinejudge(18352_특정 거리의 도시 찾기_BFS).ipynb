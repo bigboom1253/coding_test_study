{
 "cells": [
  {
   "cell_type": "code",
   "execution_count": 1,
   "metadata": {},
   "outputs": [
    {
     "output_type": "stream",
     "name": "stdout",
     "text": [
      "4\n"
     ]
    }
   ],
   "source": [
    "# 18352\n",
    "from collections import deque\n",
    "# import sys\n",
    "# input = sys.stdin.readline\n",
    "n, m, k, x = list(map(int, input().split()))\n",
    "\n",
    "# 그래프 작성\n",
    "graph = [[] for _ in range(n+1)]\n",
    "for _ in range(m):\n",
    "    start, end = list(map(int, input().split()))\n",
    "    graph[start].append(end)\n",
    "\n",
    "# bfs\n",
    "def bfs(graph, n, k, x):\n",
    "    answer = []\n",
    "    visited = [False] *(n+1)\n",
    "    queue = deque([[x]])\n",
    "    visited[x] = True\n",
    "    while queue:\n",
    "        route = queue.popleft()\n",
    "        current_node = route[-1]\n",
    "        if len(route) == k+1:\n",
    "            answer.append(route[-1])\n",
    "        elif len(route) < k+1:\n",
    "            for node in graph[current_node]:\n",
    "                if not visited[node]:\n",
    "                    queue.append(route+[node])\n",
    "                    visited[node] = True\n",
    "    if not answer:\n",
    "        print(-1)\n",
    "    else:\n",
    "        for x in sorted(answer):\n",
    "            print(x)\n",
    "            \n",
    "bfs(graph, n, k, x)"
   ]
  }
 ],
 "metadata": {
  "kernelspec": {
   "display_name": "Python 3",
   "language": "python",
   "name": "python3"
  },
  "language_info": {
   "codemirror_mode": {
    "name": "ipython",
    "version": 3
   },
   "file_extension": ".py",
   "mimetype": "text/x-python",
   "name": "python",
   "nbconvert_exporter": "python",
   "pygments_lexer": "ipython3",
   "version": "3.7.3-final"
  }
 },
 "nbformat": 4,
 "nbformat_minor": 2
}
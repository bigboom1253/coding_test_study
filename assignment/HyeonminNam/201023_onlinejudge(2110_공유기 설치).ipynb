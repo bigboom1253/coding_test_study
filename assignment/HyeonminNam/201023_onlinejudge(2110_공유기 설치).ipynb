{
 "cells": [
  {
   "cell_type": "code",
   "execution_count": 19,
   "metadata": {},
   "outputs": [
    {
     "output_type": "stream",
     "name": "stdout",
     "text": [
      "3\n"
     ]
    }
   ],
   "source": [
    "# 2110번 - 공유기 설치\n",
    "## <문제 풀이 알고리즘> - 이진탐색 활용\n",
    "# 공유기 설치 가능 거리를 이진탐색으로 탐색\n",
    "# 1을 시작점, (끝집 - 첫집) // (공유기 개수-1)를 끝점으로 활용\n",
    "# 중간점((끝점 - 시작점) // 2)의 거리로 공유기 설치 개수를 만족할 수 있는지 확인\n",
    "# 공유기 설치 개수가 부족하면 거리를 좁혀서(끝점을 현재 중간점으로 바꾸고 다시 중간점 구함)\n",
    "# 공유기 설치 개수가 충분하면 결과 저장 및 거리를 넓혀서(시작점을 현재 중간점으로 바꾸고 다시 중간점 구함)\n",
    "# 위 과정 반복하여 공유기 설치 가능한 최대 거리 확인\n",
    "\n",
    "## 문제 풀이 코드\n",
    "# import sys\n",
    "# input = sys.stdin.readline\n",
    "n, c = list(map(int, input().split()))\n",
    "\n",
    "# 집 정보 입력\n",
    "house_lst = []\n",
    "for _ in range(n):\n",
    "    house_lst.append(int(input()))\n",
    "house_lst.sort()\n",
    "\n",
    "# 공유기 사이 최대 거리 탐색(이진 탐색)\n",
    "result = 1\n",
    "start, end = 0, (max(house_lst) - min(house_lst))//(c-1)\n",
    "while start <= end:\n",
    "    mid = (start + end) // 2\n",
    "    # 중간점을 최대 거리로 했을 때 와이파이 설치 개수 확인\n",
    "    wifi = [min(house_lst)]\n",
    "    idx = [0, 0]\n",
    "    while idx[1] < len(house_lst)-1:\n",
    "        idx[1] += 1\n",
    "        if house_lst[idx[1]] - house_lst[idx[0]] >= mid:\n",
    "            wifi.append(house_lst[idx[1]])\n",
    "            idx[0] = idx[1]\n",
    "    # 와이파이 설치 개수가 필요 개수보다 작으면 끝점에 현재 중간점 좌표 배당\n",
    "    if len(wifi) < c:\n",
    "        end = mid-1\n",
    "    # 와이파이 설치 개수가 필요 개수보다 많거나 같으면 시작점에 현재 중간점 좌표 배당(+결과 저장)\n",
    "    else:\n",
    "        result = mid\n",
    "        start = mid+1\n",
    "\n",
    "print(result)"
   ]
  }
 ],
 "metadata": {
  "kernelspec": {
   "display_name": "Python 3",
   "language": "python",
   "name": "python3"
  },
  "language_info": {
   "codemirror_mode": {
    "name": "ipython",
    "version": 3
   },
   "file_extension": ".py",
   "mimetype": "text/x-python",
   "name": "python",
   "nbconvert_exporter": "python",
   "pygments_lexer": "ipython3",
   "version": "3.7.3-final"
  }
 },
 "nbformat": 4,
 "nbformat_minor": 2
}
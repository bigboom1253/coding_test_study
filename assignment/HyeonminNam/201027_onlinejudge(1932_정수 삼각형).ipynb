{
 "cells": [
  {
   "cell_type": "code",
   "execution_count": 3,
   "metadata": {},
   "outputs": [
    {
     "output_type": "stream",
     "name": "stdout",
     "text": [
      "30\n"
     ]
    }
   ],
   "source": [
    "# 1932번 - 정수 삼각형\n",
    "## <문제 풀이 알고리즘> - 다이나믹 프로그래밍 활용\n",
    "# 1번 라인 7, up_lst에 저장\n",
    "\n",
    "# 반복문 시작은 2부터 n까지\n",
    "\n",
    "# 2번 라인(3, 8)을 더했을 때의 경우의 수들 tmp에 저장\n",
    "# [10, 15] -> max 취하면 2번 라인 최댓값\n",
    "# answer = 15\n",
    "# 다음 라인에서 활용할 수 있도록 tmp는 up_lst에 갱신\n",
    "\n",
    "\n",
    "# 3번 라인(8, 1, 0)을 더했을 때의 경우의 수들 중 최댓값 tmp에 저장\n",
    "# [8 + 10, max(1+10, 1+15), 8+0] -> [18, 16, 8] -> max 취하면 3번 라인 최댓값\n",
    "# answer = 18\n",
    "# 다음 라인에서 활용할 수 있도록 tmp는 up_lst에 갱신\n",
    "\n",
    "\n",
    "# 4번 라인(2, 7, 4, 4)을 더했을 때의 경우의 수들 중 최댓값 tmp에 저장\n",
    "# [2+18, max(7+18, 7+16), max(4+16, 4+8), 4+8] -> [20, 25, 20, 12] -> max 취하면 4번 라인 최댓값\n",
    "# answer = 25\n",
    "# 다음 라인에서 활용할 수 있도록 tmp는 up_lst에 갱신\n",
    "\n",
    "# 5번 라인(4, 5, 2, 6, 5)을 더했을 때의 경우의 수들 중 최댓값 tmp에 저장\n",
    "# [4+20, max(5+20, 5+25), max(2+25, 2+20), max(6+20, 6+12), 5+12] -> [23, 30, 27, 26, 17] -> max 취하면 5번 라인 최댓값\n",
    "# answer = 30\n",
    "# 다음 라인에서 활용할 수 있도록 tmp는 up_lst에 갱신\n",
    "\n",
    "# 위 과정을 n까지 반복하여 answer 출력\n",
    "\n",
    "\n",
    "## 문제 풀이 코드\n",
    "# import sys\n",
    "# input = sys.stdin.readline\n",
    "n = int(input())\n",
    "\n",
    "triangle = [[]]\n",
    "for _ in range(n):\n",
    "    line = list(map(int, input().split()))\n",
    "    triangle.append(line)\n",
    "\n",
    "answer = triangle[1][0]\n",
    "up_lst = [0] + [triangle[1][0]] + [0]\n",
    "for i in range(2, n+1):\n",
    "    tmp = []\n",
    "    for idx in range(i):\n",
    "        tmp.append(max(triangle[i][idx] + up_lst[idx], triangle[i][idx] + up_lst[idx+1]))\n",
    "    up_lst = [0] + tmp + [0]\n",
    "    answer = max(tmp)\n",
    "\n",
    "print(answer)"
   ]
  }
 ],
 "metadata": {
  "kernelspec": {
   "display_name": "Python 3",
   "language": "python",
   "name": "python3"
  },
  "language_info": {
   "codemirror_mode": {
    "name": "ipython",
    "version": 3
   },
   "file_extension": ".py",
   "mimetype": "text/x-python",
   "name": "python",
   "nbconvert_exporter": "python",
   "pygments_lexer": "ipython3",
   "version": "3.7.3-final"
  }
 },
 "nbformat": 4,
 "nbformat_minor": 2
}
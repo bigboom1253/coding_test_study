{
  "nbformat": 4,
  "nbformat_minor": 0,
  "metadata": {
    "kernelspec": {
      "display_name": "Python 3",
      "language": "python",
      "name": "python3"
    },
    "language_info": {
      "codemirror_mode": {
        "name": "ipython",
        "version": 3
      },
      "file_extension": ".py",
      "mimetype": "text/x-python",
      "name": "python",
      "nbconvert_exporter": "python",
      "pygments_lexer": "ipython3",
      "version": "3.7.3"
    },
    "colab": {
      "name": "200811_onlinejudge(11).ipynb",
      "provenance": [],
      "include_colab_link": true
    }
  },
  "cells": [
    {
      "cell_type": "markdown",
      "metadata": {
        "id": "view-in-github",
        "colab_type": "text"
      },
      "source": [
        "<a href=\"https://colab.research.google.com/github/bigboom1253/coding_test_study/blob/master/assignment/HyeonminNam/200811_onlinejudge(11).ipynb\" target=\"_parent\"><img src=\"https://colab.research.google.com/assets/colab-badge.svg\" alt=\"Open In Colab\"/></a>"
      ]
    },
    {
      "cell_type": "code",
      "metadata": {
        "scrolled": true,
        "id": "CoFGWplijbqi",
        "colab_type": "code",
        "colab": {},
        "outputId": "c344c275-0858-4b83-d1ba-f609631a95e5"
      },
      "source": [
        "# 11단계 - 10872번\n",
        "n = int(input())\n",
        "\n",
        "def factorial(a):\n",
        "    # 0 팩토리얼은 1임.\n",
        "    if a <= 1:\n",
        "        return 1\n",
        "    return a*factorial(a-1)\n",
        "\n",
        "print(factorial(n))"
      ],
      "execution_count": null,
      "outputs": [
        {
          "output_type": "stream",
          "text": [
            "12\n",
            "479001600\n"
          ],
          "name": "stdout"
        }
      ]
    },
    {
      "cell_type": "code",
      "metadata": {
        "id": "z9Tr0SUljbqn",
        "colab_type": "code",
        "colab": {},
        "outputId": "02578116-0f83-41d5-ff1d-2fc0855a0f77"
      },
      "source": [
        "# 11단계 - 11729번\n",
        "\n",
        "import re\n",
        "n = int(input())\n",
        "\n",
        "def hanoi(n):\n",
        "    # 1개만 옮길 때\n",
        "    if n == 1:\n",
        "        lst = ['1 3']\n",
        "        return 1, lst\n",
        "    # 2개부터는 n-1개를 2번으로 옮긴 다음에\n",
        "    # (n-1의 과정에서 2번 장대와 3번 장대의 역할이 바뀐다고 보면 됨) \n",
        "    pre_lst = hanoi(n-1)[1]\n",
        "    lst = [x.replace('3', 'b').replace('2', 'c').replace('b', '2').replace('c', '3') for x in pre_lst]\n",
        "    # 가장 아래의 원판을 3번으로 옮기고\n",
        "    lst.append('1 3')\n",
        "    # 다시 n-1개의 원판을 2번에서 3번으로 옮기면 됨\n",
        "    # (n-1의 과정에서 1번 장대와 2번 장대의 역할이 바뀐다고 보면 됨)\n",
        "    new_lst = [x.replace('2', 'a').replace('1', 'b').replace('a', '1').replace('b', '2') for x in pre_lst]\n",
        "    lst.extend(new_lst)\n",
        "    return hanoi(n-1)[0]*2+1,lst\n",
        "\n",
        "print(hanoi(n)[0])\n",
        "for x in hanoi(n)[1]:\n",
        "    print(x)\n",
        "\n",
        "# 시간 초과로 코드 수정 필요"
      ],
      "execution_count": null,
      "outputs": [
        {
          "output_type": "stream",
          "text": [
            "3\n",
            "7\n",
            "1 3\n",
            "1 2\n",
            "3 2\n",
            "1 3\n",
            "2 1\n",
            "2 3\n",
            "1 3\n"
          ],
          "name": "stdout"
        }
      ]
    },
    {
      "cell_type": "code",
      "metadata": {
        "id": "tXAAZsJSjbqq",
        "colab_type": "code",
        "colab": {},
        "outputId": "bddc68bb-03f8-4a1b-bd31-aa1282c2a189"
      },
      "source": [
        "hanoi(4)"
      ],
      "execution_count": null,
      "outputs": [
        {
          "output_type": "execute_result",
          "data": {
            "text/plain": [
              "(15,\n",
              " ['1 2',\n",
              "  '1 3',\n",
              "  '2 3',\n",
              "  '1 2',\n",
              "  '3 1',\n",
              "  '3 2',\n",
              "  '1 2',\n",
              "  '1 3',\n",
              "  '2 3',\n",
              "  '2 1',\n",
              "  '3 1',\n",
              "  '2 3',\n",
              "  '1 2',\n",
              "  '1 3',\n",
              "  '2 3'])"
            ]
          },
          "metadata": {
            "tags": []
          },
          "execution_count": 32
        }
      ]
    },
    {
      "cell_type": "code",
      "metadata": {
        "id": "7aniOUuejbqs",
        "colab_type": "code",
        "colab": {}
      },
      "source": [
        ""
      ],
      "execution_count": null,
      "outputs": []
    }
  ]
}
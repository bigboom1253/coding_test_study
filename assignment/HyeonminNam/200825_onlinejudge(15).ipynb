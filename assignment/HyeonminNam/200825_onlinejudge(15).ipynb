{
  "nbformat": 4,
  "nbformat_minor": 0,
  "metadata": {
    "kernelspec": {
      "display_name": "Python 3",
      "language": "python",
      "name": "python3"
    },
    "language_info": {
      "codemirror_mode": {
        "name": "ipython",
        "version": 3
      },
      "file_extension": ".py",
      "mimetype": "text/x-python",
      "name": "python",
      "nbconvert_exporter": "python",
      "pygments_lexer": "ipython3",
      "version": "3.7.6"
    },
    "colab": {
      "name": "200825_onlinejudge(15).ipynb",
      "provenance": [],
      "include_colab_link": true
    }
  },
  "cells": [
    {
      "cell_type": "markdown",
      "metadata": {
        "id": "view-in-github",
        "colab_type": "text"
      },
      "source": [
        "<a href=\"https://colab.research.google.com/github/bigboom1253/coding_test_study/blob/master/assignment/HyeonminNam/200825_onlinejudge(15).ipynb\" target=\"_parent\"><img src=\"https://colab.research.google.com/assets/colab-badge.svg\" alt=\"Open In Colab\"/></a>"
      ]
    },
    {
      "cell_type": "code",
      "metadata": {
        "id": "9HiwPhVWH8vt",
        "colab_type": "code",
        "colab": {},
        "outputId": "5e5fe593-e248-4108-eaf1-a7d82bfdcf70"
      },
      "source": [
        "# 15단계 - 15649번\n",
        "from itertools import permutations\n",
        "n, m = map(int, input().split())\n",
        "lst = list(permutations([str(x) for x in range(1, n+1)], m))\n",
        "for num in lst:\n",
        "    print(' '.join(num))\n"
      ],
      "execution_count": null,
      "outputs": [
        {
          "output_type": "stream",
          "text": [
            "4 2\n",
            "1 2\n",
            "1 3\n",
            "1 4\n",
            "2 1\n",
            "2 3\n",
            "2 4\n",
            "3 1\n",
            "3 2\n",
            "3 4\n",
            "4 1\n",
            "4 2\n",
            "4 3\n"
          ],
          "name": "stdout"
        }
      ]
    },
    {
      "cell_type": "code",
      "metadata": {
        "id": "EijhSEduH8v6",
        "colab_type": "code",
        "colab": {},
        "outputId": "cd021774-02f9-4253-cb40-8a95860f6b44"
      },
      "source": [
        "## 15단계 - 14888번\n",
        "import sys\n",
        "from itertools import permutations\n",
        "n = int(sys.stdin.readline())\n",
        "num_lst = list(map(int, sys.stdin.readline().split()))\n",
        "sign_num = list(map(int, sys.stdin.readline().split()))\n",
        "sign_lst = ['+', '-', '*', '/']\n",
        "tmp_lst = []\n",
        "for sign, num in zip(sign_lst, sign_num):\n",
        "    tmp = [sign for _ in range(num)]\n",
        "    tmp_lst.extend(tmp)\n",
        "all_lst = list(permutations(tmp_lst, len(tmp_lst)))\n",
        "max_min_lst = []\n",
        "for final_lst in all_lst:\n",
        "    result = num_lst[0]\n",
        "    for idx in range(1, len(num_lst)):\n",
        "        sign = final_lst[idx-1]\n",
        "        if sign == '+':\n",
        "            result += num_lst[idx]\n",
        "        elif sign == '-':\n",
        "            result -= num_lst[idx]\n",
        "        elif sign == '*':\n",
        "            result *= num_lst[idx]\n",
        "        else:\n",
        "            if result < 0:\n",
        "                result = (abs(result)//num_lst[idx]) * -1\n",
        "            elif num_lst[idx] < 0:\n",
        "                result = (result//abs(num_lst[idx])) * -1\n",
        "            else:\n",
        "                result = result//num_lst[idx]\n",
        "    max_min_lst.append(result)\n",
        "print(max(max_min_lst))\n",
        "print(min(max_min_lst))"
      ],
      "execution_count": null,
      "outputs": [
        {
          "output_type": "stream",
          "text": [
            "3\n",
            "3 4 5\n",
            "1 0 1 0\n",
            "35\n",
            "17\n"
          ],
          "name": "stdout"
        }
      ]
    },
    {
      "cell_type": "code",
      "metadata": {
        "id": "QSsOBSnWH8wB",
        "colab_type": "code",
        "colab": {},
        "outputId": "e2f309fe-02b1-462f-d2e1-fe2e117e6a72"
      },
      "source": [
        "max_min_lst"
      ],
      "execution_count": null,
      "outputs": [
        {
          "output_type": "execute_result",
          "data": {
            "text/plain": [
              "[35]"
            ]
          },
          "metadata": {
            "tags": []
          },
          "execution_count": 28
        }
      ]
    },
    {
      "cell_type": "code",
      "metadata": {
        "id": "aL9BtmZ1H8wH",
        "colab_type": "code",
        "colab": {},
        "outputId": "7a6faf5e-c27f-46c2-eefd-91cf330f227e"
      },
      "source": [
        "list(all_lst)"
      ],
      "execution_count": null,
      "outputs": [
        {
          "output_type": "execute_result",
          "data": {
            "text/plain": [
              "[]"
            ]
          },
          "metadata": {
            "tags": []
          },
          "execution_count": 30
        }
      ]
    },
    {
      "cell_type": "code",
      "metadata": {
        "id": "SP2LFecnH8wN",
        "colab_type": "code",
        "colab": {},
        "outputId": "a3340ede-ff85-455a-bad2-a78fcc29be6d"
      },
      "source": [
        "list(combinations(tmp_lst, len(tmp_lst)))"
      ],
      "execution_count": null,
      "outputs": [
        {
          "output_type": "execute_result",
          "data": {
            "text/plain": [
              "[('+', '*')]"
            ]
          },
          "metadata": {
            "tags": []
          },
          "execution_count": 35
        }
      ]
    },
    {
      "cell_type": "code",
      "metadata": {
        "id": "ihVexfTGH8wU",
        "colab_type": "code",
        "colab": {},
        "outputId": "0d647650-9745-4276-bfe3-357a03b0654a"
      },
      "source": [
        "list(combinations([1, 2], 2))"
      ],
      "execution_count": null,
      "outputs": [
        {
          "output_type": "execute_result",
          "data": {
            "text/plain": [
              "[(1, 2)]"
            ]
          },
          "metadata": {
            "tags": []
          },
          "execution_count": 34
        }
      ]
    },
    {
      "cell_type": "code",
      "metadata": {
        "id": "7cIWksUlH8wd",
        "colab_type": "code",
        "colab": {}
      },
      "source": [
        ""
      ],
      "execution_count": null,
      "outputs": []
    }
  ]
}
{
 "cells": [
  {
   "cell_type": "code",
   "execution_count": 10,
   "metadata": {},
   "outputs": [
    {
     "name": "stdout",
     "output_type": "stream",
     "text": [
      "1010101010101010101\n",
      "9\n"
     ]
    }
   ],
   "source": [
    "# 1493번 - Greedy\n",
    "import re\n",
    "text = input()\n",
    "lst_0 = re.findall('0+', text)\n",
    "lst_1 = re.findall('1+', text)\n",
    "print(min([len(lst_0), len(lst_1)]))"
   ]
  },
  {
   "cell_type": "code",
   "execution_count": 19,
   "metadata": {},
   "outputs": [
    {
     "name": "stdout",
     "output_type": "stream",
     "text": [
      "111222\n",
      "READY\n"
     ]
    }
   ],
   "source": [
    "# 18406번 - 구현\n",
    "n = input()\n",
    "j = int(len(n)/2)\n",
    "left = n[:j]\n",
    "right = n[j:]\n",
    "left = sum([int(x) for x in left])\n",
    "right = sum([int(x) for x in right])\n",
    "if left == right:\n",
    "    print('LUCKY')\n",
    "else:\n",
    "    print('READY')"
   ]
  }
 ],
 "metadata": {
  "kernelspec": {
   "display_name": "Python 3",
   "language": "python",
   "name": "python3"
  },
  "language_info": {
   "codemirror_mode": {
    "name": "ipython",
    "version": 3
   },
   "file_extension": ".py",
   "mimetype": "text/x-python",
   "name": "python",
   "nbconvert_exporter": "python",
   "pygments_lexer": "ipython3",
   "version": "3.7.3"
  }
 },
 "nbformat": 4,
 "nbformat_minor": 2
}

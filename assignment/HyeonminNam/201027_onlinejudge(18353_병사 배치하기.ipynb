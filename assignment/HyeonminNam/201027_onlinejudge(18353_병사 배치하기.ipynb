{
 "cells": [
  {
   "cell_type": "code",
   "execution_count": 21,
   "metadata": {},
   "outputs": [
    {
     "output_type": "stream",
     "name": "stdout",
     "text": [
      "[1, 2, 1, 1, 1, 1, 1]\n[1, 2, 2, 1, 1, 1, 1]\n[1, 2, 3, 1, 1, 1, 1]\n[1, 2, 3, 2, 1, 1, 1]\n[1, 2, 3, 3, 1, 1, 1]\n[1, 2, 3, 3, 1, 1, 1]\n[1, 2, 3, 3, 2, 1, 1]\n[1, 2, 3, 3, 3, 1, 1]\n[1, 2, 3, 3, 3, 1, 1]\n[1, 2, 3, 3, 4, 1, 1]\n[1, 2, 3, 3, 4, 2, 1]\n[1, 2, 3, 3, 4, 3, 1]\n[1, 2, 3, 3, 4, 4, 1]\n[1, 2, 3, 3, 4, 4, 1]\n[1, 2, 3, 3, 4, 5, 1]\n[1, 2, 3, 3, 4, 5, 2]\n[1, 2, 3, 3, 4, 5, 3]\n[1, 2, 3, 3, 4, 5, 3]\n[1, 2, 3, 3, 4, 5, 4]\n[1, 2, 3, 3, 4, 5, 5]\n[1, 2, 3, 3, 4, 5, 5]\n2\n"
     ]
    }
   ],
   "source": [
    "# 18353번 - 병사 배치하기\n",
    "## <문제 풀이 알고리즘> - 다이나믹 프로그래밍 활용\n",
    "# 각 병사를 마지막으로 했을 때의 최대 병사 수를 저장하는 리스트 만들어 놓고\n",
    "# 최대한 많은 병사가 배치된 경우를 확인하여\n",
    "# print(n명의 병사 - 최대 많은 병사 배치)\n",
    "\n",
    "\n",
    "## 문제 풀이 코드\n",
    "# import sys\n",
    "# input = sys.stdin.readline\n",
    "n = int(input())\n",
    "soldiers = list(map(int, input().split()))\n",
    "\n",
    "dp = [1]*n\n",
    "\n",
    "for i in range(1, n):\n",
    "    for j in range(0, i):\n",
    "        # i번째 병사가 j번째 병사보다 전투력이 작다면(=i번째 병사가 j번째의 뒤에 이어서 마지막이 될 수 있다면)\n",
    "        if soldiers[i] < soldiers[j]:\n",
    "            # 'j번째를 마지막으로 하는 정렬의 최대 병사 수 + 본인'과 이전까지의 최대 병사 수 비교하여 갱신\n",
    "            dp[i] = max(dp[i], dp[j]+1)\n",
    "# n명 - 최대한 많은 병사 배치된 경우\n",
    "print(n-max(dp))"
   ]
  },
  {
   "cell_type": "code",
   "execution_count": null,
   "metadata": {},
   "outputs": [],
   "source": []
  }
 ],
 "metadata": {
  "kernelspec": {
   "display_name": "Python 3",
   "language": "python",
   "name": "python3"
  },
  "language_info": {
   "codemirror_mode": {
    "name": "ipython",
    "version": 3
   },
   "file_extension": ".py",
   "mimetype": "text/x-python",
   "name": "python",
   "nbconvert_exporter": "python",
   "pygments_lexer": "ipython3",
   "version": "3.7.3-final"
  }
 },
 "nbformat": 4,
 "nbformat_minor": 2
}
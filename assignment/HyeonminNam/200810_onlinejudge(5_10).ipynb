{
  "nbformat": 4,
  "nbformat_minor": 0,
  "metadata": {
    "kernelspec": {
      "display_name": "Python 3",
      "language": "python",
      "name": "python3"
    },
    "colab": {
      "name": "200810_onlinejudge(5-10).ipynb",
      "provenance": [],
      "include_colab_link": true
    }
  },
  "cells": [
    {
      "cell_type": "markdown",
      "metadata": {
        "id": "view-in-github",
        "colab_type": "text"
      },
      "source": [
        "<a href=\"https://colab.research.google.com/github/bigboom1253/coding_test_study/blob/master/assignment/HyeonminNam/200810_onlinejudge(5_10).ipynb\" target=\"_parent\"><img src=\"https://colab.research.google.com/assets/colab-badge.svg\" alt=\"Open In Colab\"/></a>"
      ]
    },
    {
      "cell_type": "code",
      "metadata": {
        "id": "8LG9_8mr9x9f",
        "colab_type": "code",
        "colab": {},
        "outputId": "befa5106-c3fc-432e-9ac1-4cdcb5bd8b23"
      },
      "source": [
        "# 5단계 - 10817번\n",
        "x = map(int, input().split())\n",
        "print(sorted(x)[1])"
      ],
      "execution_count": null,
      "outputs": [
        {
          "output_type": "stream",
          "text": [
            "1 2 3\n"
          ],
          "name": "stdout"
        },
        {
          "output_type": "execute_result",
          "data": {
            "text/plain": [
              "2"
            ]
          },
          "metadata": {
            "tags": []
          },
          "execution_count": 1
        }
      ]
    },
    {
      "cell_type": "code",
      "metadata": {
        "id": "JZcXshNw9x9l",
        "colab_type": "code",
        "colab": {}
      },
      "source": [
        "# 5단계 - 5543번\n",
        "# jupyter에서 실행 X\n",
        "import sys\n",
        "\n",
        "# 입력된 가격들을 리스트에 추가\n",
        "lst = []\n",
        "for _ in range(5):\n",
        "    x = int(sys.stdin.readline())\n",
        "    lst.append(x)\n",
        "# 메인 가격(세 번째까지)과 음료 가격(마지막 2개) 중에서 \n",
        "# 가장 낮은 것 더하고 -50\n",
        "print(sorted(lst[:3])[0] + sorted(lst[-2:])[0] - 50)"
      ],
      "execution_count": null,
      "outputs": []
    },
    {
      "cell_type": "code",
      "metadata": {
        "id": "Ta-hXRI19x9o",
        "colab_type": "code",
        "colab": {}
      },
      "source": [
        "# 6단계 - 4344번\n",
        "import sys\n",
        "for _ in range(int(sys.stdin.readline())):\n",
        "    lst = list(map(int, sys.stdin.readline().split()))\n",
        "    s_n = lst[0]\n",
        "    # 두 번째부터 점수\n",
        "    score = lst[1:]\n",
        "    # 평균 계산해서 평균보다 높은 것들만 리스트 만들어서 개수 측정\n",
        "    mean = sum(score)/len(score)\n",
        "    mean_over = len([x for x in score if x > mean])\n",
        "    # 평균이상/전체 백분율 구해서 소수 셋째 자리까지 출력\n",
        "    print('{0:.3f}%'.format((mean_over/len(score))*100))"
      ],
      "execution_count": null,
      "outputs": []
    },
    {
      "cell_type": "code",
      "metadata": {
        "id": "1UMLlIXk9x9q",
        "colab_type": "code",
        "colab": {}
      },
      "source": [
        "# 6단계 - 10818번\n",
        "import sys\n",
        "num = int(sys.stdin.readline())\n",
        "lst = map(int, sys.stdin.readline().split())\n",
        "# 정렬\n",
        "lst = sorted(lst)\n",
        "# 최솟값(리스트 가장 앞), 최댓값(리스트 가장 뒤) 출력\n",
        "print('{} {}'.format(lst[0], lst[-1]))"
      ],
      "execution_count": null,
      "outputs": []
    },
    {
      "cell_type": "code",
      "metadata": {
        "id": "3OroFIGM9x9t",
        "colab_type": "code",
        "colab": {}
      },
      "source": [
        "# 7단계 - 15596번\n",
        "def solve(a):\n",
        "    return sum(a)"
      ],
      "execution_count": null,
      "outputs": []
    },
    {
      "cell_type": "code",
      "metadata": {
        "id": "QZKsuD6F9x9v",
        "colab_type": "code",
        "colab": {},
        "outputId": "c0d7ef2b-9c7f-4c04-b620-7b48a5a4ec2d"
      },
      "source": [
        "# 7단계 - 1065번\n",
        "import sys\n",
        "\n",
        "# 한수 판단하는 함수\n",
        "def han_num(x):\n",
        "    # 100보다 작으면 항상 한수\n",
        "    if x < 100:\n",
        "        return 1\n",
        "    # 개별 숫자를 요소로 가지는 리스트 만들어서\n",
        "    num_lst = list(map(int, list(str(x))))\n",
        "    # 첫 번째, 두 번째 차이와 두 번째 차이와 세 번째 차이가 같으면 한수\n",
        "    if num_lst[0] - num_lst[1] == num_lst[1] - num_lst[2]:\n",
        "        return 1\n",
        "    else:\n",
        "        return 0\n",
        "\n",
        "result = 0\n",
        "\n",
        "# N까지의 한수 개수 출력\n",
        "for n in range(1, int(input())+1):\n",
        "    result += han_num(n)\n",
        "print(result)"
      ],
      "execution_count": null,
      "outputs": [
        {
          "output_type": "stream",
          "text": [
            "1000\n",
            "144\n"
          ],
          "name": "stdout"
        }
      ]
    },
    {
      "cell_type": "code",
      "metadata": {
        "id": "GGmvn0n09x9y",
        "colab_type": "code",
        "colab": {}
      },
      "source": [
        "# 8단계 - 1152번\n",
        "text = input()\n",
        "lst = text.split()\n",
        "print(len(lst))"
      ],
      "execution_count": null,
      "outputs": []
    },
    {
      "cell_type": "code",
      "metadata": {
        "id": "DlI9AFEe9x90",
        "colab_type": "code",
        "colab": {},
        "outputId": "05da95e3-8484-4fe1-f065-4d6a8ca87750"
      },
      "source": [
        "# 8단계 - 2941번\n",
        "text = input()\n",
        "lst = ['c=', 'c-', 'dz=', 'd-', 'lj', 'nj', 'nj', 's=', 'z=']\n",
        "# 위 글자들을 모두 한 글자로 치환하여 숫자 카운트.\n",
        "for x in lst:\n",
        "    text = text.replace(x, '*')\n",
        "print(len(text))"
      ],
      "execution_count": null,
      "outputs": [
        {
          "output_type": "stream",
          "text": [
            "c=c=\n",
            "2\n"
          ],
          "name": "stdout"
        }
      ]
    },
    {
      "cell_type": "code",
      "metadata": {
        "scrolled": true,
        "id": "eByuc4y29x93",
        "colab_type": "code",
        "colab": {},
        "outputId": "a24fae8c-6801-4759-bcb1-b58eb039e99f"
      },
      "source": [
        "# 8단계 - 1157번\n",
        "\n",
        "text = input()\n",
        "\n",
        "# 알파벳 리스트 만들기\n",
        "alphabet = list(set(list(text.lower())))\n",
        "\n",
        "# 알파벳 빈도 측정해서 리스트에 저장\n",
        "lst = []\n",
        "for x in alphabet:\n",
        "    num = text.lower().count(x)\n",
        "    lst.append((num, x))\n",
        "    \n",
        "# 빈도 기준으로 정렬    \n",
        "lst = sorted(lst, reverse=True)\n",
        "\n",
        "# 가장 많이 출현한 알파벳 출력\n",
        "# (알파벳 종류 2개 이상이고 앞 2개 빈도 같으면 ? 출력)\n",
        "if len(lst) > 1 and lst[0][0] == lst[1][0]:\n",
        "    print('?')\n",
        "else:\n",
        "    print(lst[0][1].upper())      "
      ],
      "execution_count": null,
      "outputs": [
        {
          "output_type": "stream",
          "text": [
            "baaa\n",
            "A\n"
          ],
          "name": "stdout"
        }
      ]
    },
    {
      "cell_type": "code",
      "metadata": {
        "id": "uYtlllXf9x95",
        "colab_type": "code",
        "colab": {},
        "outputId": "3db46044-1ed7-4d41-a0a6-8337da56a7af"
      },
      "source": [
        "# 9단계 - 1712번\n",
        "# 고정 비용, 생산 단가, 판매가\n",
        "a, b, c = map(int, input().split())\n",
        "\n",
        "# 개별 생산 단가가 판매가보다 높거나 같으면 손익분기점 없음.\n",
        "if c <= b:\n",
        "    print(-1)\n",
        "# a/(c-b)보다 커지는 시점이 손익분기점.\n",
        "else:\n",
        "    x = a/(c-b)\n",
        "    print(int(x+1))\n"
      ],
      "execution_count": null,
      "outputs": [
        {
          "output_type": "stream",
          "text": [
            "500 30 10\n",
            "-1\n"
          ],
          "name": "stdout"
        }
      ]
    },
    {
      "cell_type": "code",
      "metadata": {
        "id": "I1_n3moI9x97",
        "colab_type": "code",
        "colab": {}
      },
      "source": [
        "# 9단계 - 1011번\n",
        "\n",
        "# 최소 이동 횟수(k) 구하는 함수\n",
        "def min_k(x, y):\n",
        "    # 거리\n",
        "    d = y - x\n",
        "    # 2까지는 k는 d와 같음\n",
        "    if d <= 2:\n",
        "        k = d\n",
        "        return k\n",
        "    \n",
        "    # 3부터 이동 횟수에 따른 최대 거리 계산하여,\n",
        "    # 이동해야 하는 거리가 최대 거리보다 작아질 때에\n",
        "    # while문 빠져나와서 k 리턴 \n",
        "    k = 3    \n",
        "    while True:\n",
        "        if k%2 ==0:\n",
        "            max_d = ((k/2)**2)+k/2\n",
        "        else:\n",
        "            max_d = ((int(k/2)+1)**2)\n",
        "        if int(max_d) >= d:\n",
        "            break\n",
        "        k += 1\n",
        "    return k\n",
        "\n",
        "for _ in range(int(input())):\n",
        "    x, y = map(int, input().split())\n",
        "    print(min_k(x, y))    "
      ],
      "execution_count": null,
      "outputs": []
    },
    {
      "cell_type": "code",
      "metadata": {
        "id": "ygGT1y1m9x99",
        "colab_type": "code",
        "colab": {},
        "outputId": "1631d2ae-9cb1-4147-9142-e470eb56821c"
      },
      "source": [
        "# 10단계 - 2581번\n",
        "m = int(input())\n",
        "n = int(input())\n",
        "lst = []\n",
        "for x in range(m, n+1):\n",
        "    # 1과 자기 자신 제외하고 약수 리스트 구하기\n",
        "    n_lst = [a for a in range(2, x) if x%a == 0]\n",
        "    # 약수가 없고 1이 아니면 소수, 소수 리스트에 추가.\n",
        "    if len(n_lst) == 0 and x != 1:\n",
        "        lst.append(x)\n",
        "# 만약 m과 n 사이에 소수가 존재하면 합계와 최솟값 출력.\n",
        "if lst:\n",
        "    print(sum(lst))\n",
        "    print(lst[0])\n",
        "# 소수 없으면 -1 출력.\n",
        "else:\n",
        "    print(-1)\n"
      ],
      "execution_count": null,
      "outputs": [
        {
          "output_type": "stream",
          "text": [
            "1\n",
            "20\n",
            "77\n",
            "2\n"
          ],
          "name": "stdout"
        }
      ]
    },
    {
      "cell_type": "code",
      "metadata": {
        "id": "eR-lqzyW9x-A",
        "colab_type": "code",
        "colab": {}
      },
      "source": [
        "# 10단계 - 3053번\n",
        "import math\n",
        "r = int(input())\n",
        "\n",
        "# 유클리드 기하학에서의 원 넓이 출력\n",
        "print((r**2)*math.pi)\n",
        "\n",
        "# 택시 거리에 따르면 원이 대각선 길이가 2r인 마름모 모양 나옴. \n",
        "# 마름모 넓이 계산하여 출력. \n",
        "print((r**2)*2)"
      ],
      "execution_count": null,
      "outputs": []
    }
  ]
}
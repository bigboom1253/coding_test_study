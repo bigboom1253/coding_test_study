{
 "cells": [
  {
   "cell_type": "code",
   "execution_count": 18,
   "metadata": {
    "tags": []
   },
   "outputs": [
    {
     "output_type": "stream",
     "name": "stdout",
     "text": "1 2 4 3\n1 2 3 4\n"
    }
   ],
   "source": [
    "# 1260번\n",
    "# import sys\n",
    "# input = sys.stdin.readline\n",
    "\n",
    "# 정점 개수, 간선 개수, 탐색 시작 번호\n",
    "n, m, v = list(map(int, input().split()))\n",
    "\n",
    "# 그래프\n",
    "graph = [[] for _ in range(n+1)]\n",
    "for _ in range(m):\n",
    "    start, end = list(map(int, input().split()))\n",
    "    graph[start].append(end)\n",
    "    graph[end].append(start)\n",
    "graph = list(map(sorted, graph))\n",
    "\n",
    "# DFS\n",
    "dfs_lst = []\n",
    "visited = [False for _ in range(n+1)]\n",
    "def dfs(graph, v, visited, dfs_lst):\n",
    "    visited[v] = True\n",
    "    dfs_lst.append(str(v))\n",
    "    for i in graph[v]:\n",
    "        if not visited[i]:\n",
    "            dfs(graph, i, visited, dfs_lst)\n",
    "    return dfs_lst\n",
    "print(' '.join(dfs(graph, v, visited, dfs_lst)))\n",
    "\n",
    "# BFS\n",
    "from collections import deque\n",
    "bfs_lst = []\n",
    "visited = [False for _ in range(n+1)]\n",
    "def bfs(graph, v, visited, bfs_lst):\n",
    "    queue = deque([v])\n",
    "    visited[v] = True\n",
    "    while queue:\n",
    "        v = queue.popleft()\n",
    "        bfs_lst.append(str(v))\n",
    "        for i in graph[v]:\n",
    "            if not visited[i]:\n",
    "                queue.append(i)\n",
    "                visited[i] = True\n",
    "    return bfs_lst\n",
    "print(' '.join(bfs(graph, v, visited, bfs_lst)))"
   ]
  }
 ],
 "metadata": {
  "kernelspec": {
   "display_name": "Python 3",
   "language": "python",
   "name": "python3"
  },
  "language_info": {
   "codemirror_mode": {
    "name": "ipython",
    "version": 3
   },
   "file_extension": ".py",
   "mimetype": "text/x-python",
   "name": "python",
   "nbconvert_exporter": "python",
   "pygments_lexer": "ipython3",
   "version": "3.7.3-final"
  }
 },
 "nbformat": 4,
 "nbformat_minor": 2
}
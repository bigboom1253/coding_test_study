{
 "cells": [
  {
   "cell_type": "markdown",
   "metadata": {},
   "source": [
    "### 1단계"
   ]
  },
  {
   "cell_type": "code",
   "execution_count": 2,
   "metadata": {},
   "outputs": [
    {
     "name": "stdout",
     "output_type": "stream",
     "text": [
      "Hello World!\n"
     ]
    }
   ],
   "source": [
    "# 2557번 Hello World\n",
    "print('Hello World!')"
   ]
  },
  {
   "cell_type": "code",
   "execution_count": 3,
   "metadata": {},
   "outputs": [
    {
     "name": "stdout",
     "output_type": "stream",
     "text": [
      "강한친구 대한육군\n",
      "강한친구 대한육군\n"
     ]
    }
   ],
   "source": [
    "# 10718번 강한친구 대한육군 2번 출력하기\n",
    "for i in range(2):\n",
    "  print('강한친구 대한육군')"
   ]
  },
  {
   "cell_type": "code",
   "execution_count": 4,
   "metadata": {},
   "outputs": [
    {
     "name": "stdout",
     "output_type": "stream",
     "text": [
      "1 2\n",
      "3\n"
     ]
    }
   ],
   "source": [
    "# 1000번 a+b 출력하기\n",
    "a, b = map(int, input().split()) # 입력받은 값을 공백을 기준으로 분리, map사용하여 정수변환\n",
    "print(a+b)"
   ]
  },
  {
   "cell_type": "code",
   "execution_count": 5,
   "metadata": {},
   "outputs": [
    {
     "name": "stdout",
     "output_type": "stream",
     "text": [
      "7 3\n",
      "10 \n",
      " 4 \n",
      " 21 \n",
      " 2 \n",
      " 1\n"
     ]
    }
   ],
   "source": [
    "# 10869번 사칙연산\n",
    "a, b = map(int, input().split())\n",
    "print(a+b, '\\n',a-b, '\\n',a*b, '\\n',int(a/b), '\\n',a%b)\n",
    "# 공백 뭐야.."
   ]
  },
  {
   "cell_type": "markdown",
   "metadata": {},
   "source": [
    "### 2단계"
   ]
  },
  {
   "cell_type": "code",
   "execution_count": 6,
   "metadata": {},
   "outputs": [
    {
     "name": "stdout",
     "output_type": "stream",
     "text": [
      "5 5\n",
      "==\n"
     ]
    }
   ],
   "source": [
    "# 1330번 두 수 비교하기\n",
    "a, b = map(int, input().split())\n",
    "print('>' if a > b else ('<' if a < b else '=='))"
   ]
  },
  {
   "cell_type": "code",
   "execution_count": 7,
   "metadata": {},
   "outputs": [
    {
     "name": "stdout",
     "output_type": "stream",
     "text": [
      "87\n",
      "B\n"
     ]
    }
   ],
   "source": [
    "# 9498번 시험 성적\n",
    "score = int(input())\n",
    "print('A' if 90<=score<=100 else('B' if 80<=score<=89 else('C' if 70<=score<=79 else('D' if 60<=score<=69 else 'F'))))"
   ]
  },
  {
   "cell_type": "code",
   "execution_count": 8,
   "metadata": {},
   "outputs": [
    {
     "name": "stdout",
     "output_type": "stream",
     "text": [
      "1999\n",
      "0\n"
     ]
    }
   ],
   "source": [
    "# 2753번 윤년\n",
    "yr = int(input())\n",
    "\n",
    "if yr % 4 == 0 and yr % 100 != 0 or yr % 400 == 0 :\n",
    "  print('1')\n",
    "else :\n",
    "  print('0')"
   ]
  },
  {
   "cell_type": "code",
   "execution_count": 9,
   "metadata": {},
   "outputs": [
    {
     "name": "stdout",
     "output_type": "stream",
     "text": [
      "12\n",
      "5\n",
      "1\n"
     ]
    }
   ],
   "source": [
    "# 14681 사분면 고르기\n",
    "x = int(input())\n",
    "y = int(input())\n",
    "\n",
    "if x > 0 and y > 0 :\n",
    "  print('1')\n",
    "elif x < 0 and y > 0 :\n",
    "  print('2')\n",
    "elif x < 0 and y < 0 :\n",
    "  print('3')\n",
    "else:\n",
    "  print('4')"
   ]
  },
  {
   "cell_type": "markdown",
   "metadata": {},
   "source": [
    "### 3단계"
   ]
  },
  {
   "cell_type": "code",
   "execution_count": 10,
   "metadata": {},
   "outputs": [
    {
     "name": "stdout",
     "output_type": "stream",
     "text": [
      "2\n",
      "2 * 1 = 2\n",
      "2 * 2 = 4\n",
      "2 * 3 = 6\n",
      "2 * 4 = 8\n",
      "2 * 5 = 10\n",
      "2 * 6 = 12\n",
      "2 * 7 = 14\n",
      "2 * 8 = 16\n",
      "2 * 9 = 18\n"
     ]
    }
   ],
   "source": [
    "# 2739번 구구단\n",
    "N = int(input())\n",
    "for i in range(1, 10):\n",
    "        print('{} * {} = {}'.format(N, i, N*i))"
   ]
  },
  {
   "cell_type": "code",
   "execution_count": 11,
   "metadata": {},
   "outputs": [
    {
     "name": "stdout",
     "output_type": "stream",
     "text": [
      "3\n",
      "6\n"
     ]
    }
   ],
   "source": [
    "# 8393번 합\n",
    "num = int(input())\n",
    "sum = 0\n",
    "for i in range(num+1):\n",
    "  sum += i\n",
    "print(sum)"
   ]
  },
  {
   "cell_type": "markdown",
   "metadata": {},
   "source": [
    "### 4단계"
   ]
  },
  {
   "cell_type": "code",
   "execution_count": 12,
   "metadata": {},
   "outputs": [
    {
     "name": "stdout",
     "output_type": "stream",
     "text": [
      "1 1\n",
      "2\n",
      "2 3\n",
      "5\n",
      "3 4\n",
      "7\n",
      "9 8\n",
      "17\n",
      "5 2\n",
      "7\n",
      "0 0\n"
     ]
    }
   ],
   "source": [
    "# 10952번 A+B -5\n",
    "while True:\n",
    "  a, b = map(int, input().split())\n",
    "  if a==0 and b==0:\n",
    "    break\n",
    "  else:\n",
    "    print(a+b)"
   ]
  },
  {
   "cell_type": "code",
   "execution_count": 13,
   "metadata": {},
   "outputs": [
    {
     "name": "stdout",
     "output_type": "stream",
     "text": [
      "1 1\n",
      "2\n",
      "3 4\n",
      "7\n",
      "\n"
     ]
    }
   ],
   "source": [
    "# 10951번 A+B -4\n",
    "while True:\n",
    "  try:\n",
    "    a, b = map(int, input().split())\n",
    "  except:\n",
    "    break\n",
    "  print(a+b)"
   ]
  },
  {
   "cell_type": "markdown",
   "metadata": {},
   "source": [
    "### 5단계"
   ]
  },
  {
   "cell_type": "code",
   "execution_count": 14,
   "metadata": {},
   "outputs": [
    {
     "name": "stdout",
     "output_type": "stream",
     "text": [
      "20 50 40\n",
      "40\n"
     ]
    }
   ],
   "source": [
    "# 10817번 세 수\n",
    "\n",
    "# a, b, c = map(int, input().split())\n",
    "# if a >= b and a>=c :\n",
    "#   if b >= c:\n",
    "#     print(b)\n",
    "#   else:\n",
    "#     print(c)\n",
    "# print(a)\n",
    "# if로 풀려고 했는데 잘 안됨 ㅜㅜ\n",
    "\n",
    "num = map(int, input().split())\n",
    "print(sorted(num)[1])"
   ]
  },
  {
   "cell_type": "code",
   "execution_count": 15,
   "metadata": {},
   "outputs": [
    {
     "name": "stdout",
     "output_type": "stream",
     "text": [
      "1999\n",
      "1999\n",
      "100\n",
      "189\n",
      "100\n",
      "150\n"
     ]
    }
   ],
   "source": [
    "# 5543번 상근날드\n",
    "\n",
    "# 세트메뉴 = 버거 1 + 음료 1 - 50원\n",
    "burger = []\n",
    "drink = []\n",
    "for i in range(3):\n",
    "  temp = int(input())\n",
    "  burger.append(temp)\n",
    "for i in range(2):\n",
    "  temp = int(input())\n",
    "  drink.append(temp)\n",
    "\n",
    "print(min(burger) + min(drink) - 50)"
   ]
  },
  {
   "cell_type": "markdown",
   "metadata": {},
   "source": [
    "### 6단계"
   ]
  },
  {
   "cell_type": "code",
   "execution_count": 16,
   "metadata": {},
   "outputs": [
    {
     "name": "stdout",
     "output_type": "stream",
     "text": [
      "5\n",
      "20 10 35 30 7\n",
      "7 35\n"
     ]
    }
   ],
   "source": [
    "# 10818번 최소, 최대\n",
    "num = int(input())\n",
    "num_list = list(map(int, input().split()))\n",
    "print(sorted(num_list)[0], sorted(num_list)[num-1])"
   ]
  },
  {
   "cell_type": "code",
   "execution_count": 17,
   "metadata": {},
   "outputs": [
    {
     "name": "stdout",
     "output_type": "stream",
     "text": [
      "39\n",
      "40\n",
      "41\n",
      "42\n",
      "43\n",
      "44\n",
      "82\n",
      "83\n",
      "84\n",
      "85\n",
      "6\n"
     ]
    }
   ],
   "source": [
    "# 3052번 나머지\n",
    "num_list = []\n",
    "for num in range(10):\n",
    "  num = int(input())\n",
    "  num_list.append(num % 42) # 42로 나눈 나머지만 append\n",
    "num_list = set(num_list) # 중복없애기\n",
    "print(len(num_list))"
   ]
  },
  {
   "cell_type": "markdown",
   "metadata": {},
   "source": [
    "### 7단계"
   ]
  },
  {
   "cell_type": "code",
   "execution_count": 18,
   "metadata": {},
   "outputs": [],
   "source": [
    "# 15596번 정수 N개의 합\n",
    "# ++8393번\n",
    "def solve(num_list):\n",
    "  sum = 0\n",
    "  for num in num_list:\n",
    "    sum += num\n",
    "  return sum"
   ]
  },
  {
   "cell_type": "markdown",
   "metadata": {},
   "source": [
    "### 8단계"
   ]
  },
  {
   "cell_type": "code",
   "execution_count": null,
   "metadata": {},
   "outputs": [],
   "source": [
    "# 2908번 상수\n",
    "num = input() # input().split()으로 하면 893 734로 나옴\n",
    "a = print(''.join(reversed(num)))\n",
    "# print(max(''.join(reversed(num))))\n",
    "print(max(a))\n",
    "# print(num[::-1])"
   ]
  },
  {
   "cell_type": "markdown",
   "metadata": {},
   "source": [
    "### 9단계"
   ]
  },
  {
   "cell_type": "code",
   "execution_count": null,
   "metadata": {},
   "outputs": [],
   "source": [
    "# 2775번 부녀회장이 될테야\n",
    "# Testcase = T, k층 n호\n",
    "T = int(input())\n",
    "for i in range(T):\n",
    "  k = int(input())\n",
    "  n = int(input())\n",
    "  "
   ]
  },
  {
   "cell_type": "markdown",
   "metadata": {},
   "source": [
    "### 10단계"
   ]
  },
  {
   "cell_type": "code",
   "execution_count": null,
   "metadata": {},
   "outputs": [],
   "source": [
    "# 1978번 소수 찾기\n",
    "\n",
    "num = input()\n",
    "num_list = list(map(int, input().split()))\n",
    "count = 0\n",
    "for i in num_list:\n",
    "  if i==0: \n",
    "    continue\n",
    "    i==i"
   ]
  }
 ],
 "metadata": {
  "kernelspec": {
   "display_name": "Python 3",
   "language": "python",
   "name": "python3"
  },
  "language_info": {
   "codemirror_mode": {
    "name": "ipython",
    "version": 3
   },
   "file_extension": ".py",
   "mimetype": "text/x-python",
   "name": "python",
   "nbconvert_exporter": "python",
   "pygments_lexer": "ipython3",
   "version": "3.7.6"
  }
 },
 "nbformat": 4,
 "nbformat_minor": 4
}

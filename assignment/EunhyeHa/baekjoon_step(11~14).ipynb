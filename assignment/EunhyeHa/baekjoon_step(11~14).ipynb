{
 "cells": [
  {
   "cell_type": "markdown",
   "metadata": {},
   "source": [
    "## **11단계 재귀**"
   ]
  },
  {
   "cell_type": "markdown",
   "metadata": {},
   "source": [
    "### **10872번 팩토리얼**"
   ]
  },
  {
   "cell_type": "code",
   "execution_count": 1,
   "metadata": {},
   "outputs": [
    {
     "name": "stdin",
     "output_type": "stream",
     "text": [
      " 4\n"
     ]
    },
    {
     "name": "stdout",
     "output_type": "stream",
     "text": [
      "24\n"
     ]
    }
   ],
   "source": [
    "def factorial(N):\n",
    "    if N <= 1:\n",
    "        return 1\n",
    "    return factorial(N-1) * N\n",
    "\n",
    "N = int(input())\n",
    "print(factorial(N))"
   ]
  },
  {
   "cell_type": "markdown",
   "metadata": {},
   "source": [
    "### **11729번 하노이 탑 이동 순서**"
   ]
  },
  {
   "cell_type": "code",
   "execution_count": 2,
   "metadata": {},
   "outputs": [
    {
     "name": "stdin",
     "output_type": "stream",
     "text": [
      " 3\n"
     ]
    },
    {
     "name": "stdout",
     "output_type": "stream",
     "text": [
      "7\n",
      "1 3\n",
      "1 2\n",
      "3 2\n",
      "1 3\n",
      "2 1\n",
      "2 3\n",
      "1 3\n"
     ]
    }
   ],
   "source": [
    "def hanoi(n,a,b,c): \n",
    "    if n==1: \n",
    "        move.append([a,c]) \n",
    "    else: \n",
    "        hanoi(n-1,a,c,b) \n",
    "        move.append([a,c]) \n",
    "        hanoi(n-1,b,a,c) \n",
    "\n",
    "move = [] # 이동 경로를 담을 list \n",
    "hanoi(int(input()),1,2,3) # function 실행 \n",
    "print(len(move)) # 이동 횟수 \n",
    "print(\"\\n\".join([' '.join(str(i) for i in row) for row in move])) # 이동 경로 출력"
   ]
  },
  {
   "cell_type": "markdown",
   "metadata": {},
   "source": [
    "## **13단계 브루트 포스**"
   ]
  },
  {
   "cell_type": "markdown",
   "metadata": {},
   "source": [
    "### **2798번 블랙잭**"
   ]
  },
  {
   "cell_type": "code",
   "execution_count": 10,
   "metadata": {},
   "outputs": [
    {
     "name": "stdin",
     "output_type": "stream",
     "text": [
      " 10 500\n",
      " 93 181 245 214 345 36 185 138 216 295\n"
     ]
    },
    {
     "name": "stdout",
     "output_type": "stream",
     "text": [
      "497\n"
     ]
    }
   ],
   "source": [
    "from itertools import combinations\n",
    "\n",
    "N, M = map(int, input().split())\n",
    "card = list(map(int, input().split()))\n",
    "max_num = 0\n",
    "\n",
    "for cards in combinations(card, 3):\n",
    "    sum_num = sum(cards)\n",
    "    if max_num < sum_num <= M:\n",
    "        max_num = sum_num\n",
    "print(max_num)"
   ]
  },
  {
   "cell_type": "markdown",
   "metadata": {},
   "source": [
    "### **7568번 덩치**"
   ]
  },
  {
   "cell_type": "code",
   "execution_count": 14,
   "metadata": {},
   "outputs": [
    {
     "name": "stdin",
     "output_type": "stream",
     "text": [
      " 5\n",
      " 55 185\n",
      " 58 183\n",
      " 88 186\n",
      " 60 175\n",
      " 46 155\n"
     ]
    },
    {
     "name": "stdout",
     "output_type": "stream",
     "text": [
      "2 2 1 2 5 "
     ]
    }
   ],
   "source": [
    "N = int(input())\n",
    "person_list = []\n",
    "\n",
    "for i in range(N):\n",
    "    person_list.append(input().split())\n",
    "\n",
    "count_list = [0]*N\n",
    "for i in range(N):\n",
    "    for j in range(N):\n",
    "        if person_list[i][0] < person_list[j][0]:\n",
    "            if person_list[i][1] < person_list[j][1]:\n",
    "                count_list[i] += 1\n",
    "\n",
    "for i in range(N):\n",
    "    print(count_list[i] + 1, end=\" \")"
   ]
  },
  {
   "cell_type": "markdown",
   "metadata": {},
   "source": [
    "## **14단계 정렬**"
   ]
  },
  {
   "cell_type": "markdown",
   "metadata": {},
   "source": [
    "### **2750번 수 정렬하기**"
   ]
  },
  {
   "cell_type": "code",
   "execution_count": 13,
   "metadata": {},
   "outputs": [
    {
     "name": "stdin",
     "output_type": "stream",
     "text": [
      " 5\n",
      " 5\n",
      " 2\n",
      " 3\n",
      " 4\n",
      " 1\n"
     ]
    },
    {
     "name": "stdout",
     "output_type": "stream",
     "text": [
      "1\n",
      "2\n",
      "3\n",
      "4\n",
      "5\n"
     ]
    }
   ],
   "source": [
    "N = int(input())\n",
    "num_list = []\n",
    "\n",
    "for i in range(N):\n",
    "    num_list.append(int(input()))\n",
    "\n",
    "num_list.sort()\n",
    "for i in range(N):\n",
    "    print(num_list[i])"
   ]
  },
  {
   "cell_type": "markdown",
   "metadata": {},
   "source": [
    "### **10814번 나이순 정렬**\n",
    " - 숫자 정렬은 int로 형변환 해야한다!"
   ]
  },
  {
   "cell_type": "code",
   "execution_count": 20,
   "metadata": {},
   "outputs": [
    {
     "name": "stdin",
     "output_type": "stream",
     "text": [
      " 3\n",
      " 21 Junkyu\n",
      " 21 Dohyun\n",
      " 20 Sunyoung\n"
     ]
    },
    {
     "name": "stdout",
     "output_type": "stream",
     "text": [
      "20 Sunyoung\n",
      "21 Junkyu\n",
      "21 Dohyun\n"
     ]
    }
   ],
   "source": [
    "N = int(input())\n",
    "cus_list = []\n",
    "\n",
    "for i in range(N):\n",
    "    cus_list.append([i, input().split()])\n",
    "\n",
    "result = sorted(cus_list, key = lambda x : (int(x[1][0]), x[0]))\n",
    "\n",
    "for i in range(N):\n",
    "    print(result[i][1][0], result[i][1][1])"
   ]
  },
  {
   "cell_type": "code",
   "execution_count": 16,
   "metadata": {},
   "outputs": [
    {
     "name": "stdout",
     "output_type": "stream",
     "text": [
      "20 Sunyoung\n",
      "21 Junkyu\n",
      "21 Dohyun\n"
     ]
    }
   ],
   "source": [
    "for i in range(N):\n",
    "    print(result[i][1][0], result[i][1][1])"
   ]
  },
  {
   "cell_type": "code",
   "execution_count": null,
   "metadata": {},
   "outputs": [],
   "source": []
  }
 ],
 "metadata": {
  "kernelspec": {
   "display_name": "Python 3",
   "language": "python",
   "name": "python3"
  },
  "language_info": {
   "codemirror_mode": {
    "name": "ipython",
    "version": 3
   },
   "file_extension": ".py",
   "mimetype": "text/x-python",
   "name": "python",
   "nbconvert_exporter": "python",
   "pygments_lexer": "ipython3",
   "version": "3.6.8"
  }
 },
 "nbformat": 4,
 "nbformat_minor": 4
}

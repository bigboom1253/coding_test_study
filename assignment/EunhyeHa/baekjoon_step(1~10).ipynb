{
 "cells": [
  {
   "cell_type": "markdown",
   "metadata": {},
   "source": [
    "## **1단계 입출력과 사칙연산**"
   ]
  },
  {
   "cell_type": "markdown",
   "metadata": {},
   "source": [
    "### **2257번 Hello World**\n",
    "- 느낌표 안써서 한번 틀린...ㅎㅎㅎ"
   ]
  },
  {
   "cell_type": "code",
   "execution_count": 1,
   "metadata": {},
   "outputs": [
    {
     "name": "stdout",
     "output_type": "stream",
     "text": [
      "Hello World!\n"
     ]
    }
   ],
   "source": [
    "print(\"Hello World!\")"
   ]
  },
  {
   "cell_type": "markdown",
   "metadata": {},
   "source": [
    "### **10171번 고양이**\n",
    "- escape 문자를 주의해야겠다."
   ]
  },
  {
   "cell_type": "code",
   "execution_count": 2,
   "metadata": {},
   "outputs": [
    {
     "name": "stdout",
     "output_type": "stream",
     "text": [
      "\\    /\\ \n",
      " )  ( ')\n",
      "(  /  )\n",
      " \\(__)|\n"
     ]
    }
   ],
   "source": [
    "print(\"\\    /\\ \")\n",
    "print(\" )  ( ')\")\n",
    "print(\"(  /  )\")\n",
    "print(\" \\(__)|\")"
   ]
  },
  {
   "cell_type": "markdown",
   "metadata": {},
   "source": [
    "### **10869번 사칙연산**\n",
    "- 처음으로 한번에 맞췄다... 이게뭐라고... "
   ]
  },
  {
   "cell_type": "code",
   "execution_count": 3,
   "metadata": {},
   "outputs": [
    {
     "name": "stdin",
     "output_type": "stream",
     "text": [
      " 7 3\n"
     ]
    },
    {
     "name": "stdout",
     "output_type": "stream",
     "text": [
      "10\n",
      "4\n",
      "21\n",
      "2\n",
      "1\n"
     ]
    }
   ],
   "source": [
    "str_num = input()\n",
    "num1 = int(str_num.split()[0])\n",
    "num2 = int(str_num.split()[1])\n",
    "\n",
    "print(num1+num2)\n",
    "print(num1-num2)\n",
    "print(num1*num2)\n",
    "print(int(num1/num2))\n",
    "print(num1%num2)"
   ]
  },
  {
   "cell_type": "markdown",
   "metadata": {},
   "source": [
    "## **2단계 if문**"
   ]
  },
  {
   "cell_type": "markdown",
   "metadata": {},
   "source": [
    "### **1330번 두 수 비교하기**\n",
    "- 언어설정을 C++14로 해서 한번 틀림..."
   ]
  },
  {
   "cell_type": "code",
   "execution_count": 4,
   "metadata": {},
   "outputs": [
    {
     "name": "stdin",
     "output_type": "stream",
     "text": [
      " 10 2\n"
     ]
    },
    {
     "name": "stdout",
     "output_type": "stream",
     "text": [
      ">\n"
     ]
    }
   ],
   "source": [
    "str_num = input()\n",
    "\n",
    "num1, num2 = int(str_num.split()[0]), int(str_num.split()[1])\n",
    "\n",
    "if num1 > num2:\n",
    "    print('>')\n",
    "elif num1 < num2:\n",
    "    print('<')\n",
    "else:\n",
    "    print('==')"
   ]
  },
  {
   "cell_type": "markdown",
   "metadata": {},
   "source": [
    "### **2953번 윤년**"
   ]
  },
  {
   "cell_type": "code",
   "execution_count": 5,
   "metadata": {},
   "outputs": [
    {
     "name": "stdin",
     "output_type": "stream",
     "text": [
      " 2000\n"
     ]
    },
    {
     "name": "stdout",
     "output_type": "stream",
     "text": [
      "1\n"
     ]
    }
   ],
   "source": [
    "year = int(input())\n",
    "\n",
    "if (year%4 == 0 and year%100 != 0) or year%400 == 0:\n",
    "    print(\"1\")\n",
    "else:\n",
    "    print(\"0\")"
   ]
  },
  {
   "cell_type": "markdown",
   "metadata": {},
   "source": [
    "### **2884번 알람 시계**"
   ]
  },
  {
   "cell_type": "code",
   "execution_count": 6,
   "metadata": {},
   "outputs": [
    {
     "name": "stdin",
     "output_type": "stream",
     "text": [
      " 0 30\n"
     ]
    },
    {
     "name": "stdout",
     "output_type": "stream",
     "text": [
      "23 45\n"
     ]
    }
   ],
   "source": [
    "str_num = input()\n",
    "H_num = int(str_num.split()[0])\n",
    "M_num = int(str_num.split()[1])\n",
    "\n",
    "\n",
    "if M_num < 45:\n",
    "    M_num = M_num + 15\n",
    "    if H_num == 0:\n",
    "        H_num = 23\n",
    "    else:\n",
    "        H_num -= 1\n",
    "\n",
    "else:\n",
    "    M_num = M_num - 45\n",
    "\n",
    "print(H_num, M_num)"
   ]
  },
  {
   "cell_type": "markdown",
   "metadata": {},
   "source": [
    "## **3단계 for문**"
   ]
  },
  {
   "cell_type": "markdown",
   "metadata": {},
   "source": [
    "### **8393번 합**"
   ]
  },
  {
   "cell_type": "code",
   "execution_count": 12,
   "metadata": {},
   "outputs": [
    {
     "name": "stdin",
     "output_type": "stream",
     "text": [
      " 3\n"
     ]
    },
    {
     "name": "stdout",
     "output_type": "stream",
     "text": [
      "6\n"
     ]
    }
   ],
   "source": [
    "num = int(input())\n",
    "result = 0\n",
    "\n",
    "for i in range(num+1):\n",
    "    result += i\n",
    "    \n",
    "print(result)"
   ]
  },
  {
   "cell_type": "markdown",
   "metadata": {},
   "source": [
    "### **15552번 빠른 A+B**\n",
    "- sys.stdin.readline 을 쓰는 문제로 주피터에서는 돌아가지 않음(백준으로만 확인가능)."
   ]
  },
  {
   "cell_type": "code",
   "execution_count": null,
   "metadata": {},
   "outputs": [],
   "source": [
    "import sys\n",
    "\n",
    "T_num = int(sys.stdin.readline())\n",
    "\n",
    "for i in range(T_num):\n",
    "    str_num = sys.stdin.readline()\n",
    "    print(int(str_num.split()[0]) + int(str_num.split()[1]))"
   ]
  },
  {
   "cell_type": "markdown",
   "metadata": {},
   "source": [
    "### **10871번 X보다 작은 수**\n",
    "- 시간 초과... split함수도 많이 쓰면 시간초과뜬다... "
   ]
  },
  {
   "cell_type": "code",
   "execution_count": 28,
   "metadata": {},
   "outputs": [
    {
     "name": "stdin",
     "output_type": "stream",
     "text": [
      " 10 5\n",
      " 1 10 4 9 2 3 8 5 7 6\n"
     ]
    },
    {
     "name": "stdout",
     "output_type": "stream",
     "text": [
      "1 4 2 3 \n"
     ]
    }
   ],
   "source": [
    "N_X = input()\n",
    "N, X = int(N_X.split()[0]), int(N_X.split()[1])\n",
    "str_num = input()\n",
    "x_list = \"\"\n",
    "\n",
    "for i in range(N):\n",
    "    num = str_num.split()[i]\n",
    "    if X > int(num):\n",
    "        x_list = x_list + num + \" \"\n",
    "\n",
    "print(x_list)"
   ]
  },
  {
   "cell_type": "markdown",
   "metadata": {},
   "source": [
    "## **4단계 while문**"
   ]
  },
  {
   "cell_type": "markdown",
   "metadata": {},
   "source": [
    "### **110번 더하기 사이클**"
   ]
  },
  {
   "cell_type": "code",
   "execution_count": 5,
   "metadata": {},
   "outputs": [
    {
     "name": "stdin",
     "output_type": "stream",
     "text": [
      " 1\n"
     ]
    },
    {
     "name": "stdout",
     "output_type": "stream",
     "text": [
      "60\n"
     ]
    }
   ],
   "source": [
    "str_num = input()\n",
    "\n",
    "# 주어진 수가 10보다 작을 때 앞에 0을 붙여 두자리 수로 만들어 준다.\n",
    "if len(str_num) == 1:\n",
    "    str_num = '0' + str_num\n",
    "\n",
    "# 처음 숫자를 저장한 후, 각각 자리수를 나누어 준다.\n",
    "fir_num = str_num\n",
    "num1 = int(str_num[0])\n",
    "num2 = int(str_num[1])\n",
    "\n",
    "count = 0\n",
    "\n",
    "while True:\n",
    "    count += 1\n",
    "    re_num = num1 + num2\n",
    "    new_num = str(num2) + str(re_num)[-1]\n",
    "    \n",
    "    # 새로운 수가 원래의 수와 같아지면 사이클의 길이를 출력하고 while문을 나온다.\n",
    "    if new_num == fir_num:\n",
    "        print(count)\n",
    "        break\n",
    "    \n",
    "    num1 = num2\n",
    "    num2 = int(str(re_num)[-1])"
   ]
  },
  {
   "cell_type": "markdown",
   "metadata": {},
   "source": [
    "### **10951번 A+B - 4**"
   ]
  },
  {
   "cell_type": "code",
   "execution_count": 38,
   "metadata": {},
   "outputs": [
    {
     "name": "stdin",
     "output_type": "stream",
     "text": [
      " 1 1\n"
     ]
    },
    {
     "name": "stdout",
     "output_type": "stream",
     "text": [
      "2\n"
     ]
    },
    {
     "name": "stdin",
     "output_type": "stream",
     "text": [
      " 2 3\n"
     ]
    },
    {
     "name": "stdout",
     "output_type": "stream",
     "text": [
      "5\n"
     ]
    },
    {
     "name": "stdin",
     "output_type": "stream",
     "text": [
      " 3 4\n"
     ]
    },
    {
     "name": "stdout",
     "output_type": "stream",
     "text": [
      "7\n"
     ]
    },
    {
     "name": "stdin",
     "output_type": "stream",
     "text": [
      " \n"
     ]
    }
   ],
   "source": [
    "while True:\n",
    "    try:\n",
    "        num1, num2 = map(int, input().split())\n",
    "        print(num1 + num2)\n",
    "    except:\n",
    "        break"
   ]
  },
  {
   "cell_type": "markdown",
   "metadata": {},
   "source": [
    "## **5단계 실습1**"
   ]
  },
  {
   "cell_type": "markdown",
   "metadata": {},
   "source": [
    "### **5543번 상근날드**"
   ]
  },
  {
   "cell_type": "code",
   "execution_count": 8,
   "metadata": {},
   "outputs": [
    {
     "name": "stdin",
     "output_type": "stream",
     "text": [
      " 800\n",
      " 700\n",
      " 900\n",
      " 198\n",
      " 330\n"
     ]
    },
    {
     "name": "stdout",
     "output_type": "stream",
     "text": [
      "848\n"
     ]
    }
   ],
   "source": [
    "ham_pri = []\n",
    "dri_pri = []\n",
    "\n",
    "for i in range(5):\n",
    "    if i < 3:\n",
    "        ham_pri.append(int(input()))\n",
    "    else:\n",
    "        dri_pri.append(int(input()))\n",
    "\n",
    "print(min(ham_pri) + min(dri_pri) - 50)"
   ]
  },
  {
   "cell_type": "markdown",
   "metadata": {},
   "source": [
    "### **10817번 세 수**"
   ]
  },
  {
   "cell_type": "code",
   "execution_count": 36,
   "metadata": {},
   "outputs": [
    {
     "name": "stdin",
     "output_type": "stream",
     "text": [
      " 30 30 10\n"
     ]
    },
    {
     "name": "stdout",
     "output_type": "stream",
     "text": [
      "30\n"
     ]
    }
   ],
   "source": [
    "num1, num2, num3 = map(int, input().split())\n",
    "\n",
    "num_list = [num1, num2, num3]\n",
    "num_list.sort()\n",
    "print(num_list[1])"
   ]
  },
  {
   "cell_type": "markdown",
   "metadata": {},
   "source": [
    "## **6단계 1차원 배열**"
   ]
  },
  {
   "cell_type": "markdown",
   "metadata": {},
   "source": [
    "### **10818번 최소, 최대**\n",
    "- for문을 지양해야한다"
   ]
  },
  {
   "cell_type": "markdown",
   "metadata": {},
   "source": [
    "시간초과 코드\n",
    "- for문 사용"
   ]
  },
  {
   "cell_type": "code",
   "execution_count": 17,
   "metadata": {},
   "outputs": [
    {
     "name": "stdin",
     "output_type": "stream",
     "text": [
      " 5\n",
      " 20 10 35 30 7\n"
     ]
    },
    {
     "name": "stdout",
     "output_type": "stream",
     "text": [
      "7 35\n"
     ]
    }
   ],
   "source": [
    "num = int(input())\n",
    "int_num = input()\n",
    "int_num_list = []\n",
    "\n",
    "for i in range(num):\n",
    "    int_num_list.append(int(int_num.split()[i]))\n",
    "\n",
    "print(min(int_num_list), max(int_num_list))"
   ]
  },
  {
   "cell_type": "markdown",
   "metadata": {},
   "source": [
    "최종 코드"
   ]
  },
  {
   "cell_type": "code",
   "execution_count": 16,
   "metadata": {},
   "outputs": [
    {
     "name": "stdin",
     "output_type": "stream",
     "text": [
      " 5\n",
      " 20 10 35 30 7\n"
     ]
    },
    {
     "name": "stdout",
     "output_type": "stream",
     "text": [
      "7 35\n"
     ]
    }
   ],
   "source": [
    "num = int(input())\n",
    "int_num_list = list(map(int, input().split()))\n",
    "print(min(int_num_list), max(int_num_list))"
   ]
  },
  {
   "cell_type": "markdown",
   "metadata": {},
   "source": [
    "## **7단계 함수**"
   ]
  },
  {
   "cell_type": "markdown",
   "metadata": {},
   "source": [
    "### **1065번 한수**"
   ]
  },
  {
   "cell_type": "code",
   "execution_count": 9,
   "metadata": {},
   "outputs": [
    {
     "name": "stdin",
     "output_type": "stream",
     "text": [
      " 1000\n"
     ]
    },
    {
     "name": "stdout",
     "output_type": "stream",
     "text": [
      "144\n"
     ]
    }
   ],
   "source": [
    "num = int(input())\n",
    "\n",
    "if num < 100:\n",
    "    print(num)\n",
    "\n",
    "else:\n",
    "    i = 100\n",
    "    count = 99\n",
    "    \n",
    "    while i <= num:\n",
    "        if  int(str(i)[0]) - int(str(i)[1]) == int(str(i)[1]) - int(str(i)[2]):\n",
    "            count += 1\n",
    "        i += 1\n",
    "        \n",
    "    print(count)"
   ]
  },
  {
   "cell_type": "markdown",
   "metadata": {},
   "source": [
    "## **8단계 문자열**"
   ]
  },
  {
   "cell_type": "markdown",
   "metadata": {},
   "source": [
    "### **1157번 단어 공부**"
   ]
  },
  {
   "cell_type": "code",
   "execution_count": 57,
   "metadata": {},
   "outputs": [
    {
     "name": "stdin",
     "output_type": "stream",
     "text": [
      " baaa\n"
     ]
    },
    {
     "name": "stdout",
     "output_type": "stream",
     "text": [
      "A\n"
     ]
    }
   ],
   "source": [
    "word = input().upper()  # 입력값을 모두 대문자로 변환\n",
    "word_list = list(set(word))  # 중복을 없앤 리스트 생성\n",
    "word_count_list = []  # 각 알파벳의 사용 횟수를 저장해 줄 리스트 생성\n",
    "\n",
    "# 각 알파벳의 사용 횟수를 리스트에 저장\n",
    "for i in range(len(word_list)):\n",
    "     word_count_list.append(word.count(word_list[i]))\n",
    "\n",
    "# 가장 많이 사용된 알파벳이 여러개인 경우에는 ?를 출력하고, 아닐경우 해당 알파벳 출력 \n",
    "if word_count_list.count(max(word_count_list)) >= 2:\n",
    "    print('?')\n",
    "else:\n",
    "    print(word_list[word_count_list.index(max(word_count_list))])"
   ]
  },
  {
   "cell_type": "markdown",
   "metadata": {},
   "source": [
    "## **9단계 수학1**"
   ]
  },
  {
   "cell_type": "markdown",
   "metadata": {},
   "source": [
    "### **2869번 달팽이는 올라가고 싶다**\n",
    "- 생각보다 쉽게 안풀렸던...ㅎㅎㅎ"
   ]
  },
  {
   "cell_type": "markdown",
   "metadata": {},
   "source": [
    "시간초과 코드"
   ]
  },
  {
   "cell_type": "code",
   "execution_count": 7,
   "metadata": {},
   "outputs": [
    {
     "name": "stdin",
     "output_type": "stream",
     "text": [
      " 2 1 5\n"
     ]
    },
    {
     "name": "stdout",
     "output_type": "stream",
     "text": [
      "4\n"
     ]
    }
   ],
   "source": [
    "str_num = input()\n",
    "up = int(str_num.split()[0])\n",
    "down = int(str_num.split()[1])\n",
    "tree = int(str_num.split()[2])\n",
    "\n",
    "pangE = 0\n",
    "day = 0\n",
    "\n",
    "while True:\n",
    "    day += 1\n",
    "    pangE += up\n",
    "\n",
    "    if pangE == tree:\n",
    "        print(day)\n",
    "        break\n",
    "\n",
    "    pangE -= down"
   ]
  },
  {
   "cell_type": "markdown",
   "metadata": {},
   "source": [
    "중간 시행착오 코드\n",
    "- 딱 맞아 떨어지는 값만 계산할 수 있는 식"
   ]
  },
  {
   "cell_type": "code",
   "execution_count": 8,
   "metadata": {},
   "outputs": [
    {
     "name": "stdin",
     "output_type": "stream",
     "text": [
      " 2 1 5\n"
     ]
    },
    {
     "name": "stdout",
     "output_type": "stream",
     "text": [
      "4\n"
     ]
    }
   ],
   "source": [
    "str_num = input()\n",
    "up = int(str_num.split()[0])\n",
    "down = int(str_num.split()[1])\n",
    "tree = int(str_num.split()[2])\n",
    "\n",
    "print((tree-down)//(up-down))"
   ]
  },
  {
   "cell_type": "markdown",
   "metadata": {},
   "source": [
    "최종 코드\n",
    "- 중간 시행착오 코드 수정"
   ]
  },
  {
   "cell_type": "code",
   "execution_count": 10,
   "metadata": {},
   "outputs": [
    {
     "name": "stdin",
     "output_type": "stream",
     "text": [
      " 2 1 5\n"
     ]
    },
    {
     "name": "stdout",
     "output_type": "stream",
     "text": [
      "4\n"
     ]
    }
   ],
   "source": [
    "str_num = input()\n",
    "up = int(str_num.split()[0])\n",
    "down = int(str_num.split()[1])\n",
    "tree = int(str_num.split()[2])\n",
    "\n",
    "print(-(-(tree-down)//(up-down)))"
   ]
  },
  {
   "cell_type": "markdown",
   "metadata": {},
   "source": [
    "## **10단계 수학2**"
   ]
  },
  {
   "cell_type": "markdown",
   "metadata": {},
   "source": [
    "### **1002번 터렛**"
   ]
  },
  {
   "cell_type": "code",
   "execution_count": 69,
   "metadata": {},
   "outputs": [
    {
     "name": "stdin",
     "output_type": "stream",
     "text": [
      " 3\n",
      " 0 0 13 40 0 37\n"
     ]
    },
    {
     "name": "stdout",
     "output_type": "stream",
     "text": [
      "2\n"
     ]
    },
    {
     "name": "stdin",
     "output_type": "stream",
     "text": [
      " 0 0 3 0 7 4\n"
     ]
    },
    {
     "name": "stdout",
     "output_type": "stream",
     "text": [
      "1\n"
     ]
    },
    {
     "name": "stdin",
     "output_type": "stream",
     "text": [
      " 1 1 1 1 1 5\n"
     ]
    },
    {
     "name": "stdout",
     "output_type": "stream",
     "text": [
      "0\n"
     ]
    }
   ],
   "source": [
    "import math\n",
    "\n",
    "num = int(input())\n",
    "i = 0\n",
    "\n",
    "while i < num:\n",
    "    i += 1\n",
    "    x1, y1, r1, x2, y2, r2 = map(int, input().split())\n",
    "\n",
    "    # 두 점사이의 거리 계산\n",
    "    x_len = x2 - x1\n",
    "    y_len = y2 - y1\n",
    "    r_len_p = r1 + r2\n",
    "    r_len_n = max(r1, r2) - min(r1, r2)\n",
    "    xy_len = math.sqrt((x_len**2) + (y_len**2))\n",
    "\n",
    "    # 같은 중심점을 가질 때(2가지)\n",
    "    if (x1 == x2) and (y1 == y2):\n",
    "        if r1 == r2:\n",
    "            print(-1)\n",
    "        else:\n",
    "            print(0)\n",
    "    \n",
    "    # 두 원이 만나지 않을 때\n",
    "    elif r_len_p < xy_len or r_len_n > xy_len:\n",
    "        print(0)\n",
    "\n",
    "    # 두 원이 접할 때\n",
    "    elif r_len_p == xy_len or r_len_n == xy_len:\n",
    "        print(1)\n",
    "\n",
    "    # 두 원이 겹칠 때\n",
    "    elif r_len_p > xy_len and r_len_n < xy_len:\n",
    "        print(2)"
   ]
  }
 ],
 "metadata": {
  "kernelspec": {
   "display_name": "Python 3",
   "language": "python",
   "name": "python3"
  },
  "language_info": {
   "codemirror_mode": {
    "name": "ipython",
    "version": 3
   },
   "file_extension": ".py",
   "mimetype": "text/x-python",
   "name": "python",
   "nbconvert_exporter": "python",
   "pygments_lexer": "ipython3",
   "version": "3.6.8"
  }
 },
 "nbformat": 4,
 "nbformat_minor": 4
}

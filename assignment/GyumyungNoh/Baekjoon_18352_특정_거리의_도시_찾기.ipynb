{
 "cells": [
  {
   "cell_type": "markdown",
   "metadata": {},
   "source": [
    "https://www.acmicpc.net/problem/18352"
   ]
  },
  {
   "cell_type": "code",
   "execution_count": 27,
   "metadata": {
    "scrolled": true
   },
   "outputs": [
    {
     "name": "stdout",
     "output_type": "stream",
     "text": [
      "4 4 2 1\n",
      "1 2\n",
      "1 3\n",
      "2 3\n",
      "2 4\n",
      "4\n"
     ]
    }
   ],
   "source": [
    "import sys\n",
    "from collections import deque\n",
    "\n",
    "N, M, K, X = list(map(int, sys.stdin.readline().split(' ')))\n",
    "\n",
    "graph = [[] for i in range(N + 1)]\n",
    "\n",
    "for i in range(M):\n",
    "    tmp = list(map(int, sys.stdin.readline().split(' ')))\n",
    "    graph[tmp[0]].append(tmp[1])\n",
    "        \n",
    "def bfs(graph, visited, X, K):\n",
    "    queue = deque([(X, 0)])\n",
    "    visited[X] = True\n",
    "    \n",
    "    while queue:      \n",
    "        # 최단 거리가 K인 도시만 남았을 때\n",
    "        if queue[0][1] == K:\n",
    "            break\n",
    "\n",
    "        node, distance = queue.popleft()\n",
    "            \n",
    "        for i in graph[node]:\n",
    "            if not visited[i]:\n",
    "                visited[i] = True\n",
    "                queue.append((i, distance + 1))\n",
    "    \n",
    "    nodes = [i[0] for i in queue]\n",
    "    return nodes\n",
    "    \n",
    "visited = [False] * (N + 1)\n",
    "nodes = bfs(graph, visited, X, K)\n",
    "\n",
    "if len(nodes) == 0:\n",
    "    print(-1)\n",
    "else:\n",
    "    nodes.sort()\n",
    "    for n in nodes:\n",
    "        print(n)  "
   ]
  }
 ],
 "metadata": {
  "kernelspec": {
   "display_name": "Python 3",
   "language": "python",
   "name": "python3"
  },
  "language_info": {
   "codemirror_mode": {
    "name": "ipython",
    "version": 3
   },
   "file_extension": ".py",
   "mimetype": "text/x-python",
   "name": "python",
   "nbconvert_exporter": "python",
   "pygments_lexer": "ipython3",
   "version": "3.7.6"
  }
 },
 "nbformat": 4,
 "nbformat_minor": 4
}

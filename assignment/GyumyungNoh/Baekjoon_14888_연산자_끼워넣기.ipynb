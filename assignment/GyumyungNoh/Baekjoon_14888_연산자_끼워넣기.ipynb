{
 "cells": [
  {
   "cell_type": "markdown",
   "metadata": {},
   "source": [
    "https://www.acmicpc.net/problem/14888"
   ]
  },
  {
   "cell_type": "code",
   "execution_count": null,
   "metadata": {},
   "outputs": [],
   "source": [
    "from itertools import permutations\n",
    "from collections import deque\n",
    "\n",
    "N = int(input())\n",
    "sequence = list(map(int, input().split()))\n",
    "count = list(map(int, input().split()))\n",
    "operators = ['+'] * count[0] + ['-'] * count[1] + ['*'] * count[2] + ['/'] * count[3]\n",
    "\n",
    "def calculate(equation):\n",
    "    queue = deque(equation)\n",
    "    result = queue.popleft()\n",
    "    \n",
    "    while queue:\n",
    "        operator = queue.popleft()\n",
    "        number = queue.popleft()\n",
    "        \n",
    "        if operator == '+':\n",
    "            result += number\n",
    "        elif operator == '-':\n",
    "            result -= number\n",
    "        elif operator == '*':\n",
    "            result *= number\n",
    "        else:\n",
    "            if result < 0:\n",
    "                result = -(-result // number)\n",
    "            else:\n",
    "                result = result // number\n",
    "                \n",
    "    return result\n",
    "\n",
    "results = []\n",
    "\n",
    "# 연산자의 모든 경우의 수에 대해\n",
    "for i in set(permutations(operators, len(operators))):\n",
    "    # 식 만들기\n",
    "    equation = [] # ex) [3, '+', 2, '-', 5]\n",
    "    for j in range(len(i)):\n",
    "        equation.append(sequence[j])\n",
    "        equation.append(i[j])\n",
    "    equation.append(sequence[-1])\n",
    "    \n",
    "    # 식 계산\n",
    "    results.append(calculate(equation))\n",
    "\n",
    "print(max(results))\n",
    "print(min(results))"
   ]
  }
 ],
 "metadata": {
  "kernelspec": {
   "display_name": "Python 3",
   "language": "python",
   "name": "python3"
  },
  "language_info": {
   "codemirror_mode": {
    "name": "ipython",
    "version": 3
   },
   "file_extension": ".py",
   "mimetype": "text/x-python",
   "name": "python",
   "nbconvert_exporter": "python",
   "pygments_lexer": "ipython3",
   "version": "3.7.6"
  }
 },
 "nbformat": 4,
 "nbformat_minor": 4
}

{
 "cells": [
  {
   "cell_type": "markdown",
   "metadata": {},
   "source": [
    "#### 입출력과 사칙연산"
   ]
  },
  {
   "cell_type": "code",
   "execution_count": 3,
   "metadata": {},
   "outputs": [
    {
     "name": "stdout",
     "output_type": "stream",
     "text": [
      "\\    /\\\n",
      " )  ( ')\n",
      "(  /  )\n",
      " \\(__)|\n"
     ]
    }
   ],
   "source": [
    "# 10171_고양이\n",
    "print(\"\\    /\\\\\")\n",
    "print(\" )  ( ')\")\n",
    "print(\"(  /  )\")\n",
    "print(\" \\\\(__)|\")"
   ]
  },
  {
   "cell_type": "code",
   "execution_count": 4,
   "metadata": {},
   "outputs": [
    {
     "name": "stdout",
     "output_type": "stream",
     "text": [
      "7 3\n",
      "10\n",
      "4\n",
      "21\n",
      "2\n",
      "1\n"
     ]
    }
   ],
   "source": [
    "# 10869_사칙연산\n",
    "lis = input()\n",
    "a = int(lis.split()[0])\n",
    "b = int(lis.split()[1])\n",
    "\n",
    "print(a+b)\n",
    "print(a-b)\n",
    "print(a*b)\n",
    "print(a//b)\n",
    "print(a%b)"
   ]
  },
  {
   "cell_type": "code",
   "execution_count": null,
   "metadata": {},
   "outputs": [],
   "source": []
  },
  {
   "cell_type": "markdown",
   "metadata": {},
   "source": [
    "#### if문"
   ]
  },
  {
   "cell_type": "code",
   "execution_count": 5,
   "metadata": {},
   "outputs": [
    {
     "name": "stdout",
     "output_type": "stream",
     "text": [
      "23 40\n",
      "22 55\n"
     ]
    }
   ],
   "source": [
    "# 2884_알람시계\n",
    "time = input()\n",
    "\n",
    "h = int(time.split()[0])\n",
    "m = int(time.split()[1])\n",
    "\n",
    "if m >= 45:\n",
    "    print('{} {}'.format(h, m - 45))\n",
    "else:\n",
    "    if h == 0:\n",
    "        print('{} {}'.format(23, m + 60 - 45))\n",
    "    else:\n",
    "        print('{} {}'.format(h - 1, m + 60 - 45))"
   ]
  },
  {
   "cell_type": "code",
   "execution_count": 39,
   "metadata": {},
   "outputs": [
    {
     "name": "stdout",
     "output_type": "stream",
     "text": [
      "-1\n",
      "-3\n",
      "3\n"
     ]
    }
   ],
   "source": [
    "# 14681_사분면 고르기\n",
    "x = int(input())\n",
    "y = int(input())\n",
    "\n",
    "if x * y > 0:\n",
    "    if x > 0:\n",
    "        print('1')\n",
    "    else:\n",
    "        print('3')\n",
    "else:\n",
    "    if x > 0:\n",
    "        print('4')\n",
    "    else:\n",
    "        print('2')"
   ]
  },
  {
   "cell_type": "code",
   "execution_count": null,
   "metadata": {},
   "outputs": [],
   "source": []
  },
  {
   "cell_type": "markdown",
   "metadata": {},
   "source": [
    "#### for문"
   ]
  },
  {
   "cell_type": "code",
   "execution_count": null,
   "metadata": {},
   "outputs": [],
   "source": [
    "# 11022_A+B-8\n",
    "import sys\n",
    "\n",
    "n = int(input())\n",
    "\n",
    "for i in range(n):\n",
    "    a, b = map(int, sys.stdin.readline().split())\n",
    "    print('Case #{}: {} + {} = {}'.format(i+1, a, b, a+b))"
   ]
  },
  {
   "cell_type": "code",
   "execution_count": 36,
   "metadata": {},
   "outputs": [
    {
     "name": "stdout",
     "output_type": "stream",
     "text": [
      "10 5\n",
      "1 3 5 7 8 9\n",
      "1 3\n"
     ]
    }
   ],
   "source": [
    "# 10871_X보다 작은 수\n",
    "a, x = map(int, input().split())\n",
    "ls = input()\n",
    "\n",
    "result = [i for i in ls.split() if int(i) < x]\n",
    "print(' '.join(result))"
   ]
  },
  {
   "cell_type": "code",
   "execution_count": null,
   "metadata": {},
   "outputs": [],
   "source": []
  },
  {
   "cell_type": "markdown",
   "metadata": {},
   "source": [
    "#### while문"
   ]
  },
  {
   "cell_type": "code",
   "execution_count": 66,
   "metadata": {},
   "outputs": [
    {
     "name": "stdout",
     "output_type": "stream",
     "text": [
      "3 5\n",
      "8\n",
      "\n"
     ]
    }
   ],
   "source": [
    "# 10951_A+B-4\n",
    "while True:\n",
    "    try:\n",
    "        a, b = map(int, input().split())\n",
    "        print(a+b)\n",
    "    except:\n",
    "        break"
   ]
  },
  {
   "cell_type": "code",
   "execution_count": 45,
   "metadata": {},
   "outputs": [
    {
     "name": "stdout",
     "output_type": "stream",
     "text": [
      "1\n",
      "60\n"
     ]
    }
   ],
   "source": [
    "# 1110_더하기 사이클\n",
    "n = int(input())\n",
    "cycle = 0\n",
    "m = n\n",
    "\n",
    "while(True):\n",
    "    tmp = m // 10 + m % 10\n",
    "    m = m % 10 * 10 + tmp % 10\n",
    "    cycle += 1\n",
    "    \n",
    "    if n == m:\n",
    "        break\n",
    "        \n",
    "print(cycle)"
   ]
  },
  {
   "cell_type": "code",
   "execution_count": null,
   "metadata": {},
   "outputs": [],
   "source": []
  },
  {
   "cell_type": "markdown",
   "metadata": {},
   "source": [
    "#### 실습 1"
   ]
  },
  {
   "cell_type": "code",
   "execution_count": 88,
   "metadata": {},
   "outputs": [
    {
     "name": "stdout",
     "output_type": "stream",
     "text": [
      "1 4 2\n",
      "2\n"
     ]
    }
   ],
   "source": [
    "# 10817_세 수\n",
    "ls = list(map(int, input().split()))\n",
    "ls.sort()\n",
    "print(ls[1])"
   ]
  },
  {
   "cell_type": "code",
   "execution_count": 128,
   "metadata": {},
   "outputs": [
    {
     "name": "stdout",
     "output_type": "stream",
     "text": [
      "3\n",
      "* *\n",
      " * \n",
      "* *\n",
      " * \n",
      "* *\n",
      " * \n"
     ]
    }
   ],
   "source": [
    "# 10996_별 찍기-21\n",
    "n = int(input())\n",
    "stars1 = '* ' * 50\n",
    "stars2 = ' *' * 50\n",
    "\n",
    "for i in range(n):\n",
    "    print(stars1[:n])\n",
    "    print(stars2[:n])"
   ]
  },
  {
   "cell_type": "code",
   "execution_count": null,
   "metadata": {},
   "outputs": [],
   "source": []
  },
  {
   "cell_type": "markdown",
   "metadata": {},
   "source": [
    "#### 1차원 배열"
   ]
  },
  {
   "cell_type": "code",
   "execution_count": 139,
   "metadata": {
    "scrolled": true
   },
   "outputs": [
    {
     "name": "stdout",
     "output_type": "stream",
     "text": [
      "5\n",
      "1 4 7 2 10\n",
      "1\n",
      "10\n"
     ]
    }
   ],
   "source": [
    "# 10818_최소, 최대\n",
    "n = int(input())\n",
    "ls = list(map(int, input().split()))\n",
    "\n",
    "print(min(ls))\n",
    "print(max(ls))"
   ]
  },
  {
   "cell_type": "code",
   "execution_count": 5,
   "metadata": {},
   "outputs": [
    {
     "name": "stdout",
     "output_type": "stream",
     "text": [
      "5\n",
      "5 50 50 70 80 100\n",
      "40.000%\n",
      "7 100 95 90 80 70 60 50\n",
      "57.143%\n",
      "3 70 90 80\n",
      "33.333%\n",
      "3 70 90 81\n",
      "66.667%\n",
      "9 100 99 98 97 96 95 94 93 91\n",
      "55.556%\n"
     ]
    }
   ],
   "source": [
    "# 4344_평균은 넘겠지\n",
    "cnt = int(input())\n",
    "\n",
    "for i in range(cnt):\n",
    "    grades = list(map(int, input().split()))\n",
    "    avg = sum(grades[1:]) / grades[0] \n",
    "    above_avg = [i for i in grades[1:] if i > avg]\n",
    "    print('%.3f' % (round(len(above_avg) / len(grades[1:]) * 100, 3)) + '%')"
   ]
  },
  {
   "cell_type": "code",
   "execution_count": null,
   "metadata": {},
   "outputs": [],
   "source": []
  },
  {
   "cell_type": "markdown",
   "metadata": {},
   "source": [
    "#### 함수"
   ]
  },
  {
   "cell_type": "code",
   "execution_count": null,
   "metadata": {},
   "outputs": [],
   "source": [
    "# 15596_정수 N개의 합\n",
    "def solve(a):\n",
    "    return sum(a)"
   ]
  },
  {
   "cell_type": "code",
   "execution_count": null,
   "metadata": {},
   "outputs": [],
   "source": []
  },
  {
   "cell_type": "markdown",
   "metadata": {},
   "source": [
    "#### 문자열"
   ]
  },
  {
   "cell_type": "code",
   "execution_count": 112,
   "metadata": {},
   "outputs": [
    {
     "name": "stdout",
     "output_type": "stream",
     "text": [
      "aaaadlfjei\n",
      "A\n"
     ]
    }
   ],
   "source": [
    "# 1157_단어공부\n",
    "import collections\n",
    "\n",
    "word = input().upper()\n",
    "dic = collections.Counter(word)\n",
    "\n",
    "max_val = max(dic.values())\n",
    "\n",
    "if list(dic.values()).count(max_val) != 1:\n",
    "    print('?')\n",
    "else:\n",
    "    for i in dic:\n",
    "        if dic[i] == max_val:\n",
    "            print(i)"
   ]
  },
  {
   "cell_type": "code",
   "execution_count": null,
   "metadata": {},
   "outputs": [],
   "source": []
  },
  {
   "cell_type": "markdown",
   "metadata": {},
   "source": [
    "#### 수학 1"
   ]
  },
  {
   "cell_type": "code",
   "execution_count": null,
   "metadata": {},
   "outputs": [],
   "source": [
    "# 2869_달팽이는 올라가고싶다\n",
    "lis = input()\n",
    "\n",
    "a, b, v = int(lis.split()[0]), int(lis.split()[1]), int(lis.split()[2])\n",
    "\n",
    "day = (v - a) // (a - b)\n",
    "\n",
    "if (v - a) % (a - b) == 0:\n",
    "    print(day + 1)\n",
    "else:\n",
    "    print(day + 2)"
   ]
  },
  {
   "cell_type": "code",
   "execution_count": null,
   "metadata": {},
   "outputs": [],
   "source": []
  },
  {
   "cell_type": "markdown",
   "metadata": {},
   "source": [
    "#### 수학 2"
   ]
  },
  {
   "cell_type": "code",
   "execution_count": 16,
   "metadata": {},
   "outputs": [
    {
     "name": "stdout",
     "output_type": "stream",
     "text": [
      "6\n",
      "1 3 7 6 9 11\n",
      "3\n"
     ]
    }
   ],
   "source": [
    "# 1978_소수 찾기\n",
    "n = int(input())\n",
    "ls = list(map(int, input().split()))\n",
    "cnt = 0\n",
    "\n",
    "for i in ls:\n",
    "    if i == 1:\n",
    "        continue\n",
    "    for j in range(2, i):\n",
    "        if i % j == 0:\n",
    "            cnt -= 1\n",
    "            break\n",
    "    cnt += 1\n",
    "\n",
    "print(cnt)"
   ]
  }
 ],
 "metadata": {
  "kernelspec": {
   "display_name": "Python 3",
   "language": "python",
   "name": "python3"
  },
  "language_info": {
   "codemirror_mode": {
    "name": "ipython",
    "version": 3
   },
   "file_extension": ".py",
   "mimetype": "text/x-python",
   "name": "python",
   "nbconvert_exporter": "python",
   "pygments_lexer": "ipython3",
   "version": "3.7.6"
  }
 },
 "nbformat": 4,
 "nbformat_minor": 4
}

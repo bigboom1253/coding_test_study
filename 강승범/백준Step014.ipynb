{
  "nbformat": 4,
  "nbformat_minor": 0,
  "metadata": {
    "colab": {
      "name": "백준Step014.ipynb",
      "provenance": [],
      "collapsed_sections": [],
      "authorship_tag": "ABX9TyON5bppbojU6j5YTUsB4RbZ",
      "include_colab_link": true
    },
    "kernelspec": {
      "name": "python3",
      "display_name": "Python 3"
    }
  },
  "cells": [
    {
      "cell_type": "markdown",
      "metadata": {
        "id": "view-in-github",
        "colab_type": "text"
      },
      "source": [
        "<a href=\"https://colab.research.google.com/github/bigboom1253/coding_test_study/blob/master/%EA%B0%95%EC%8A%B9%EB%B2%94/%EB%B0%B1%EC%A4%80Step014.ipynb\" target=\"_parent\"><img src=\"https://colab.research.google.com/assets/colab-badge.svg\" alt=\"Open In Colab\"/></a>"
      ]
    },
    {
      "cell_type": "code",
      "metadata": {
        "id": "LwxMoXaCVnL5",
        "colab_type": "code",
        "colab": {}
      },
      "source": [
        "#09. 10814\n",
        "나이순 정렬"
      ],
      "execution_count": null,
      "outputs": []
    },
    {
      "cell_type": "code",
      "metadata": {
        "id": "5K5b35YrWjF7",
        "colab_type": "code",
        "colab": {}
      },
      "source": [
        "3\n",
        "21 Junkyu\n",
        "21 Dohyun\n",
        "20 Sunyoung"
      ],
      "execution_count": null,
      "outputs": []
    },
    {
      "cell_type": "code",
      "metadata": {
        "id": "0ovTppaUVzZY",
        "colab_type": "code",
        "colab": {
          "base_uri": "https://localhost:8080/",
          "height": 212
        },
        "outputId": "4113e340-0551-4876-844d-a3b0187b82f7"
      },
      "source": [
        "n = int(input())\n",
        "tmp = []\n",
        "for i in range(n):\n",
        "    tmp.extend(input().split())\n",
        "\n",
        "for i in range(n,1,-1):\n",
        "    tmpAge = 99\n",
        "    tmpName = \"\"\n",
        "    for j in range(i):\n",
        "        if tmpAge > tmp[2*j]:\n",
        "            tmp.insert(,tmp.pop(2*j))\n",
        "            tmp.insert(,tmp.pop(2*j))\n",
        "\n",
        "for i in range(n):\n",
        "    print(tmp[2*i],end=\" \")\n",
        "    print(tmp[2*i+1])"
      ],
      "execution_count": 10,
      "outputs": [
        {
          "output_type": "stream",
          "text": [
            "3\n",
            "21 Jasdf\n",
            "21 Dqwer\n",
            "20 Szxcv\n",
            "iter 1 0\n",
            "iter 1 2\n",
            "iter 2 1\n",
            "iter 2 2\n",
            "21 Dqwer\n",
            "20 Szxcv\n",
            "21 Jasdf\n"
          ],
          "name": "stdout"
        }
      ]
    },
    {
      "cell_type": "code",
      "metadata": {
        "id": "93B3fFxOwKMZ",
        "colab_type": "code",
        "colab": {}
      },
      "source": [
        "for i in range(n,1,-1):\n",
        "    tmpAge = 99\n",
        "    tmpName = \"\"\n",
        "    for j in range(i):\n",
        "        if tmpAge > tmp[2*j]:\n",
        "            tmpAge = tmp.pop(2*j)\n",
        "            tmpName = tmp.pop(2*j)"
      ],
      "execution_count": null,
      "outputs": []
    }
  ]
}